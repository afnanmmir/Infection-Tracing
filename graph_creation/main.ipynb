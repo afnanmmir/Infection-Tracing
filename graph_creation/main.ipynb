{
 "cells": [
  {
   "cell_type": "markdown",
   "metadata": {},
   "source": [
    "# Import Modules"
   ]
  },
  {
   "cell_type": "code",
   "execution_count": 79,
   "metadata": {},
   "outputs": [],
   "source": [
    "import pandas as pd\n",
    "import numpy as np\n",
    "import matplotlib.pyplot as plt\n",
    "import networkx as nx"
   ]
  },
  {
   "cell_type": "code",
   "execution_count": 80,
   "metadata": {},
   "outputs": [
    {
     "data": {
      "text/html": [
       "<div>\n",
       "<style scoped>\n",
       "    .dataframe tbody tr th:only-of-type {\n",
       "        vertical-align: middle;\n",
       "    }\n",
       "\n",
       "    .dataframe tbody tr th {\n",
       "        vertical-align: top;\n",
       "    }\n",
       "\n",
       "    .dataframe thead th {\n",
       "        text-align: right;\n",
       "    }\n",
       "</style>\n",
       "<table border=\"1\" class=\"dataframe\">\n",
       "  <thead>\n",
       "    <tr style=\"text-align: right;\">\n",
       "      <th></th>\n",
       "      <th>persistentid</th>\n",
       "      <th>venueid</th>\n",
       "      <th>utc_date</th>\n",
       "      <th>utc_hour</th>\n",
       "      <th>dwell</th>\n",
       "    </tr>\n",
       "  </thead>\n",
       "  <tbody>\n",
       "    <tr>\n",
       "      <th>0</th>\n",
       "      <td>5903d26cdcecbd13590c8fe594de785f19b16004e19156...</td>\n",
       "      <td>40b52f80f964a52051001fe3</td>\n",
       "      <td>2020-07-18</td>\n",
       "      <td>22</td>\n",
       "      <td>60</td>\n",
       "    </tr>\n",
       "    <tr>\n",
       "      <th>1</th>\n",
       "      <td>cc371dcb888f9ec0ab9a4ecabc4d49e51288313fb17a47...</td>\n",
       "      <td>40b52f80f964a52051001fe3</td>\n",
       "      <td>2020-07-18</td>\n",
       "      <td>22</td>\n",
       "      <td>1011</td>\n",
       "    </tr>\n",
       "    <tr>\n",
       "      <th>2</th>\n",
       "      <td>21e09ed692d56697e3c26b777a53a411cd21bed5527c5b...</td>\n",
       "      <td>40b52f80f964a52051001fe3</td>\n",
       "      <td>2020-07-25</td>\n",
       "      <td>0</td>\n",
       "      <td>1058</td>\n",
       "    </tr>\n",
       "    <tr>\n",
       "      <th>3</th>\n",
       "      <td>e170f93db0ea4930ea2c0d2167feddb1b4fe2b5412d826...</td>\n",
       "      <td>40b52f80f964a52051001fe3</td>\n",
       "      <td>2020-07-25</td>\n",
       "      <td>18</td>\n",
       "      <td>30</td>\n",
       "    </tr>\n",
       "    <tr>\n",
       "      <th>4</th>\n",
       "      <td>63164c43b459b4260a338979948ead113855ddaafb9d52...</td>\n",
       "      <td>40b52f80f964a52051001fe3</td>\n",
       "      <td>2020-07-29</td>\n",
       "      <td>18</td>\n",
       "      <td>763</td>\n",
       "    </tr>\n",
       "  </tbody>\n",
       "</table>\n",
       "</div>"
      ],
      "text/plain": [
       "                                        persistentid  \\\n",
       "0  5903d26cdcecbd13590c8fe594de785f19b16004e19156...   \n",
       "1  cc371dcb888f9ec0ab9a4ecabc4d49e51288313fb17a47...   \n",
       "2  21e09ed692d56697e3c26b777a53a411cd21bed5527c5b...   \n",
       "3  e170f93db0ea4930ea2c0d2167feddb1b4fe2b5412d826...   \n",
       "4  63164c43b459b4260a338979948ead113855ddaafb9d52...   \n",
       "\n",
       "                    venueid    utc_date  utc_hour  dwell  \n",
       "0  40b52f80f964a52051001fe3  2020-07-18        22     60  \n",
       "1  40b52f80f964a52051001fe3  2020-07-18        22   1011  \n",
       "2  40b52f80f964a52051001fe3  2020-07-25         0   1058  \n",
       "3  40b52f80f964a52051001fe3  2020-07-25        18     30  \n",
       "4  40b52f80f964a52051001fe3  2020-07-29        18    763  "
      ]
     },
     "execution_count": 80,
     "metadata": {},
     "output_type": "execute_result"
    }
   ],
   "source": [
    "# Import the data\n",
    "df = pd.read_csv('../RVF_ATX_PID_HZ-2020-07.tsv', sep='\\t')\n",
    "# filter out certain columns\n",
    "df = df.drop(columns=['local_date', 'local_hour', 'gender', 'age', 'full_panel_reweighted_sag_score', 'home_zip'])\n",
    "df.head()"
   ]
  },
  {
   "cell_type": "code",
   "execution_count": 81,
   "metadata": {},
   "outputs": [
    {
     "name": "stdout",
     "output_type": "stream",
     "text": [
      "                                         persistentid  \\\n",
      "5   ad9adea8e7d63428e9372e0d670244e5033d4d2988e554...   \n",
      "10  b8ea7697c88dc1f4a1f9b9bbe60d07c304ffc1539ee806...   \n",
      "14  d7891bc5540d1352f5149f902922ffa923fe1d27e06be8...   \n",
      "17  fccee91660f332ee4b571403661ecc3aed3d29fbc89792...   \n",
      "18  ff8ff5da9fbb2a65d408a333fa1359616c899634f246d4...   \n",
      "\n",
      "                     venueid    utc_date  utc_hour  dwell  formatted_utc_hour  \\\n",
      "5   40b52f80f964a52051001fe3  2020-07-03        20   9208                  20   \n",
      "10  40b52f80f964a52051001fe3  2020-07-04         0    112                   0   \n",
      "14  440fec14f964a520aa301fe3  2020-07-03        23   7085                  23   \n",
      "17  506b1adae4b0bdc21bb2ab40  2020-07-02        14   2246                  14   \n",
      "18  506b1adae4b0bdc21bb2ab40  2020-07-03        19   2289                  19   \n",
      "\n",
      "          arrival_time      departure_time  \n",
      "5  2020-07-03 20:00:00 2020-07-10 05:28:00  \n",
      "10 2020-07-04 00:00:00 2020-07-04 01:52:00  \n",
      "14 2020-07-03 23:00:00 2020-07-08 21:05:00  \n",
      "17 2020-07-02 14:00:00 2020-07-04 03:26:00  \n",
      "18 2020-07-03 19:00:00 2020-07-05 09:09:00  \n"
     ]
    },
    {
     "name": "stderr",
     "output_type": "stream",
     "text": [
      "/tmp/ipykernel_25322/342098388.py:11: SettingWithCopyWarning: \n",
      "A value is trying to be set on a copy of a slice from a DataFrame.\n",
      "Try using .loc[row_indexer,col_indexer] = value instead\n",
      "\n",
      "See the caveats in the documentation: https://pandas.pydata.org/pandas-docs/stable/user_guide/indexing.html#returning-a-view-versus-a-copy\n",
      "  filtered_df['formatted_utc_hour'] = filtered_df['utc_hour'].astype(int)\n",
      "/tmp/ipykernel_25322/342098388.py:12: SettingWithCopyWarning: \n",
      "A value is trying to be set on a copy of a slice from a DataFrame.\n",
      "Try using .loc[row_indexer,col_indexer] = value instead\n",
      "\n",
      "See the caveats in the documentation: https://pandas.pydata.org/pandas-docs/stable/user_guide/indexing.html#returning-a-view-versus-a-copy\n",
      "  filtered_df['arrival_time'] = pd.to_datetime(filtered_df['utc_date']) + pd.to_timedelta(filtered_df['formatted_utc_hour'], unit='h')\n",
      "/tmp/ipykernel_25322/342098388.py:14: SettingWithCopyWarning: \n",
      "A value is trying to be set on a copy of a slice from a DataFrame.\n",
      "Try using .loc[row_indexer,col_indexer] = value instead\n",
      "\n",
      "See the caveats in the documentation: https://pandas.pydata.org/pandas-docs/stable/user_guide/indexing.html#returning-a-view-versus-a-copy\n",
      "  filtered_df['departure_time'] = filtered_df['arrival_time'] + pd.to_timedelta(filtered_df['dwell'], unit='m')\n"
     ]
    }
   ],
   "source": [
    "# filter out rows that are not within a range\n",
    "\n",
    "# Define the date range\n",
    "start_date = pd.to_datetime('2020-07-01')\n",
    "end_date = pd.to_datetime('2020-07-05')\n",
    "dwell_time_threshold = 60 # in minutes\n",
    "\n",
    "# Filter rows within the date range\n",
    "filtered_df = df[(pd.to_datetime(df['utc_date']) >= start_date) & (pd.to_datetime(df['utc_date']) <= end_date) & (df['dwell'] >= dwell_time_threshold)]\n",
    "# add a new column to dataframe that represents minutes\n",
    "filtered_df['formatted_utc_hour'] = filtered_df['utc_hour'].astype(int)\n",
    "filtered_df['arrival_time'] = pd.to_datetime(filtered_df['utc_date']) + pd.to_timedelta(filtered_df['formatted_utc_hour'], unit='h')\n",
    "\n",
    "filtered_df['departure_time'] = filtered_df['arrival_time'] + pd.to_timedelta(filtered_df['dwell'], unit='m')\n",
    "print(filtered_df.head())"
   ]
  },
  {
   "cell_type": "code",
   "execution_count": 82,
   "metadata": {},
   "outputs": [],
   "source": [
    "# add all devices as nodes to Graph\n",
    "# get all devices\n",
    "devices = filtered_df['persistentid'].unique()\n",
    "G = nx.Graph()\n",
    "for device in devices:\n",
    "    # add device as a node to G\n",
    "    G.add_node(device)\n",
    "    "
   ]
  },
  {
   "cell_type": "code",
   "execution_count": 84,
   "metadata": {},
   "outputs": [
    {
     "ename": "KeyboardInterrupt",
     "evalue": "",
     "output_type": "error",
     "traceback": [
      "\u001b[0;31m---------------------------------------------------------------------------\u001b[0m",
      "\u001b[0;31mKeyboardInterrupt\u001b[0m                         Traceback (most recent call last)",
      "\u001b[1;32m/mnt/c/Users/patel/Documents/Machine Learning in Real World Networks/Infection-Tracing/graph_creation/main.ipynb Cell 6\u001b[0m line \u001b[0;36m4\n\u001b[1;32m      <a href='vscode-notebook-cell://wsl%2Bubuntu-20.04/mnt/c/Users/patel/Documents/Machine%20Learning%20in%20Real%20World%20Networks/Infection-Tracing/graph_creation/main.ipynb#X14sdnNjb2RlLXJlbW90ZQ%3D%3D?line=1'>2</a>\u001b[0m filtered_df \u001b[39m=\u001b[39m filtered_df\u001b[39m.\u001b[39msort_values(by\u001b[39m=\u001b[39m[\u001b[39m'\u001b[39m\u001b[39marrival_time\u001b[39m\u001b[39m'\u001b[39m])\n\u001b[1;32m      <a href='vscode-notebook-cell://wsl%2Bubuntu-20.04/mnt/c/Users/patel/Documents/Machine%20Learning%20in%20Real%20World%20Networks/Infection-Tracing/graph_creation/main.ipynb#X14sdnNjb2RlLXJlbW90ZQ%3D%3D?line=2'>3</a>\u001b[0m \u001b[39mfor\u001b[39;00m i, row_i \u001b[39min\u001b[39;00m filtered_df\u001b[39m.\u001b[39miterrows():\n\u001b[0;32m----> <a href='vscode-notebook-cell://wsl%2Bubuntu-20.04/mnt/c/Users/patel/Documents/Machine%20Learning%20in%20Real%20World%20Networks/Infection-Tracing/graph_creation/main.ipynb#X14sdnNjb2RlLXJlbW90ZQ%3D%3D?line=3'>4</a>\u001b[0m     \u001b[39mfor\u001b[39;00m j, row_j \u001b[39min\u001b[39;00m filtered_df\u001b[39m.\u001b[39miterrows():\n\u001b[1;32m      <a href='vscode-notebook-cell://wsl%2Bubuntu-20.04/mnt/c/Users/patel/Documents/Machine%20Learning%20in%20Real%20World%20Networks/Infection-Tracing/graph_creation/main.ipynb#X14sdnNjb2RlLXJlbW90ZQ%3D%3D?line=4'>5</a>\u001b[0m         \u001b[39mif\u001b[39;00m i \u001b[39m!=\u001b[39m j:\n\u001b[1;32m      <a href='vscode-notebook-cell://wsl%2Bubuntu-20.04/mnt/c/Users/patel/Documents/Machine%20Learning%20in%20Real%20World%20Networks/Infection-Tracing/graph_creation/main.ipynb#X14sdnNjb2RlLXJlbW90ZQ%3D%3D?line=5'>6</a>\u001b[0m             \u001b[39m# check if the two rows are within 30 minutes of each other\u001b[39;00m\n\u001b[1;32m      <a href='vscode-notebook-cell://wsl%2Bubuntu-20.04/mnt/c/Users/patel/Documents/Machine%20Learning%20in%20Real%20World%20Networks/Infection-Tracing/graph_creation/main.ipynb#X14sdnNjb2RlLXJlbW90ZQ%3D%3D?line=6'>7</a>\u001b[0m             first \u001b[39m=\u001b[39m (row_i[\u001b[39m'\u001b[39m\u001b[39marrival_time\u001b[39m\u001b[39m'\u001b[39m], row_i[\u001b[39m'\u001b[39m\u001b[39mdeparture_time\u001b[39m\u001b[39m'\u001b[39m])\n",
      "File \u001b[0;32m~/miniconda3/envs/DataScience/lib/python3.11/site-packages/pandas/core/frame.py:1453\u001b[0m, in \u001b[0;36mDataFrame.iterrows\u001b[0;34m(self)\u001b[0m\n\u001b[1;32m   1451\u001b[0m using_cow \u001b[39m=\u001b[39m using_copy_on_write()\n\u001b[1;32m   1452\u001b[0m \u001b[39mfor\u001b[39;00m k, v \u001b[39min\u001b[39;00m \u001b[39mzip\u001b[39m(\u001b[39mself\u001b[39m\u001b[39m.\u001b[39mindex, \u001b[39mself\u001b[39m\u001b[39m.\u001b[39mvalues):\n\u001b[0;32m-> 1453\u001b[0m     s \u001b[39m=\u001b[39m klass(v, index\u001b[39m=\u001b[39;49mcolumns, name\u001b[39m=\u001b[39;49mk)\u001b[39m.\u001b[39m__finalize__(\u001b[39mself\u001b[39m)\n\u001b[1;32m   1454\u001b[0m     \u001b[39mif\u001b[39;00m using_cow \u001b[39mand\u001b[39;00m \u001b[39mself\u001b[39m\u001b[39m.\u001b[39m_mgr\u001b[39m.\u001b[39mis_single_block:\n\u001b[1;32m   1455\u001b[0m         s\u001b[39m.\u001b[39m_mgr\u001b[39m.\u001b[39madd_references(\u001b[39mself\u001b[39m\u001b[39m.\u001b[39m_mgr)  \u001b[39m# type: ignore[arg-type]\u001b[39;00m\n",
      "File \u001b[0;32m~/miniconda3/envs/DataScience/lib/python3.11/site-packages/pandas/core/series.py:398\u001b[0m, in \u001b[0;36mSeries.__init__\u001b[0;34m(self, data, index, dtype, name, copy, fastpath)\u001b[0m\n\u001b[1;32m    395\u001b[0m     \u001b[39mreturn\u001b[39;00m\n\u001b[1;32m    397\u001b[0m \u001b[39mif\u001b[39;00m \u001b[39misinstance\u001b[39m(data, (ExtensionArray, np\u001b[39m.\u001b[39mndarray)):\n\u001b[0;32m--> 398\u001b[0m     \u001b[39mif\u001b[39;00m copy \u001b[39mis\u001b[39;00m \u001b[39mnot\u001b[39;00m \u001b[39mFalse\u001b[39;00m \u001b[39mand\u001b[39;00m using_copy_on_write():\n\u001b[1;32m    399\u001b[0m         \u001b[39mif\u001b[39;00m dtype \u001b[39mis\u001b[39;00m \u001b[39mNone\u001b[39;00m \u001b[39mor\u001b[39;00m astype_is_view(data\u001b[39m.\u001b[39mdtype, pandas_dtype(dtype)):\n\u001b[1;32m    400\u001b[0m             data \u001b[39m=\u001b[39m data\u001b[39m.\u001b[39mcopy()\n",
      "File \u001b[0;32m~/miniconda3/envs/DataScience/lib/python3.11/site-packages/pandas/_config/__init__.py:33\u001b[0m, in \u001b[0;36musing_copy_on_write\u001b[0;34m()\u001b[0m\n\u001b[1;32m     21\u001b[0m \u001b[39mfrom\u001b[39;00m \u001b[39mpandas\u001b[39;00m\u001b[39m.\u001b[39;00m\u001b[39m_config\u001b[39;00m\u001b[39m.\u001b[39;00m\u001b[39mconfig\u001b[39;00m \u001b[39mimport\u001b[39;00m (\n\u001b[1;32m     22\u001b[0m     _global_config,\n\u001b[1;32m     23\u001b[0m     describe_option,\n\u001b[0;32m   (...)\u001b[0m\n\u001b[1;32m     28\u001b[0m     set_option,\n\u001b[1;32m     29\u001b[0m )\n\u001b[1;32m     30\u001b[0m \u001b[39mfrom\u001b[39;00m \u001b[39mpandas\u001b[39;00m\u001b[39m.\u001b[39;00m\u001b[39m_config\u001b[39;00m\u001b[39m.\u001b[39;00m\u001b[39mdisplay\u001b[39;00m \u001b[39mimport\u001b[39;00m detect_console_encoding\n\u001b[0;32m---> 33\u001b[0m \u001b[39mdef\u001b[39;00m \u001b[39musing_copy_on_write\u001b[39m() \u001b[39m-\u001b[39m\u001b[39m>\u001b[39m \u001b[39mbool\u001b[39m:\n\u001b[1;32m     34\u001b[0m     _mode_options \u001b[39m=\u001b[39m _global_config[\u001b[39m\"\u001b[39m\u001b[39mmode\u001b[39m\u001b[39m\"\u001b[39m]\n\u001b[1;32m     35\u001b[0m     \u001b[39mreturn\u001b[39;00m _mode_options[\u001b[39m\"\u001b[39m\u001b[39mcopy_on_write\u001b[39m\u001b[39m\"\u001b[39m] \u001b[39mand\u001b[39;00m _mode_options[\u001b[39m\"\u001b[39m\u001b[39mdata_manager\u001b[39m\u001b[39m\"\u001b[39m] \u001b[39m==\u001b[39m \u001b[39m\"\u001b[39m\u001b[39mblock\u001b[39m\u001b[39m\"\u001b[39m\n",
      "\u001b[0;31mKeyboardInterrupt\u001b[0m: "
     ]
    }
   ],
   "source": [
    "# sort the dataframe by arrival time\n",
    "filtered_df = filtered_df.sort_values(by=['arrival_time'])\n",
    "for i, row_i in filtered_df.iterrows():\n",
    "    for j, row_j in filtered_df.iterrows():\n",
    "        if i != j:\n",
    "            # check if the two rows are within 30 minutes of each other\n",
    "            first = (row_i['arrival_time'], row_i['departure_time'])\n",
    "            second = (row_j['arrival_time'], row_j['departure_time'])\n",
    "            # check if the two time intervals overlap, by atleast 60 minutes\n",
    "            difference = second[0] - first[1]\n",
    "            if difference.seconds >= 3600:\n",
    "                # add edge between the two nodes\n",
    "                G.add_edge(row_i['persistentid'], row_j['persistentid'])\n",
    "nx.write_gpickle(G, \"2020-07-01__to__2020-07-05.gpickle\")"
   ]
  },
  {
   "cell_type": "code",
   "execution_count": null,
   "metadata": {},
   "outputs": [],
   "source": [
    "nx.draw(G, with_labels=True)"
   ]
  },
  {
   "cell_type": "code",
   "execution_count": 78,
   "metadata": {},
   "outputs": [],
   "source": [
    "# # connecting edges between every device if they were at the same location for a specified amount of dwell time\n",
    "# groups = dict()\n",
    "# # df['combined_data'] = df['venueid'].astype(str) + df['utc_date'].astype(str) + df['utc_hour'].astype(str)\n",
    "# filtered_df['index'] = filtered_df.index\n",
    "# grouped_df = filtered_df.groupby(['venueid', 'utc_date', 'utc_hour'])['index'].apply(list).reset_index(name='group')\n",
    "# grouped_df.head()"
   ]
  },
  {
   "cell_type": "code",
   "execution_count": 77,
   "metadata": {},
   "outputs": [],
   "source": [
    "# for e in grouped_df['group']:\n",
    "#     if len(e) > 1:\n",
    "#         for n1 in e:\n",
    "#             for n2 in e:\n",
    "#                 if n1 == n2: continue\n",
    "#                 G.add_edge(n1, n2)"
   ]
  },
  {
   "cell_type": "code",
   "execution_count": 28,
   "metadata": {},
   "outputs": [],
   "source": [
    "# nx.draw(G, with_labels=True)"
   ]
  },
  {
   "cell_type": "code",
   "execution_count": null,
   "metadata": {},
   "outputs": [],
   "source": []
  }
 ],
 "metadata": {
  "kernelspec": {
   "display_name": "DataScience",
   "language": "python",
   "name": "python3"
  },
  "language_info": {
   "codemirror_mode": {
    "name": "ipython",
    "version": 3
   },
   "file_extension": ".py",
   "mimetype": "text/x-python",
   "name": "python",
   "nbconvert_exporter": "python",
   "pygments_lexer": "ipython3",
   "version": "3.11.3"
  },
  "orig_nbformat": 4
 },
 "nbformat": 4,
 "nbformat_minor": 2
}
