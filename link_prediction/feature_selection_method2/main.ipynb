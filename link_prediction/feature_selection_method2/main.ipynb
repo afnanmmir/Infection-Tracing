{
 "cells": [
  {
   "cell_type": "code",
   "execution_count": 16,
   "metadata": {},
   "outputs": [],
   "source": [
    "import pandas as pd\n",
    "import numpy as np\n",
    "import matplotlib.pyplot as plt\n",
    "import networkx as nx\n",
    "import dgl\n",
    "import torch\n",
    "import scipy.sparse as sp\n",
    "import torch.nn as nn\n",
    "from node2vec import Node2Vec"
   ]
  },
  {
   "cell_type": "markdown",
   "metadata": {},
   "source": [
    "## Load in the data"
   ]
  },
  {
   "cell_type": "code",
   "execution_count": 17,
   "metadata": {},
   "outputs": [
    {
     "data": {
      "text/html": [
       "<div>\n",
       "<style scoped>\n",
       "    .dataframe tbody tr th:only-of-type {\n",
       "        vertical-align: middle;\n",
       "    }\n",
       "\n",
       "    .dataframe tbody tr th {\n",
       "        vertical-align: top;\n",
       "    }\n",
       "\n",
       "    .dataframe thead th {\n",
       "        text-align: right;\n",
       "    }\n",
       "</style>\n",
       "<table border=\"1\" class=\"dataframe\">\n",
       "  <thead>\n",
       "    <tr style=\"text-align: right;\">\n",
       "      <th></th>\n",
       "      <th>persistentid</th>\n",
       "      <th>venueid</th>\n",
       "      <th>utc_date</th>\n",
       "      <th>utc_hour</th>\n",
       "      <th>local_date</th>\n",
       "      <th>local_hour</th>\n",
       "      <th>gender</th>\n",
       "      <th>age</th>\n",
       "      <th>full_panel_reweighted_sag_score</th>\n",
       "      <th>dwell</th>\n",
       "      <th>home_zip</th>\n",
       "    </tr>\n",
       "  </thead>\n",
       "  <tbody>\n",
       "    <tr>\n",
       "      <th>0</th>\n",
       "      <td>5903d26cdcecbd13590c8fe594de785f19b16004e19156...</td>\n",
       "      <td>40b52f80f964a52051001fe3</td>\n",
       "      <td>2020-07-18</td>\n",
       "      <td>22</td>\n",
       "      <td>2020-07-18</td>\n",
       "      <td>17</td>\n",
       "      <td>Female</td>\n",
       "      <td>Age_45_to_49</td>\n",
       "      <td>159.851478</td>\n",
       "      <td>60</td>\n",
       "      <td>77060.0</td>\n",
       "    </tr>\n",
       "    <tr>\n",
       "      <th>1</th>\n",
       "      <td>cc371dcb888f9ec0ab9a4ecabc4d49e51288313fb17a47...</td>\n",
       "      <td>40b52f80f964a52051001fe3</td>\n",
       "      <td>2020-07-18</td>\n",
       "      <td>22</td>\n",
       "      <td>2020-07-18</td>\n",
       "      <td>17</td>\n",
       "      <td>Female</td>\n",
       "      <td>Age_25_to_29</td>\n",
       "      <td>223.827293</td>\n",
       "      <td>1011</td>\n",
       "      <td>75024.0</td>\n",
       "    </tr>\n",
       "    <tr>\n",
       "      <th>2</th>\n",
       "      <td>21e09ed692d56697e3c26b777a53a411cd21bed5527c5b...</td>\n",
       "      <td>40b52f80f964a52051001fe3</td>\n",
       "      <td>2020-07-25</td>\n",
       "      <td>0</td>\n",
       "      <td>2020-07-24</td>\n",
       "      <td>19</td>\n",
       "      <td>Male</td>\n",
       "      <td>Age_35_to_39</td>\n",
       "      <td>110.797268</td>\n",
       "      <td>1058</td>\n",
       "      <td>NaN</td>\n",
       "    </tr>\n",
       "    <tr>\n",
       "      <th>3</th>\n",
       "      <td>e170f93db0ea4930ea2c0d2167feddb1b4fe2b5412d826...</td>\n",
       "      <td>40b52f80f964a52051001fe3</td>\n",
       "      <td>2020-07-25</td>\n",
       "      <td>18</td>\n",
       "      <td>2020-07-25</td>\n",
       "      <td>13</td>\n",
       "      <td>NaN</td>\n",
       "      <td>NaN</td>\n",
       "      <td>0.000000</td>\n",
       "      <td>30</td>\n",
       "      <td>NaN</td>\n",
       "    </tr>\n",
       "    <tr>\n",
       "      <th>4</th>\n",
       "      <td>63164c43b459b4260a338979948ead113855ddaafb9d52...</td>\n",
       "      <td>40b52f80f964a52051001fe3</td>\n",
       "      <td>2020-07-29</td>\n",
       "      <td>18</td>\n",
       "      <td>2020-07-29</td>\n",
       "      <td>13</td>\n",
       "      <td>Male</td>\n",
       "      <td>Age_35_to_39</td>\n",
       "      <td>137.821169</td>\n",
       "      <td>763</td>\n",
       "      <td>78660.0</td>\n",
       "    </tr>\n",
       "  </tbody>\n",
       "</table>\n",
       "</div>"
      ],
      "text/plain": [
       "                                        persistentid  \\\n",
       "0  5903d26cdcecbd13590c8fe594de785f19b16004e19156...   \n",
       "1  cc371dcb888f9ec0ab9a4ecabc4d49e51288313fb17a47...   \n",
       "2  21e09ed692d56697e3c26b777a53a411cd21bed5527c5b...   \n",
       "3  e170f93db0ea4930ea2c0d2167feddb1b4fe2b5412d826...   \n",
       "4  63164c43b459b4260a338979948ead113855ddaafb9d52...   \n",
       "\n",
       "                    venueid    utc_date  utc_hour  local_date  local_hour  \\\n",
       "0  40b52f80f964a52051001fe3  2020-07-18        22  2020-07-18          17   \n",
       "1  40b52f80f964a52051001fe3  2020-07-18        22  2020-07-18          17   \n",
       "2  40b52f80f964a52051001fe3  2020-07-25         0  2020-07-24          19   \n",
       "3  40b52f80f964a52051001fe3  2020-07-25        18  2020-07-25          13   \n",
       "4  40b52f80f964a52051001fe3  2020-07-29        18  2020-07-29          13   \n",
       "\n",
       "   gender           age  full_panel_reweighted_sag_score  dwell  home_zip  \n",
       "0  Female  Age_45_to_49                       159.851478     60   77060.0  \n",
       "1  Female  Age_25_to_29                       223.827293   1011   75024.0  \n",
       "2    Male  Age_35_to_39                       110.797268   1058       NaN  \n",
       "3     NaN           NaN                         0.000000     30       NaN  \n",
       "4    Male  Age_35_to_39                       137.821169    763   78660.0  "
      ]
     },
     "execution_count": 17,
     "metadata": {},
     "output_type": "execute_result"
    }
   ],
   "source": [
    "# Import the data\n",
    "df = pd.read_csv('../../RVF_ATX_PID_HZ-2020-07.tsv', sep='\\t')\n",
    "# filter out certain columns\n",
    "\n",
    "dwell_time_threshold = 60 # in minutes\n",
    "start_date = pd.to_datetime('2020-07-01')\n",
    "end_date = pd.to_datetime('2020-07-06')\n",
    "\n",
    "filtered_df = df[(pd.to_datetime(df['utc_date']) >= start_date) & (pd.to_datetime(df['utc_date']) <= end_date) & (df['dwell'] >= dwell_time_threshold)]\n",
    "df.head()"
   ]
  },
  {
   "cell_type": "code",
   "execution_count": 18,
   "metadata": {},
   "outputs": [],
   "source": [
    "potential_features = ['persistentid', 'gender', 'age', 'full_panel_reweighted_sag_score']"
   ]
  },
  {
   "cell_type": "code",
   "execution_count": 19,
   "metadata": {},
   "outputs": [
    {
     "data": {
      "text/html": [
       "<div>\n",
       "<style scoped>\n",
       "    .dataframe tbody tr th:only-of-type {\n",
       "        vertical-align: middle;\n",
       "    }\n",
       "\n",
       "    .dataframe tbody tr th {\n",
       "        vertical-align: top;\n",
       "    }\n",
       "\n",
       "    .dataframe thead th {\n",
       "        text-align: right;\n",
       "    }\n",
       "</style>\n",
       "<table border=\"1\" class=\"dataframe\">\n",
       "  <thead>\n",
       "    <tr style=\"text-align: right;\">\n",
       "      <th></th>\n",
       "      <th>persistentid</th>\n",
       "      <th>gender</th>\n",
       "      <th>age</th>\n",
       "      <th>full_panel_reweighted_sag_score</th>\n",
       "    </tr>\n",
       "  </thead>\n",
       "  <tbody>\n",
       "    <tr>\n",
       "      <th>5</th>\n",
       "      <td>ad9adea8e7d63428e9372e0d670244e5033d4d2988e554...</td>\n",
       "      <td>Female</td>\n",
       "      <td>Age_30_to_34</td>\n",
       "      <td>144.987245</td>\n",
       "    </tr>\n",
       "    <tr>\n",
       "      <th>10</th>\n",
       "      <td>b8ea7697c88dc1f4a1f9b9bbe60d07c304ffc1539ee806...</td>\n",
       "      <td>Male</td>\n",
       "      <td>Age_30_to_34</td>\n",
       "      <td>151.982086</td>\n",
       "    </tr>\n",
       "    <tr>\n",
       "      <th>14</th>\n",
       "      <td>d7891bc5540d1352f5149f902922ffa923fe1d27e06be8...</td>\n",
       "      <td>Female</td>\n",
       "      <td>Age_30_to_34</td>\n",
       "      <td>167.096863</td>\n",
       "    </tr>\n",
       "    <tr>\n",
       "      <th>17</th>\n",
       "      <td>fccee91660f332ee4b571403661ecc3aed3d29fbc89792...</td>\n",
       "      <td>Female</td>\n",
       "      <td>Age_50_to_54</td>\n",
       "      <td>131.421249</td>\n",
       "    </tr>\n",
       "    <tr>\n",
       "      <th>18</th>\n",
       "      <td>ff8ff5da9fbb2a65d408a333fa1359616c899634f246d4...</td>\n",
       "      <td>Female</td>\n",
       "      <td>Age_30_to_34</td>\n",
       "      <td>163.291871</td>\n",
       "    </tr>\n",
       "    <tr>\n",
       "      <th>...</th>\n",
       "      <td>...</td>\n",
       "      <td>...</td>\n",
       "      <td>...</td>\n",
       "      <td>...</td>\n",
       "    </tr>\n",
       "    <tr>\n",
       "      <th>608114</th>\n",
       "      <td>064695660cc27a6dec49fec9ce78c9a2d3a660e3d7455f...</td>\n",
       "      <td>Male</td>\n",
       "      <td>Age_40_to_44</td>\n",
       "      <td>100.835158</td>\n",
       "    </tr>\n",
       "    <tr>\n",
       "      <th>608126</th>\n",
       "      <td>e4689cd484fbbae0557ece20a8b865962f9a3ee82e7c02...</td>\n",
       "      <td>Female</td>\n",
       "      <td>Age_40_to_44</td>\n",
       "      <td>98.168887</td>\n",
       "    </tr>\n",
       "    <tr>\n",
       "      <th>608139</th>\n",
       "      <td>7a8daccdf93e1e1ebd632d049d50c246b0482850b5fdf1...</td>\n",
       "      <td>Male</td>\n",
       "      <td>Age_30_to_34</td>\n",
       "      <td>142.966973</td>\n",
       "    </tr>\n",
       "    <tr>\n",
       "      <th>608143</th>\n",
       "      <td>126ebcca5cbb1d17bf4dbeb234abb23177a5c9d1088653...</td>\n",
       "      <td>Male</td>\n",
       "      <td>Age_35_to_39</td>\n",
       "      <td>106.696138</td>\n",
       "    </tr>\n",
       "    <tr>\n",
       "      <th>608155</th>\n",
       "      <td>d273ef0c0f9fa202b48de210cdf5dd1324fd644a2aba1d...</td>\n",
       "      <td>Female</td>\n",
       "      <td>Age_45_to_49</td>\n",
       "      <td>135.116771</td>\n",
       "    </tr>\n",
       "  </tbody>\n",
       "</table>\n",
       "<p>112748 rows × 4 columns</p>\n",
       "</div>"
      ],
      "text/plain": [
       "                                             persistentid  gender  \\\n",
       "5       ad9adea8e7d63428e9372e0d670244e5033d4d2988e554...  Female   \n",
       "10      b8ea7697c88dc1f4a1f9b9bbe60d07c304ffc1539ee806...    Male   \n",
       "14      d7891bc5540d1352f5149f902922ffa923fe1d27e06be8...  Female   \n",
       "17      fccee91660f332ee4b571403661ecc3aed3d29fbc89792...  Female   \n",
       "18      ff8ff5da9fbb2a65d408a333fa1359616c899634f246d4...  Female   \n",
       "...                                                   ...     ...   \n",
       "608114  064695660cc27a6dec49fec9ce78c9a2d3a660e3d7455f...    Male   \n",
       "608126  e4689cd484fbbae0557ece20a8b865962f9a3ee82e7c02...  Female   \n",
       "608139  7a8daccdf93e1e1ebd632d049d50c246b0482850b5fdf1...    Male   \n",
       "608143  126ebcca5cbb1d17bf4dbeb234abb23177a5c9d1088653...    Male   \n",
       "608155  d273ef0c0f9fa202b48de210cdf5dd1324fd644a2aba1d...  Female   \n",
       "\n",
       "                 age  full_panel_reweighted_sag_score  \n",
       "5       Age_30_to_34                       144.987245  \n",
       "10      Age_30_to_34                       151.982086  \n",
       "14      Age_30_to_34                       167.096863  \n",
       "17      Age_50_to_54                       131.421249  \n",
       "18      Age_30_to_34                       163.291871  \n",
       "...              ...                              ...  \n",
       "608114  Age_40_to_44                       100.835158  \n",
       "608126  Age_40_to_44                        98.168887  \n",
       "608139  Age_30_to_34                       142.966973  \n",
       "608143  Age_35_to_39                       106.696138  \n",
       "608155  Age_45_to_49                       135.116771  \n",
       "\n",
       "[112748 rows x 4 columns]"
      ]
     },
     "execution_count": 19,
     "metadata": {},
     "output_type": "execute_result"
    }
   ],
   "source": [
    "# drop all columns except those in potential_features\n",
    "filtered_df = filtered_df.drop(columns=[col for col in filtered_df.columns if col not in potential_features])\n",
    "filtered_df"
   ]
  },
  {
   "cell_type": "code",
   "execution_count": 20,
   "metadata": {},
   "outputs": [],
   "source": [
    "filtered_df['gender'] = filtered_df['gender'].fillna('Missing')\n",
    "filtered_df['age'] = filtered_df['age'].fillna('Missing')\n",
    "filtered_df['full_panel_reweighted_sag_score'] = filtered_df['full_panel_reweighted_sag_score'].fillna(0)"
   ]
  },
  {
   "cell_type": "code",
   "execution_count": 21,
   "metadata": {},
   "outputs": [],
   "source": [
    "id_to_gender = {}\n",
    "id_to_age = {}\n",
    "id_to_scores = {}\n",
    "devices_set = set(filtered_df['persistentid'])"
   ]
  },
  {
   "cell_type": "code",
   "execution_count": 22,
   "metadata": {},
   "outputs": [
    {
     "data": {
      "text/plain": [
       "True"
      ]
     },
     "execution_count": 22,
     "metadata": {},
     "output_type": "execute_result"
    }
   ],
   "source": [
    "'004f1ba8a43c7b1196efcaa6267be599cc2713a784e2335cb10a78ac4ab7b1c4' in devices_set"
   ]
  },
  {
   "cell_type": "code",
   "execution_count": 23,
   "metadata": {},
   "outputs": [],
   "source": [
    "for device in devices_set:\n",
    "    device_df = filtered_df[filtered_df['persistentid'] == device]\n",
    "    age = device_df['age'].iloc[0]\n",
    "    gender = device_df['gender'].iloc[0]\n",
    "    scores = device_df['full_panel_reweighted_sag_score'].mean()\n",
    "    id_to_gender[device] = gender\n",
    "    id_to_age[device] = age\n",
    "    id_to_scores[device] = scores\n",
    "    \n",
    "    "
   ]
  },
  {
   "cell_type": "code",
   "execution_count": 24,
   "metadata": {},
   "outputs": [
    {
     "data": {
      "text/plain": [
       "'Male'"
      ]
     },
     "execution_count": 24,
     "metadata": {},
     "output_type": "execute_result"
    }
   ],
   "source": [
    "id_to_gender['004f1ba8a43c7b1196efcaa6267be599cc2713a784e2335cb10a78ac4ab7b1c4']"
   ]
  },
  {
   "cell_type": "code",
   "execution_count": 25,
   "metadata": {},
   "outputs": [],
   "source": [
    "def create_one_hot_encoding_df(id_to_feature: dict, feature: str):\n",
    "    feature_df = pd.DataFrame.from_dict(id_to_feature, orient='index', columns=[feature])\n",
    "    feature_df = pd.get_dummies(feature_df, prefix=feature)\n",
    "    return feature_df"
   ]
  },
  {
   "cell_type": "code",
   "execution_count": 26,
   "metadata": {},
   "outputs": [],
   "source": [
    "gender_df = create_one_hot_encoding_df(id_to_gender, 'gender')\n",
    "age_df = create_one_hot_encoding_df(id_to_age, 'age')"
   ]
  },
  {
   "cell_type": "code",
   "execution_count": 27,
   "metadata": {},
   "outputs": [],
   "source": [
    "feature_map = {}\n",
    "for device in devices_set:\n",
    "    gender = gender_df[gender_df.index == device].iloc[0].values\n",
    "    age = age_df[gender_df.index == device].iloc[0].values\n",
    "    # print(gender)\n",
    "    feature_map[device] = {}\n",
    "    feature_map[device]['age'] = age\n",
    "    feature_map[device]['gender'] = gender\n",
    "    feature_map[device]['score'] = id_to_scores[device]\n",
    "\n"
   ]
  },
  {
   "cell_type": "code",
   "execution_count": 28,
   "metadata": {},
   "outputs": [
    {
     "data": {
      "text/plain": [
       "{'age': array([False, False, False,  True, False, False, False, False, False,\n",
       "        False, False, False, False, False, False]),\n",
       " 'gender': array([ True, False, False]),\n",
       " 'score': 111.07597379585306}"
      ]
     },
     "execution_count": 28,
     "metadata": {},
     "output_type": "execute_result"
    }
   ],
   "source": [
    "feature_map['9f7432ad73deb4ab9f30b04222922e25e928429576e33763eb2c4027ee14c0fa']"
   ]
  },
  {
   "cell_type": "code",
   "execution_count": 29,
   "metadata": {},
   "outputs": [
    {
     "name": "stdout",
     "output_type": "stream",
     "text": [
      "dictionary saved successfully to file\n"
     ]
    }
   ],
   "source": [
    "import pickle\n",
    "with open('node_information_data.pkl', 'wb') as fp:\n",
    "    pickle.dump(feature_map, fp)\n",
    "    print('dictionary saved successfully to file')"
   ]
  },
  {
   "cell_type": "code",
   "execution_count": null,
   "metadata": {},
   "outputs": [],
   "source": []
  }
 ],
 "metadata": {
  "kernelspec": {
   "display_name": "lin373n",
   "language": "python",
   "name": "python3"
  },
  "language_info": {
   "codemirror_mode": {
    "name": "ipython",
    "version": 3
   },
   "file_extension": ".py",
   "mimetype": "text/x-python",
   "name": "python",
   "nbconvert_exporter": "python",
   "pygments_lexer": "ipython3",
   "version": "3.11.6"
  },
  "orig_nbformat": 4
 },
 "nbformat": 4,
 "nbformat_minor": 2
}
