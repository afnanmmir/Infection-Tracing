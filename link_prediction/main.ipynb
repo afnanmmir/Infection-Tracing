{
 "cells": [
  {
   "cell_type": "markdown",
   "metadata": {},
   "source": [
    "# Import Modules"
   ]
  },
  {
   "cell_type": "code",
   "execution_count": 13,
   "metadata": {},
   "outputs": [],
   "source": [
    "import pandas as pd\n",
    "import numpy as np\n",
    "import matplotlib.pyplot as plt\n",
    "import networkx as nx\n",
    "import torch\n",
    "import scipy.sparse as sp\n",
    "import torch.nn as nn\n",
    "from node2vec import Node2Vec\n",
    "import torch.nn.functional as F\n",
    "from sklearn.metrics import roc_auc_score\n",
    "import itertools\n",
    "import dgl"
   ]
  },
  {
   "cell_type": "code",
   "execution_count": 14,
   "metadata": {},
   "outputs": [],
   "source": [
    "from dgl.nn import SAGEConv\n",
    "import dgl.function as fn\n",
    "\n",
    "# ----------- 2. create model -------------- #\n",
    "# build a two-layer GraphSAGE model\n",
    "class GraphSAGE(nn.Module):\n",
    "    def __init__(self, in_feats, h_feats):\n",
    "        super(GraphSAGE, self).__init__()\n",
    "        self.conv1 = SAGEConv(in_feats, h_feats, 'mean')\n",
    "        self.conv2 = SAGEConv(h_feats, h_feats, 'mean')\n",
    "\n",
    "    def forward(self, g, in_feat):\n",
    "        h = self.conv1(g, in_feat)\n",
    "        h = F.relu(h)\n",
    "        h = self.conv2(g, h)\n",
    "        return h\n",
    "\n",
    "class DotPredictor(nn.Module):\n",
    "    def forward(self, g, h):\n",
    "        with g.local_scope():\n",
    "            g.ndata['h'] = h\n",
    "            # Compute a new edge feature named 'score' by a dot-product between the\n",
    "            # source node feature 'h' and destination node feature 'h'.\n",
    "            g.apply_edges(fn.u_dot_v('h', 'h', 'score'))\n",
    "            # u_dot_v returns a 1-element vector for each edge so you need to squeeze it.\n",
    "            return g.edata['score'][:, 0]"
   ]
  },
  {
   "cell_type": "code",
   "execution_count": 15,
   "metadata": {},
   "outputs": [],
   "source": [
    "G = nx.read_gexf(\"../graph_creation/2020-07-01__to__2020-07-05__15-overlap__hashmap.gexf\")"
   ]
  },
  {
   "cell_type": "code",
   "execution_count": 16,
   "metadata": {},
   "outputs": [],
   "source": [
    "# load the dictionary that is pickled in the feature computation directory in the main.ipynb\n",
    "import pickle\n",
    "with open('feature_combination/final_node_features.pkl', 'rb') as handle:\n",
    "    device_to_features = pickle.load(handle)"
   ]
  },
  {
   "cell_type": "code",
   "execution_count": 17,
   "metadata": {},
   "outputs": [],
   "source": [
    "nx.set_node_attributes(G, device_to_features, \"features\")"
   ]
  },
  {
   "cell_type": "code",
   "execution_count": 18,
   "metadata": {},
   "outputs": [],
   "source": [
    "node_features = {node: G.nodes[node]['features'] for node in G.nodes()}"
   ]
  },
  {
   "cell_type": "code",
   "execution_count": 30,
   "metadata": {},
   "outputs": [
    {
     "data": {
      "application/vnd.jupyter.widget-view+json": {
       "model_id": "8dd9d2c68c374a6f8e4a2915b7c7730b",
       "version_major": 2,
       "version_minor": 0
      },
      "text/plain": [
       "Computing transition probabilities:   0%|          | 0/14964 [00:00<?, ?it/s]"
      ]
     },
     "metadata": {},
     "output_type": "display_data"
    },
    {
     "name": "stderr",
     "output_type": "stream",
     "text": [
      "Generating walks (CPU: 1): 100%|██████████| 3/3 [01:58<00:00, 39.55s/it]\n",
      "Generating walks (CPU: 3): 100%|██████████| 2/2 [01:18<00:00, 39.39s/it]\n",
      "Generating walks (CPU: 2): 100%|██████████| 3/3 [02:02<00:00, 40.80s/it]\n",
      "Generating walks (CPU: 4): 100%|██████████| 2/2 [00:36<00:00, 18.04s/it]\n"
     ]
    }
   ],
   "source": [
    "# Precompute probabilities and generate walks - **ON WINDOWS ONLY WORKS WITH workers=1**\n",
    "node2vec = Node2Vec(G, workers=4)\n",
    "# Embed nodes\n",
    "model = node2vec.fit(window=10, min_count=1, batch_words=4)  # Any keywords acceptable by gensim.Word2Vec can be passed, `dimensions` and `workers` are automatically passed (from the Node2Vec constructor)\n",
    "\n",
    "node_embeddings = np.array([model.wv.get_vector(str(node)) for node in G.nodes()])\n",
    "node_embedding_tensor = torch.tensor(node_embeddings)\n",
    "node_features = node_embedding_tensor"
   ]
  },
  {
   "cell_type": "code",
   "execution_count": 31,
   "metadata": {},
   "outputs": [],
   "source": [
    "# node2vec embeddings\n",
    "node2vec_embeds = np.array([model.wv.get_vector(str(node)) for node in G.nodes()])\n",
    "node2vec_embeds_tensor = torch.tensor(node2vec_embeds)\n",
    "import pickle\n",
    "with open(\"node2vec_tensors.pkl\", \"wb\") as f:\n",
    "    pickle.dump(node2vec_embeds_tensor, f)"
   ]
  },
  {
   "cell_type": "code",
   "execution_count": 32,
   "metadata": {},
   "outputs": [],
   "source": [
    "nodes_list = [str(node) for node in G.nodes()]\n",
    "# pickle the list\n",
    "with open(\"nodes_list.pkl\", \"wb\") as f:\n",
    "    pickle.dump(nodes_list, f)"
   ]
  },
  {
   "cell_type": "code",
   "execution_count": 33,
   "metadata": {},
   "outputs": [],
   "source": [
    "# create dictionary of node2vec embeddings\n",
    "node2vec_embeds_dict = {}\n",
    "for i, node in enumerate(G.nodes()):\n",
    "    node2vec_embeds_dict[node] = node2vec_embeds_tensor[i]"
   ]
  },
  {
   "cell_type": "code",
   "execution_count": 19,
   "metadata": {},
   "outputs": [],
   "source": [
    "# unpickle the nodes_list to test\n",
    "with open(\"nodes_list.pkl\", \"rb\") as f:\n",
    "    nodes_list = pickle.load(f)\n",
    "# unpickle the node2vec embeddings to test\n",
    "with open(\"node2vec_tensors.pkl\", \"rb\") as f:\n",
    "    node2vec_embeds_tensor = pickle.load(f)"
   ]
  },
  {
   "cell_type": "code",
   "execution_count": 8,
   "metadata": {},
   "outputs": [
    {
     "data": {
      "text/plain": [
       "'4ea409ee4ba5a873e6539f4eae068b5ba2e4eef079bbb5f6172e1fab8a84a356'"
      ]
     },
     "execution_count": 8,
     "metadata": {},
     "output_type": "execute_result"
    }
   ],
   "source": [
    "nodes_list_test[100]"
   ]
  },
  {
   "cell_type": "code",
   "execution_count": 9,
   "metadata": {},
   "outputs": [
    {
     "data": {
      "text/plain": [
       "tensor([ 0.0678, -0.0978,  0.1176,  0.2491,  0.4019, -0.0688, -0.2275, -0.1570,\n",
       "         0.1999,  0.3366, -0.1170, -0.2604,  0.1415,  0.2174,  0.1607,  0.4422,\n",
       "        -0.2545,  0.4776, -0.0220,  0.3182,  0.2983,  0.1519,  0.0132, -0.3153,\n",
       "        -0.1475,  0.2473, -0.2500, -0.1532,  0.0027,  0.0490,  0.4991, -0.1282,\n",
       "         0.1540,  0.5315, -0.1423,  0.3636,  0.5508,  0.1003, -0.1884,  0.0398,\n",
       "         0.1673, -0.1138, -0.1999,  0.0361,  0.3141, -0.7169,  0.0681, -0.2923,\n",
       "         0.2735, -0.4227, -0.0826, -0.1850, -0.0240,  0.1338,  0.1711,  0.0237,\n",
       "        -0.2996,  0.3038,  0.1666,  0.3178,  0.2808,  0.0485, -0.4842, -0.0363,\n",
       "         0.1714,  0.3209, -0.1156, -0.3539, -0.1264,  0.0433, -0.0614, -0.3220,\n",
       "         0.0480,  0.2568, -0.0291, -0.2346,  0.1942, -0.0291, -0.0733, -0.3597,\n",
       "        -0.0826, -0.1162, -0.0592, -0.1016,  0.2694,  0.4005,  0.0024, -0.5245,\n",
       "        -0.0310,  0.4137,  0.0034, -0.1947, -0.1438,  0.4507, -0.1649,  0.5285,\n",
       "        -0.0175, -0.1653, -0.0440, -0.0178,  0.3155, -0.3237,  0.2173, -0.2292,\n",
       "        -0.0021,  0.3754,  0.2628, -0.3934,  0.6700, -0.1507,  0.4597, -0.1295,\n",
       "        -0.0796,  0.4874,  0.0259, -0.1338,  0.4912, -0.6410,  0.1323, -0.1556,\n",
       "        -0.4193,  0.1134, -0.0701, -0.1376, -0.0411,  0.0523,  0.0985, -0.1536])"
      ]
     },
     "execution_count": 9,
     "metadata": {},
     "output_type": "execute_result"
    }
   ],
   "source": [
    "node2vec_embeds_tensor_test[100]"
   ]
  },
  {
   "cell_type": "code",
   "execution_count": 34,
   "metadata": {},
   "outputs": [],
   "source": [
    "# concatenate node2vec embeddings with the features\n",
    "node_embeddings_np = np.array([np.concatenate((model.wv.get_vector(str(node)), np.array(list(device_to_features[node].values()), dtype=np.float32)), axis=0) for node in G.nodes()])\n",
    "node_embedding_tensor = torch.tensor(node_embeddings_np)\n",
    "node_features = node_embedding_tensor"
   ]
  },
  {
   "cell_type": "code",
   "execution_count": 21,
   "metadata": {},
   "outputs": [],
   "source": [
    "# concatnation with normalized features\n",
    "nodes = nodes_list\n",
    "node2vec_embeddings = node2vec_embeds_tensor.numpy()\n",
    "device_features = device_to_features\n",
    "\n",
    "node_embeddings_np_normalized = np.array([np.concatenate((node2vec_embeddings[i], np.array(list(device_features[nodes_list[i]].values()), dtype=np.float32)), axis=0) for i in range(len(nodes_list))])\n",
    "node_embedding_tensor_normalized = torch.tensor(node_embeddings_np_normalized)\n",
    "node_features = node_embedding_tensor_normalized"
   ]
  },
  {
   "cell_type": "code",
   "execution_count": 22,
   "metadata": {},
   "outputs": [
    {
     "data": {
      "text/plain": [
       "134"
      ]
     },
     "execution_count": 22,
     "metadata": {},
     "output_type": "execute_result"
    }
   ],
   "source": [
    "node_features.shape[1]"
   ]
  },
  {
   "cell_type": "code",
   "execution_count": 23,
   "metadata": {},
   "outputs": [],
   "source": [
    "dgl_G = dgl.from_networkx(G)\n",
    "u, v = dgl_G.edges()\n",
    "\n",
    "eids = np.arange(dgl_G.number_of_edges())\n",
    "eids = np.random.permutation(eids)\n",
    "test_size = int(len(eids) * 0.1)\n",
    "train_size = dgl_G.number_of_edges() - test_size\n",
    "test_pos_u, test_pos_v = u[eids[:test_size]], v[eids[:test_size]]\n",
    "train_pos_u, train_pos_v = u[eids[test_size:]], v[eids[test_size:]]\n",
    "\n",
    "# Find all negative edges and split them for training and testing\n",
    "adj = sp.coo_matrix((np.ones(len(u)), (u.numpy(), v.numpy())))\n",
    "adj_neg = 1 - adj.todense() - np.eye(dgl_G.number_of_nodes())\n",
    "neg_u, neg_v = np.where(adj_neg != 0)\n",
    "\n",
    "neg_eids = np.random.choice(len(neg_u), dgl_G.number_of_edges())\n",
    "test_neg_u, test_neg_v = neg_u[neg_eids[:test_size]], neg_v[neg_eids[:test_size]]\n",
    "train_neg_u, train_neg_v = neg_u[neg_eids[test_size:]], neg_v[neg_eids[test_size:]]\n"
   ]
  },
  {
   "cell_type": "code",
   "execution_count": 24,
   "metadata": {},
   "outputs": [
    {
     "data": {
      "text/plain": [
       "tensor([-0.0081,  0.0378,  0.0752,  0.0053,  0.1754,  0.0295, -0.0224,  0.2999,\n",
       "         0.0721, -0.0512, -0.2032, -0.0236,  0.0942, -0.2013, -0.4150, -0.0148,\n",
       "        -0.2460,  0.1249, -0.0174,  0.2050,  0.3013,  0.2295, -0.1425,  0.2067,\n",
       "        -0.0708, -0.1469, -0.1771,  0.5667,  0.1792, -0.1908,  0.4507, -0.1286,\n",
       "         0.4415,  0.1812,  0.3994, -0.0927,  0.0656, -0.1599, -0.1556,  0.2036,\n",
       "         0.0573,  0.0811,  0.0896, -0.0717,  0.1291,  0.0311,  0.0117,  0.1952,\n",
       "         0.3511, -0.0533,  0.2512, -0.0193,  0.2186,  0.0161, -0.2315,  0.0807,\n",
       "         0.1363, -0.1678,  0.0364, -0.1003, -0.2711, -0.1683,  0.1880,  0.1512,\n",
       "         0.0233, -0.1649,  0.2490, -0.1761, -0.1515, -0.0136, -0.1970, -0.1427,\n",
       "        -0.4788, -0.4810,  0.2824, -0.2517, -0.1407, -0.1000, -0.0960, -0.0625,\n",
       "        -0.0250, -0.0551, -0.0850,  0.0331, -0.1444,  0.5126,  0.0960, -0.0399,\n",
       "        -0.0298,  0.4612,  0.1812, -0.1223,  0.3441, -0.0591, -0.1406, -0.0399,\n",
       "        -0.4342,  0.2252,  0.1658,  0.0755,  0.0711, -0.0128,  0.2496, -0.3257,\n",
       "         0.1893,  0.0777,  0.1588,  0.0889,  0.3747,  0.0165,  0.1086, -0.0625,\n",
       "        -0.2325,  0.0840,  0.0674, -0.7026,  0.2950, -0.1224,  0.1757,  0.0200,\n",
       "         0.1046, -0.2628, -0.1995,  0.1725, -0.0314,  0.0737,  0.0489,  0.1834,\n",
       "        -0.7546, -0.4724,  2.0000, -0.8855,  1.0000,  0.0000])"
      ]
     },
     "execution_count": 24,
     "metadata": {},
     "output_type": "execute_result"
    }
   ],
   "source": [
    "node_features[0]"
   ]
  },
  {
   "cell_type": "code",
   "execution_count": 41,
   "metadata": {},
   "outputs": [
    {
     "data": {
      "text/plain": [
       "{'avg_locations_per_day': -0.754601226993865,\n",
       " 'avg_distance_per_day': -0.472425051270307,\n",
       " 'age': 2,\n",
       " 'score': -0.8855280414619378,\n",
       " 'female': 1,\n",
       " 'male': 0}"
      ]
     },
     "execution_count": 41,
     "metadata": {},
     "output_type": "execute_result"
    }
   ],
   "source": [
    "device_to_features['ad9adea8e7d63428e9372e0d670244e5033d4d2988e5546f8801692bf9d40646']"
   ]
  },
  {
   "cell_type": "code",
   "execution_count": 39,
   "metadata": {},
   "outputs": [
    {
     "data": {
      "text/plain": [
       "array([-0.00813514,  0.03777379,  0.07524519,  0.0052942 ,  0.1754264 ,\n",
       "        0.0294719 , -0.02243937,  0.29994112,  0.07209021, -0.05122218,\n",
       "       -0.2031843 , -0.02355146,  0.09417741, -0.20132823, -0.4149674 ,\n",
       "       -0.01476257, -0.24599603,  0.12489565, -0.01735623,  0.20502837,\n",
       "        0.3013142 ,  0.22954972, -0.14247212,  0.20670253, -0.07077803,\n",
       "       -0.14691035, -0.17707963,  0.56672496,  0.17919561, -0.19083361,\n",
       "        0.45068824, -0.12860635,  0.44148946,  0.1812185 ,  0.39938694,\n",
       "       -0.09265961,  0.06558739, -0.15990822, -0.1556166 ,  0.20360014,\n",
       "        0.05728378,  0.08111922,  0.08961319, -0.07174372,  0.1290746 ,\n",
       "        0.03112129,  0.01166186,  0.19517194,  0.3511475 , -0.05327895,\n",
       "        0.2511663 , -0.01925827,  0.21864109,  0.01611416, -0.23149537,\n",
       "        0.08066583,  0.13633803, -0.16776836,  0.036378  , -0.10026155,\n",
       "       -0.2711056 , -0.16832137,  0.18802607,  0.1512132 ,  0.02330018,\n",
       "       -0.16486892,  0.24897288, -0.17610708, -0.15153402, -0.01362916,\n",
       "       -0.19701569, -0.1427252 , -0.4788215 , -0.48095432,  0.2824081 ,\n",
       "       -0.25169086, -0.14073136, -0.1000246 , -0.09600109, -0.06245381,\n",
       "       -0.02501662, -0.0551038 , -0.0849691 ,  0.03307362, -0.14435753,\n",
       "        0.512593  ,  0.09598768, -0.03993788, -0.02979855,  0.46117523,\n",
       "        0.18117231, -0.12227305,  0.3440899 , -0.05905377, -0.14059626,\n",
       "       -0.03988237, -0.43424445,  0.22524275,  0.16580394,  0.07548704,\n",
       "        0.07113858, -0.01284268,  0.24956328, -0.3256505 ,  0.18933819,\n",
       "        0.07774118,  0.15882093,  0.08892132,  0.37473327,  0.01645401,\n",
       "        0.10858203, -0.06248016, -0.23251829,  0.08400401,  0.06743827,\n",
       "       -0.7026296 ,  0.29501766, -0.12237783,  0.1757027 ,  0.01996433,\n",
       "        0.10455409, -0.26280665, -0.19952048,  0.17254479, -0.03139774,\n",
       "        0.07366289,  0.04890331,  0.18343645], dtype=float32)"
      ]
     },
     "execution_count": 39,
     "metadata": {},
     "output_type": "execute_result"
    }
   ],
   "source": [
    "model.wv.get_vector(str('ad9adea8e7d63428e9372e0d670244e5033d4d2988e5546f8801692bf9d40646'))"
   ]
  },
  {
   "cell_type": "code",
   "execution_count": 37,
   "metadata": {},
   "outputs": [
    {
     "data": {
      "text/plain": [
       "tensor([-0.0081,  0.0378,  0.0752,  0.0053,  0.1754,  0.0295, -0.0224,  0.2999,\n",
       "         0.0721, -0.0512, -0.2032, -0.0236,  0.0942, -0.2013, -0.4150, -0.0148,\n",
       "        -0.2460,  0.1249, -0.0174,  0.2050,  0.3013,  0.2295, -0.1425,  0.2067,\n",
       "        -0.0708, -0.1469, -0.1771,  0.5667,  0.1792, -0.1908,  0.4507, -0.1286,\n",
       "         0.4415,  0.1812,  0.3994, -0.0927,  0.0656, -0.1599, -0.1556,  0.2036,\n",
       "         0.0573,  0.0811,  0.0896, -0.0717,  0.1291,  0.0311,  0.0117,  0.1952,\n",
       "         0.3511, -0.0533,  0.2512, -0.0193,  0.2186,  0.0161, -0.2315,  0.0807,\n",
       "         0.1363, -0.1678,  0.0364, -0.1003, -0.2711, -0.1683,  0.1880,  0.1512,\n",
       "         0.0233, -0.1649,  0.2490, -0.1761, -0.1515, -0.0136, -0.1970, -0.1427,\n",
       "        -0.4788, -0.4810,  0.2824, -0.2517, -0.1407, -0.1000, -0.0960, -0.0625,\n",
       "        -0.0250, -0.0551, -0.0850,  0.0331, -0.1444,  0.5126,  0.0960, -0.0399,\n",
       "        -0.0298,  0.4612,  0.1812, -0.1223,  0.3441, -0.0591, -0.1406, -0.0399,\n",
       "        -0.4342,  0.2252,  0.1658,  0.0755,  0.0711, -0.0128,  0.2496, -0.3257,\n",
       "         0.1893,  0.0777,  0.1588,  0.0889,  0.3747,  0.0165,  0.1086, -0.0625,\n",
       "        -0.2325,  0.0840,  0.0674, -0.7026,  0.2950, -0.1224,  0.1757,  0.0200,\n",
       "         0.1046, -0.2628, -0.1995,  0.1725, -0.0314,  0.0737,  0.0489,  0.1834,\n",
       "        -0.7546, -0.4724,  2.0000, -0.8855,  1.0000,  0.0000])"
      ]
     },
     "execution_count": 37,
     "metadata": {},
     "output_type": "execute_result"
    }
   ],
   "source": [
    "node_features[0]"
   ]
  },
  {
   "cell_type": "code",
   "execution_count": 25,
   "metadata": {},
   "outputs": [],
   "source": [
    "train_g = dgl.remove_edges(dgl_G, eids[:test_size])"
   ]
  },
  {
   "cell_type": "code",
   "execution_count": 43,
   "metadata": {},
   "outputs": [
    {
     "data": {
      "text/plain": [
       "{}"
      ]
     },
     "execution_count": 43,
     "metadata": {},
     "output_type": "execute_result"
    }
   ],
   "source": [
    "dgl_G.ndata"
   ]
  },
  {
   "cell_type": "code",
   "execution_count": 26,
   "metadata": {},
   "outputs": [],
   "source": [
    "train_pos_g = dgl.graph((train_pos_u, train_pos_v), num_nodes=dgl_G.number_of_nodes())\n",
    "train_neg_g = dgl.graph((train_neg_u, train_neg_v), num_nodes=dgl_G.number_of_nodes())\n",
    "\n",
    "test_pos_g = dgl.graph((test_pos_u, test_pos_v), num_nodes=dgl_G.number_of_nodes())\n",
    "test_neg_g = dgl.graph((test_neg_u, test_neg_v), num_nodes=dgl_G.number_of_nodes())"
   ]
  },
  {
   "cell_type": "code",
   "execution_count": 27,
   "metadata": {},
   "outputs": [],
   "source": [
    "dgl_model = GraphSAGE(node_features.shape[1], 16)\n",
    "# You can replace DotPredictor with MLPPredictor.\n",
    "#pred = MLPPredictor(16)\n",
    "pred = DotPredictor()\n",
    "\n",
    "def compute_loss(pos_score, neg_score):\n",
    "    scores = torch.cat([pos_score, neg_score])\n",
    "    labels = torch.cat([torch.ones(pos_score.shape[0]), torch.zeros(neg_score.shape[0])])\n",
    "    return F.binary_cross_entropy_with_logits(scores, labels)\n",
    "\n",
    "def compute_auc(pos_score, neg_score):\n",
    "    scores = torch.cat([pos_score, neg_score]).numpy()\n",
    "    labels = torch.cat(\n",
    "        [torch.ones(pos_score.shape[0]), torch.zeros(neg_score.shape[0])]).numpy()\n",
    "    return roc_auc_score(labels, scores)"
   ]
  },
  {
   "cell_type": "code",
   "execution_count": 28,
   "metadata": {},
   "outputs": [
    {
     "name": "stdout",
     "output_type": "stream",
     "text": [
      "In epoch 0, loss: 36.23357391357422\n",
      "In epoch 5, loss: 2.5091471672058105\n",
      "In epoch 10, loss: 0.7671756148338318\n",
      "In epoch 15, loss: 0.7077732682228088\n",
      "In epoch 20, loss: 0.7050421833992004\n",
      "In epoch 25, loss: 0.7041785717010498\n",
      "In epoch 30, loss: 0.7036468386650085\n",
      "In epoch 35, loss: 0.7030852437019348\n",
      "In epoch 40, loss: 0.7024518251419067\n",
      "In epoch 45, loss: 0.7017791271209717\n",
      "In epoch 50, loss: 0.7011003494262695\n",
      "In epoch 55, loss: 0.7004439234733582\n",
      "In epoch 60, loss: 0.6998342871665955\n",
      "In epoch 65, loss: 0.6992638111114502\n",
      "In epoch 70, loss: 0.6987383961677551\n",
      "In epoch 75, loss: 0.6982621550559998\n",
      "In epoch 80, loss: 0.6978286504745483\n",
      "In epoch 85, loss: 0.6974341869354248\n",
      "In epoch 90, loss: 0.697077751159668\n",
      "In epoch 95, loss: 0.6967533230781555\n",
      "In epoch 100, loss: 0.6964571475982666\n",
      "In epoch 105, loss: 0.6961866617202759\n",
      "In epoch 110, loss: 0.6959388256072998\n",
      "In epoch 115, loss: 0.6957115530967712\n",
      "In epoch 120, loss: 0.6955023407936096\n",
      "In epoch 125, loss: 0.6953089237213135\n",
      "In epoch 130, loss: 0.695129930973053\n",
      "In epoch 135, loss: 0.6949630379676819\n",
      "In epoch 140, loss: 0.6948074102401733\n",
      "In epoch 145, loss: 0.694661557674408\n",
      "In epoch 150, loss: 0.6945244669914246\n",
      "In epoch 155, loss: 0.6943957209587097\n",
      "In epoch 160, loss: 0.6942746043205261\n",
      "In epoch 165, loss: 0.6941599249839783\n",
      "In epoch 170, loss: 0.6940506100654602\n",
      "In epoch 175, loss: 0.693945586681366\n",
      "In epoch 180, loss: 0.693844735622406\n",
      "In epoch 185, loss: 0.6937474012374878\n",
      "In epoch 190, loss: 0.6936532855033875\n",
      "In epoch 195, loss: 0.693550705909729\n",
      "In epoch 200, loss: 0.6934389472007751\n",
      "In epoch 205, loss: 0.6933186650276184\n",
      "In epoch 210, loss: 0.6931935548782349\n",
      "In epoch 215, loss: 0.69306480884552\n",
      "In epoch 220, loss: 0.6929408311843872\n",
      "In epoch 225, loss: 0.6928134560585022\n",
      "In epoch 230, loss: 0.6926763653755188\n",
      "In epoch 235, loss: 0.6925299167633057\n",
      "In epoch 240, loss: 0.6923732161521912\n",
      "In epoch 245, loss: 0.6922030448913574\n",
      "In epoch 250, loss: 0.6920208930969238\n",
      "In epoch 255, loss: 0.6918225884437561\n",
      "In epoch 260, loss: 0.6915987730026245\n",
      "In epoch 265, loss: 0.6913570761680603\n",
      "In epoch 270, loss: 0.6910848617553711\n",
      "In epoch 275, loss: 0.6907747983932495\n",
      "In epoch 280, loss: 0.6903734803199768\n",
      "In epoch 285, loss: 0.6898715496063232\n",
      "In epoch 290, loss: 0.689254105091095\n",
      "In epoch 295, loss: 0.6884883046150208\n",
      "In epoch 300, loss: 0.6875599026679993\n",
      "In epoch 305, loss: 0.6864032745361328\n",
      "In epoch 310, loss: 0.6849084496498108\n",
      "In epoch 315, loss: 0.683093249797821\n",
      "In epoch 320, loss: 0.6811403632164001\n",
      "In epoch 325, loss: 0.6790152192115784\n",
      "In epoch 330, loss: 0.6766101121902466\n",
      "In epoch 335, loss: 0.6741176247596741\n",
      "In epoch 340, loss: 0.6713263988494873\n",
      "In epoch 345, loss: 0.6682820916175842\n",
      "In epoch 350, loss: 0.665231466293335\n",
      "In epoch 355, loss: 0.6624215245246887\n",
      "In epoch 360, loss: 0.6597236394882202\n",
      "In epoch 365, loss: 0.6572164297103882\n",
      "In epoch 370, loss: 0.6549695730209351\n",
      "In epoch 375, loss: 0.6529796719551086\n",
      "In epoch 380, loss: 0.6511178016662598\n",
      "In epoch 385, loss: 0.6491736769676208\n",
      "In epoch 390, loss: 0.6471459865570068\n",
      "In epoch 395, loss: 0.6452102661132812\n",
      "In epoch 400, loss: 0.6434565186500549\n",
      "In epoch 405, loss: 0.6418909430503845\n",
      "In epoch 410, loss: 0.6405056715011597\n",
      "In epoch 415, loss: 0.6392684578895569\n",
      "In epoch 420, loss: 0.6382142305374146\n",
      "In epoch 425, loss: 0.637283444404602\n",
      "In epoch 430, loss: 0.6364408135414124\n",
      "In epoch 435, loss: 0.635696291923523\n",
      "In epoch 440, loss: 0.6350401043891907\n",
      "In epoch 445, loss: 0.6344757080078125\n",
      "In epoch 450, loss: 0.6339002847671509\n",
      "In epoch 455, loss: 0.6333967447280884\n",
      "In epoch 460, loss: 0.6328086853027344\n",
      "In epoch 465, loss: 0.6322603225708008\n",
      "In epoch 470, loss: 0.6317552924156189\n",
      "In epoch 475, loss: 0.6312770247459412\n",
      "In epoch 480, loss: 0.630835235118866\n",
      "In epoch 485, loss: 0.6304411888122559\n",
      "In epoch 490, loss: 0.6300694346427917\n",
      "In epoch 495, loss: 0.6296695470809937\n",
      "In epoch 500, loss: 0.629114031791687\n",
      "In epoch 505, loss: 0.6285616755485535\n",
      "In epoch 510, loss: 0.6281216144561768\n",
      "In epoch 515, loss: 0.6277568340301514\n",
      "In epoch 520, loss: 0.6274621486663818\n",
      "In epoch 525, loss: 0.6271893382072449\n",
      "In epoch 530, loss: 0.6268673539161682\n",
      "In epoch 535, loss: 0.6265392303466797\n",
      "In epoch 540, loss: 0.6262624263763428\n",
      "In epoch 545, loss: 0.6259809136390686\n",
      "In epoch 550, loss: 0.6256964206695557\n",
      "In epoch 555, loss: 0.6254593133926392\n",
      "In epoch 560, loss: 0.6252534985542297\n",
      "In epoch 565, loss: 0.6250539422035217\n",
      "In epoch 570, loss: 0.6248472332954407\n",
      "In epoch 575, loss: 0.6246433854103088\n",
      "In epoch 580, loss: 0.6244567632675171\n",
      "In epoch 585, loss: 0.6243030428886414\n",
      "In epoch 590, loss: 0.6241227984428406\n",
      "In epoch 595, loss: 0.6239544749259949\n",
      "In epoch 600, loss: 0.6237885355949402\n",
      "In epoch 605, loss: 0.6236252784729004\n",
      "In epoch 610, loss: 0.6234667897224426\n",
      "In epoch 615, loss: 0.623314380645752\n",
      "In epoch 620, loss: 0.6232228875160217\n",
      "In epoch 625, loss: 0.6231175065040588\n",
      "In epoch 630, loss: 0.6229254007339478\n",
      "In epoch 635, loss: 0.6227762699127197\n",
      "In epoch 640, loss: 0.62263023853302\n",
      "In epoch 645, loss: 0.6224635243415833\n",
      "In epoch 650, loss: 0.6222980618476868\n",
      "In epoch 655, loss: 0.6221123933792114\n",
      "In epoch 660, loss: 0.6219401955604553\n",
      "In epoch 665, loss: 0.6217576265335083\n",
      "In epoch 670, loss: 0.6215624809265137\n",
      "In epoch 675, loss: 0.6213611364364624\n",
      "In epoch 680, loss: 0.6211397051811218\n",
      "In epoch 685, loss: 0.620929479598999\n",
      "In epoch 690, loss: 0.6207221746444702\n",
      "In epoch 695, loss: 0.6204951405525208\n",
      "In epoch 700, loss: 0.6203158497810364\n",
      "In epoch 705, loss: 0.6201406717300415\n",
      "In epoch 710, loss: 0.619974672794342\n",
      "In epoch 715, loss: 0.6198310256004333\n",
      "In epoch 720, loss: 0.6197125315666199\n",
      "In epoch 725, loss: 0.6195242404937744\n",
      "In epoch 730, loss: 0.6193687319755554\n",
      "In epoch 735, loss: 0.6192338466644287\n",
      "In epoch 740, loss: 0.6190495491027832\n",
      "In epoch 745, loss: 0.6189138293266296\n",
      "In epoch 750, loss: 0.6187602281570435\n",
      "In epoch 755, loss: 0.6186100840568542\n",
      "In epoch 760, loss: 0.6184622049331665\n",
      "In epoch 765, loss: 0.618316650390625\n",
      "In epoch 770, loss: 0.6181785464286804\n",
      "In epoch 775, loss: 0.6180670857429504\n",
      "In epoch 780, loss: 0.617949366569519\n",
      "In epoch 785, loss: 0.6178334951400757\n",
      "In epoch 790, loss: 0.6177842020988464\n",
      "In epoch 795, loss: 0.6176418662071228\n",
      "In epoch 800, loss: 0.6175140142440796\n",
      "In epoch 805, loss: 0.6173932552337646\n",
      "In epoch 810, loss: 0.6173220872879028\n",
      "In epoch 815, loss: 0.617178738117218\n",
      "In epoch 820, loss: 0.6170876622200012\n",
      "In epoch 825, loss: 0.6170122623443604\n",
      "In epoch 830, loss: 0.6168747544288635\n",
      "In epoch 835, loss: 0.616786539554596\n",
      "In epoch 840, loss: 0.616682231426239\n",
      "In epoch 845, loss: 0.6165820956230164\n",
      "In epoch 850, loss: 0.6164906620979309\n",
      "In epoch 855, loss: 0.6163914799690247\n",
      "In epoch 860, loss: 0.6163065433502197\n",
      "In epoch 865, loss: 0.6162071824073792\n",
      "In epoch 870, loss: 0.6161690950393677\n",
      "In epoch 875, loss: 0.6160928606987\n",
      "In epoch 880, loss: 0.6159706115722656\n",
      "In epoch 885, loss: 0.6158674955368042\n",
      "In epoch 890, loss: 0.6157862544059753\n",
      "In epoch 895, loss: 0.6156967282295227\n",
      "In epoch 900, loss: 0.6156041622161865\n",
      "In epoch 905, loss: 0.6155388951301575\n",
      "In epoch 910, loss: 0.6154578328132629\n",
      "In epoch 915, loss: 0.6154112219810486\n",
      "In epoch 920, loss: 0.6153067350387573\n",
      "In epoch 925, loss: 0.615202009677887\n",
      "In epoch 930, loss: 0.6151221990585327\n",
      "In epoch 935, loss: 0.6150432825088501\n",
      "In epoch 940, loss: 0.6149711608886719\n",
      "In epoch 945, loss: 0.6148859262466431\n",
      "In epoch 950, loss: 0.6148026585578918\n",
      "In epoch 955, loss: 0.6146849393844604\n",
      "In epoch 960, loss: 0.6145673394203186\n",
      "In epoch 965, loss: 0.6144585013389587\n",
      "In epoch 970, loss: 0.6143576502799988\n",
      "In epoch 975, loss: 0.6142868995666504\n",
      "In epoch 980, loss: 0.614173948764801\n",
      "In epoch 985, loss: 0.6140356063842773\n",
      "In epoch 990, loss: 0.6139314770698547\n",
      "In epoch 995, loss: 0.6138439178466797\n",
      "AUC 0.7504941592301174\n"
     ]
    }
   ],
   "source": [
    "# ----------- 3. set up loss and optimizer -------------- #\n",
    "# in this case, loss will in training loop\n",
    "optimizer = torch.optim.Adam(itertools.chain(dgl_model.parameters(), pred.parameters()), lr=0.01)\n",
    "\n",
    "# ----------- 4. training -------------------------------- #\n",
    "all_logits = []\n",
    "loss_values = []\n",
    "for e in range(1000):\n",
    "    # forward\n",
    "    h = dgl_model(train_g, node_features)\n",
    "    pos_score = pred(train_pos_g, h)\n",
    "    neg_score = pred(train_neg_g, h)\n",
    "    loss = compute_loss(pos_score, neg_score)\n",
    "    loss_values.append(loss.item())\n",
    "\n",
    "    # backward\n",
    "    optimizer.zero_grad()\n",
    "    loss.backward()\n",
    "    optimizer.step()\n",
    "\n",
    "    if e % 5 == 0:\n",
    "        print('In epoch {}, loss: {}'.format(e, loss))\n",
    "\n",
    "# ----------- 5. check results ------------------------ #\n",
    "from sklearn.metrics import roc_auc_score\n",
    "with torch.no_grad():\n",
    "    pos_score = pred(test_pos_g, h)\n",
    "    neg_score = pred(test_neg_g, h)\n",
    "    print('AUC', compute_auc(pos_score, neg_score))\n",
    "\n",
    "\n",
    "# Thumbnail credits: Link Prediction with Neo4j, Mark Needham\n",
    "# sphinx_gallery_thumbnail_path = '_static/blitz_4_link_predict.png'"
   ]
  },
  {
   "cell_type": "code",
   "execution_count": null,
   "metadata": {},
   "outputs": [],
   "source": []
  }
 ],
 "metadata": {
  "kernelspec": {
   "display_name": "DataScience",
   "language": "python",
   "name": "python3"
  },
  "language_info": {
   "codemirror_mode": {
    "name": "ipython",
    "version": 3
   },
   "file_extension": ".py",
   "mimetype": "text/x-python",
   "name": "python",
   "nbconvert_exporter": "python",
   "pygments_lexer": "ipython3",
   "version": "3.11.5"
  }
 },
 "nbformat": 4,
 "nbformat_minor": 2
}
