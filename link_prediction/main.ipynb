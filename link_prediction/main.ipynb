{
 "cells": [
  {
   "cell_type": "markdown",
   "metadata": {},
   "source": [
    "# Import Modules"
   ]
  },
  {
   "cell_type": "code",
   "execution_count": 22,
   "metadata": {},
   "outputs": [],
   "source": [
    "import pandas as pd\n",
    "import numpy as np\n",
    "import matplotlib.pyplot as plt\n",
    "import networkx as nx\n",
    "import dgl\n",
    "import torch\n",
    "import scipy.sparse as sp\n",
    "import torch.nn as nn\n",
    "from node2vec import Node2Vec\n",
    "import torch.nn.functional as F\n",
    "from sklearn.metrics import roc_auc_score\n",
    "import itertools"
   ]
  },
  {
   "cell_type": "code",
   "execution_count": 23,
   "metadata": {},
   "outputs": [],
   "source": [
    "from dgl.nn import SAGEConv\n",
    "import dgl.function as fn\n",
    "\n",
    "# ----------- 2. create model -------------- #\n",
    "# build a two-layer GraphSAGE model\n",
    "class GraphSAGE(nn.Module):\n",
    "    def __init__(self, in_feats, h_feats):\n",
    "        super(GraphSAGE, self).__init__()\n",
    "        self.conv1 = SAGEConv(in_feats, h_feats, 'mean')\n",
    "        self.conv2 = SAGEConv(h_feats, h_feats, 'mean')\n",
    "\n",
    "    def forward(self, g, in_feat):\n",
    "        h = self.conv1(g, in_feat)\n",
    "        h = F.relu(h)\n",
    "        h = self.conv2(g, h)\n",
    "        return h\n",
    "\n",
    "class DotPredictor(nn.Module):\n",
    "    def forward(self, g, h):\n",
    "        with g.local_scope():\n",
    "            g.ndata['h'] = h\n",
    "            # Compute a new edge feature named 'score' by a dot-product between the\n",
    "            # source node feature 'h' and destination node feature 'h'.\n",
    "            g.apply_edges(fn.u_dot_v('h', 'h', 'score'))\n",
    "            # u_dot_v returns a 1-element vector for each edge so you need to squeeze it.\n",
    "            return g.edata['score'][:, 0]"
   ]
  },
  {
   "cell_type": "code",
   "execution_count": 24,
   "metadata": {},
   "outputs": [],
   "source": [
    "G = nx.read_gexf(\"../graph_creation/2020-07-01__to__2020-07-05__15-overlap__hashmap.gexf\")"
   ]
  },
  {
   "cell_type": "code",
   "execution_count": 25,
   "metadata": {},
   "outputs": [],
   "source": [
    "# load the dictionary that is pickled in the feature computation directory in the main.ipynb\n",
    "import pickle\n",
    "with open('feature_combination/final_node_features.pkl', 'rb') as handle:\n",
    "    device_to_features = pickle.load(handle)"
   ]
  },
  {
   "cell_type": "code",
   "execution_count": 26,
   "metadata": {},
   "outputs": [],
   "source": [
    "nx.set_node_attributes(G, device_to_features, \"features\")"
   ]
  },
  {
   "cell_type": "code",
   "execution_count": 27,
   "metadata": {},
   "outputs": [],
   "source": [
    "node_features = {node: G.nodes[node]['features'] for node in G.nodes()}"
   ]
  },
  {
   "cell_type": "code",
   "execution_count": 30,
   "metadata": {},
   "outputs": [
    {
     "data": {
      "application/vnd.jupyter.widget-view+json": {
       "model_id": "8dd9d2c68c374a6f8e4a2915b7c7730b",
       "version_major": 2,
       "version_minor": 0
      },
      "text/plain": [
       "Computing transition probabilities:   0%|          | 0/14964 [00:00<?, ?it/s]"
      ]
     },
     "metadata": {},
     "output_type": "display_data"
    },
    {
     "name": "stderr",
     "output_type": "stream",
     "text": [
      "Generating walks (CPU: 1): 100%|██████████| 3/3 [01:58<00:00, 39.55s/it]\n",
      "Generating walks (CPU: 3): 100%|██████████| 2/2 [01:18<00:00, 39.39s/it]\n",
      "Generating walks (CPU: 2): 100%|██████████| 3/3 [02:02<00:00, 40.80s/it]\n",
      "Generating walks (CPU: 4): 100%|██████████| 2/2 [00:36<00:00, 18.04s/it]\n"
     ]
    }
   ],
   "source": [
    "# Precompute probabilities and generate walks - **ON WINDOWS ONLY WORKS WITH workers=1**\n",
    "node2vec = Node2Vec(G, workers=4)\n",
    "# Embed nodes\n",
    "model = node2vec.fit(window=10, min_count=1, batch_words=4)  # Any keywords acceptable by gensim.Word2Vec can be passed, `dimensions` and `workers` are automatically passed (from the Node2Vec constructor)\n",
    "\n",
    "node_embeddings = np.array([model.wv.get_vector(str(node)) for node in G.nodes()])\n",
    "node_embedding_tensor = torch.tensor(node_embeddings)\n",
    "node_features = node_embedding_tensor"
   ]
  },
  {
   "cell_type": "code",
   "execution_count": 31,
   "metadata": {},
   "outputs": [],
   "source": [
    "# node2vec embeddings\n",
    "node2vec_embeds = np.array([model.wv.get_vector(str(node)) for node in G.nodes()])\n",
    "node2vec_embeds_tensor = torch.tensor(node2vec_embeds)\n",
    "import pickle\n",
    "with open(\"node2vec_tensors.pkl\", \"wb\") as f:\n",
    "    pickle.dump(node2vec_embeds_tensor, f)"
   ]
  },
  {
   "cell_type": "code",
   "execution_count": 32,
   "metadata": {},
   "outputs": [],
   "source": [
    "nodes_list = [str(node) for node in G.nodes()]\n",
    "# pickle the list\n",
    "with open(\"nodes_list.pkl\", \"wb\") as f:\n",
    "    pickle.dump(nodes_list, f)"
   ]
  },
  {
   "cell_type": "code",
   "execution_count": 33,
   "metadata": {},
   "outputs": [],
   "source": [
    "# create dictionary of node2vec embeddings\n",
    "node2vec_embeds_dict = {}\n",
    "for i, node in enumerate(G.nodes()):\n",
    "    node2vec_embeds_dict[node] = node2vec_embeds_tensor[i]"
   ]
  },
  {
   "cell_type": "code",
   "execution_count": 29,
   "metadata": {},
   "outputs": [],
   "source": [
    "# unpickle the nodes_list to test\n",
    "with open(\"nodes_list.pkl\", \"rb\") as f:\n",
    "    nodes_list = pickle.load(f)\n",
    "# unpickle the node2vec embeddings to test\n",
    "with open(\"node2vec_tensors.pkl\", \"rb\") as f:\n",
    "    node2vec_embeds_tensor = pickle.load(f)"
   ]
  },
  {
   "cell_type": "code",
   "execution_count": 8,
   "metadata": {},
   "outputs": [
    {
     "data": {
      "text/plain": [
       "'4ea409ee4ba5a873e6539f4eae068b5ba2e4eef079bbb5f6172e1fab8a84a356'"
      ]
     },
     "execution_count": 8,
     "metadata": {},
     "output_type": "execute_result"
    }
   ],
   "source": [
    "nodes_list_test[100]"
   ]
  },
  {
   "cell_type": "code",
   "execution_count": 9,
   "metadata": {},
   "outputs": [
    {
     "data": {
      "text/plain": [
       "tensor([ 0.0678, -0.0978,  0.1176,  0.2491,  0.4019, -0.0688, -0.2275, -0.1570,\n",
       "         0.1999,  0.3366, -0.1170, -0.2604,  0.1415,  0.2174,  0.1607,  0.4422,\n",
       "        -0.2545,  0.4776, -0.0220,  0.3182,  0.2983,  0.1519,  0.0132, -0.3153,\n",
       "        -0.1475,  0.2473, -0.2500, -0.1532,  0.0027,  0.0490,  0.4991, -0.1282,\n",
       "         0.1540,  0.5315, -0.1423,  0.3636,  0.5508,  0.1003, -0.1884,  0.0398,\n",
       "         0.1673, -0.1138, -0.1999,  0.0361,  0.3141, -0.7169,  0.0681, -0.2923,\n",
       "         0.2735, -0.4227, -0.0826, -0.1850, -0.0240,  0.1338,  0.1711,  0.0237,\n",
       "        -0.2996,  0.3038,  0.1666,  0.3178,  0.2808,  0.0485, -0.4842, -0.0363,\n",
       "         0.1714,  0.3209, -0.1156, -0.3539, -0.1264,  0.0433, -0.0614, -0.3220,\n",
       "         0.0480,  0.2568, -0.0291, -0.2346,  0.1942, -0.0291, -0.0733, -0.3597,\n",
       "        -0.0826, -0.1162, -0.0592, -0.1016,  0.2694,  0.4005,  0.0024, -0.5245,\n",
       "        -0.0310,  0.4137,  0.0034, -0.1947, -0.1438,  0.4507, -0.1649,  0.5285,\n",
       "        -0.0175, -0.1653, -0.0440, -0.0178,  0.3155, -0.3237,  0.2173, -0.2292,\n",
       "        -0.0021,  0.3754,  0.2628, -0.3934,  0.6700, -0.1507,  0.4597, -0.1295,\n",
       "        -0.0796,  0.4874,  0.0259, -0.1338,  0.4912, -0.6410,  0.1323, -0.1556,\n",
       "        -0.4193,  0.1134, -0.0701, -0.1376, -0.0411,  0.0523,  0.0985, -0.1536])"
      ]
     },
     "execution_count": 9,
     "metadata": {},
     "output_type": "execute_result"
    }
   ],
   "source": [
    "node2vec_embeds_tensor_test[100]"
   ]
  },
  {
   "cell_type": "code",
   "execution_count": 34,
   "metadata": {},
   "outputs": [],
   "source": [
    "# concatenate node2vec embeddings with the features\n",
    "node_embeddings_np = np.array([np.concatenate((model.wv.get_vector(str(node)), np.array(list(device_to_features[node].values()), dtype=np.float32)), axis=0) for node in G.nodes()])\n",
    "node_embedding_tensor = torch.tensor(node_embeddings_np)\n",
    "node_features = node_embedding_tensor"
   ]
  },
  {
   "cell_type": "code",
   "execution_count": 9,
   "metadata": {},
   "outputs": [],
   "source": [
    "# concatnation with normalized features\n",
    "nodes = nodes_list\n",
    "node2vec_embeddings = node2vec_embeds_tensor_test.numpy()\n",
    "device_features = device_to_features\n",
    "\n",
    "node_embeddings_np_normalized = np.array([np.concatenate((node2vec_embeddings[i], np.array(list(device_features[nodes[i]].values()), dtype=np.float32)), axis=0) for i in range(len(nodes))])\n",
    "node_embedding_tensor_normalized = torch.tensor(node_embeddings_np_normalized)\n",
    "node_features = node_embedding_tensor_normalized"
   ]
  },
  {
   "cell_type": "code",
   "execution_count": 35,
   "metadata": {},
   "outputs": [
    {
     "data": {
      "text/plain": [
       "134"
      ]
     },
     "execution_count": 35,
     "metadata": {},
     "output_type": "execute_result"
    }
   ],
   "source": [
    "node_features.shape[1]"
   ]
  },
  {
   "cell_type": "code",
   "execution_count": 36,
   "metadata": {},
   "outputs": [],
   "source": [
    "dgl_G = dgl.from_networkx(G)\n",
    "u, v = dgl_G.edges()\n",
    "\n",
    "eids = np.arange(dgl_G.number_of_edges())\n",
    "eids = np.random.permutation(eids)\n",
    "test_size = int(len(eids) * 0.1)\n",
    "train_size = dgl_G.number_of_edges() - test_size\n",
    "test_pos_u, test_pos_v = u[eids[:test_size]], v[eids[:test_size]]\n",
    "train_pos_u, train_pos_v = u[eids[test_size:]], v[eids[test_size:]]\n",
    "\n",
    "# Find all negative edges and split them for training and testing\n",
    "adj = sp.coo_matrix((np.ones(len(u)), (u.numpy(), v.numpy())))\n",
    "adj_neg = 1 - adj.todense() - np.eye(dgl_G.number_of_nodes())\n",
    "neg_u, neg_v = np.where(adj_neg != 0)\n",
    "\n",
    "neg_eids = np.random.choice(len(neg_u), dgl_G.number_of_edges())\n",
    "test_neg_u, test_neg_v = neg_u[neg_eids[:test_size]], neg_v[neg_eids[:test_size]]\n",
    "train_neg_u, train_neg_v = neg_u[neg_eids[test_size:]], neg_v[neg_eids[test_size:]]\n"
   ]
  },
  {
   "cell_type": "code",
   "execution_count": 40,
   "metadata": {},
   "outputs": [
    {
     "data": {
      "text/plain": [
       "tensor([-0.0081,  0.0378,  0.0752,  0.0053,  0.1754,  0.0295, -0.0224,  0.2999,\n",
       "         0.0721, -0.0512, -0.2032, -0.0236,  0.0942, -0.2013, -0.4150, -0.0148,\n",
       "        -0.2460,  0.1249, -0.0174,  0.2050,  0.3013,  0.2295, -0.1425,  0.2067,\n",
       "        -0.0708, -0.1469, -0.1771,  0.5667,  0.1792, -0.1908,  0.4507, -0.1286,\n",
       "         0.4415,  0.1812,  0.3994, -0.0927,  0.0656, -0.1599, -0.1556,  0.2036,\n",
       "         0.0573,  0.0811,  0.0896, -0.0717,  0.1291,  0.0311,  0.0117,  0.1952,\n",
       "         0.3511, -0.0533,  0.2512, -0.0193,  0.2186,  0.0161, -0.2315,  0.0807,\n",
       "         0.1363, -0.1678,  0.0364, -0.1003, -0.2711, -0.1683,  0.1880,  0.1512,\n",
       "         0.0233, -0.1649,  0.2490, -0.1761, -0.1515, -0.0136, -0.1970, -0.1427,\n",
       "        -0.4788, -0.4810,  0.2824, -0.2517, -0.1407, -0.1000, -0.0960, -0.0625,\n",
       "        -0.0250, -0.0551, -0.0850,  0.0331, -0.1444,  0.5126,  0.0960, -0.0399,\n",
       "        -0.0298,  0.4612,  0.1812, -0.1223,  0.3441, -0.0591, -0.1406, -0.0399,\n",
       "        -0.4342,  0.2252,  0.1658,  0.0755,  0.0711, -0.0128,  0.2496, -0.3257,\n",
       "         0.1893,  0.0777,  0.1588,  0.0889,  0.3747,  0.0165,  0.1086, -0.0625,\n",
       "        -0.2325,  0.0840,  0.0674, -0.7026,  0.2950, -0.1224,  0.1757,  0.0200,\n",
       "         0.1046, -0.2628, -0.1995,  0.1725, -0.0314,  0.0737,  0.0489,  0.1834,\n",
       "        -0.7546, -0.4724,  2.0000, -0.8855,  1.0000,  0.0000])"
      ]
     },
     "execution_count": 40,
     "metadata": {},
     "output_type": "execute_result"
    }
   ],
   "source": [
    "node_features[0]"
   ]
  },
  {
   "cell_type": "code",
   "execution_count": 41,
   "metadata": {},
   "outputs": [
    {
     "data": {
      "text/plain": [
       "{'avg_locations_per_day': -0.754601226993865,\n",
       " 'avg_distance_per_day': -0.472425051270307,\n",
       " 'age': 2,\n",
       " 'score': -0.8855280414619378,\n",
       " 'female': 1,\n",
       " 'male': 0}"
      ]
     },
     "execution_count": 41,
     "metadata": {},
     "output_type": "execute_result"
    }
   ],
   "source": [
    "device_to_features['ad9adea8e7d63428e9372e0d670244e5033d4d2988e5546f8801692bf9d40646']"
   ]
  },
  {
   "cell_type": "code",
   "execution_count": 39,
   "metadata": {},
   "outputs": [
    {
     "data": {
      "text/plain": [
       "array([-0.00813514,  0.03777379,  0.07524519,  0.0052942 ,  0.1754264 ,\n",
       "        0.0294719 , -0.02243937,  0.29994112,  0.07209021, -0.05122218,\n",
       "       -0.2031843 , -0.02355146,  0.09417741, -0.20132823, -0.4149674 ,\n",
       "       -0.01476257, -0.24599603,  0.12489565, -0.01735623,  0.20502837,\n",
       "        0.3013142 ,  0.22954972, -0.14247212,  0.20670253, -0.07077803,\n",
       "       -0.14691035, -0.17707963,  0.56672496,  0.17919561, -0.19083361,\n",
       "        0.45068824, -0.12860635,  0.44148946,  0.1812185 ,  0.39938694,\n",
       "       -0.09265961,  0.06558739, -0.15990822, -0.1556166 ,  0.20360014,\n",
       "        0.05728378,  0.08111922,  0.08961319, -0.07174372,  0.1290746 ,\n",
       "        0.03112129,  0.01166186,  0.19517194,  0.3511475 , -0.05327895,\n",
       "        0.2511663 , -0.01925827,  0.21864109,  0.01611416, -0.23149537,\n",
       "        0.08066583,  0.13633803, -0.16776836,  0.036378  , -0.10026155,\n",
       "       -0.2711056 , -0.16832137,  0.18802607,  0.1512132 ,  0.02330018,\n",
       "       -0.16486892,  0.24897288, -0.17610708, -0.15153402, -0.01362916,\n",
       "       -0.19701569, -0.1427252 , -0.4788215 , -0.48095432,  0.2824081 ,\n",
       "       -0.25169086, -0.14073136, -0.1000246 , -0.09600109, -0.06245381,\n",
       "       -0.02501662, -0.0551038 , -0.0849691 ,  0.03307362, -0.14435753,\n",
       "        0.512593  ,  0.09598768, -0.03993788, -0.02979855,  0.46117523,\n",
       "        0.18117231, -0.12227305,  0.3440899 , -0.05905377, -0.14059626,\n",
       "       -0.03988237, -0.43424445,  0.22524275,  0.16580394,  0.07548704,\n",
       "        0.07113858, -0.01284268,  0.24956328, -0.3256505 ,  0.18933819,\n",
       "        0.07774118,  0.15882093,  0.08892132,  0.37473327,  0.01645401,\n",
       "        0.10858203, -0.06248016, -0.23251829,  0.08400401,  0.06743827,\n",
       "       -0.7026296 ,  0.29501766, -0.12237783,  0.1757027 ,  0.01996433,\n",
       "        0.10455409, -0.26280665, -0.19952048,  0.17254479, -0.03139774,\n",
       "        0.07366289,  0.04890331,  0.18343645], dtype=float32)"
      ]
     },
     "execution_count": 39,
     "metadata": {},
     "output_type": "execute_result"
    }
   ],
   "source": [
    "model.wv.get_vector(str('ad9adea8e7d63428e9372e0d670244e5033d4d2988e5546f8801692bf9d40646'))"
   ]
  },
  {
   "cell_type": "code",
   "execution_count": 37,
   "metadata": {},
   "outputs": [
    {
     "data": {
      "text/plain": [
       "tensor([-0.0081,  0.0378,  0.0752,  0.0053,  0.1754,  0.0295, -0.0224,  0.2999,\n",
       "         0.0721, -0.0512, -0.2032, -0.0236,  0.0942, -0.2013, -0.4150, -0.0148,\n",
       "        -0.2460,  0.1249, -0.0174,  0.2050,  0.3013,  0.2295, -0.1425,  0.2067,\n",
       "        -0.0708, -0.1469, -0.1771,  0.5667,  0.1792, -0.1908,  0.4507, -0.1286,\n",
       "         0.4415,  0.1812,  0.3994, -0.0927,  0.0656, -0.1599, -0.1556,  0.2036,\n",
       "         0.0573,  0.0811,  0.0896, -0.0717,  0.1291,  0.0311,  0.0117,  0.1952,\n",
       "         0.3511, -0.0533,  0.2512, -0.0193,  0.2186,  0.0161, -0.2315,  0.0807,\n",
       "         0.1363, -0.1678,  0.0364, -0.1003, -0.2711, -0.1683,  0.1880,  0.1512,\n",
       "         0.0233, -0.1649,  0.2490, -0.1761, -0.1515, -0.0136, -0.1970, -0.1427,\n",
       "        -0.4788, -0.4810,  0.2824, -0.2517, -0.1407, -0.1000, -0.0960, -0.0625,\n",
       "        -0.0250, -0.0551, -0.0850,  0.0331, -0.1444,  0.5126,  0.0960, -0.0399,\n",
       "        -0.0298,  0.4612,  0.1812, -0.1223,  0.3441, -0.0591, -0.1406, -0.0399,\n",
       "        -0.4342,  0.2252,  0.1658,  0.0755,  0.0711, -0.0128,  0.2496, -0.3257,\n",
       "         0.1893,  0.0777,  0.1588,  0.0889,  0.3747,  0.0165,  0.1086, -0.0625,\n",
       "        -0.2325,  0.0840,  0.0674, -0.7026,  0.2950, -0.1224,  0.1757,  0.0200,\n",
       "         0.1046, -0.2628, -0.1995,  0.1725, -0.0314,  0.0737,  0.0489,  0.1834,\n",
       "        -0.7546, -0.4724,  2.0000, -0.8855,  1.0000,  0.0000])"
      ]
     },
     "execution_count": 37,
     "metadata": {},
     "output_type": "execute_result"
    }
   ],
   "source": [
    "node_features[0]"
   ]
  },
  {
   "cell_type": "code",
   "execution_count": 42,
   "metadata": {},
   "outputs": [],
   "source": [
    "train_g = dgl.remove_edges(dgl_G, eids[:test_size])"
   ]
  },
  {
   "cell_type": "code",
   "execution_count": 43,
   "metadata": {},
   "outputs": [
    {
     "data": {
      "text/plain": [
       "{}"
      ]
     },
     "execution_count": 43,
     "metadata": {},
     "output_type": "execute_result"
    }
   ],
   "source": [
    "dgl_G.ndata"
   ]
  },
  {
   "cell_type": "code",
   "execution_count": 44,
   "metadata": {},
   "outputs": [],
   "source": [
    "train_pos_g = dgl.graph((train_pos_u, train_pos_v), num_nodes=dgl_G.number_of_nodes())\n",
    "train_neg_g = dgl.graph((train_neg_u, train_neg_v), num_nodes=dgl_G.number_of_nodes())\n",
    "\n",
    "test_pos_g = dgl.graph((test_pos_u, test_pos_v), num_nodes=dgl_G.number_of_nodes())\n",
    "test_neg_g = dgl.graph((test_neg_u, test_neg_v), num_nodes=dgl_G.number_of_nodes())"
   ]
  },
  {
   "cell_type": "code",
   "execution_count": 45,
   "metadata": {},
   "outputs": [],
   "source": [
    "dgl_model = GraphSAGE(node_features.shape[1], 16)\n",
    "# You can replace DotPredictor with MLPPredictor.\n",
    "#pred = MLPPredictor(16)\n",
    "pred = DotPredictor()\n",
    "\n",
    "def compute_loss(pos_score, neg_score):\n",
    "    scores = torch.cat([pos_score, neg_score])\n",
    "    labels = torch.cat([torch.ones(pos_score.shape[0]), torch.zeros(neg_score.shape[0])])\n",
    "    return F.binary_cross_entropy_with_logits(scores, labels)\n",
    "\n",
    "def compute_auc(pos_score, neg_score):\n",
    "    scores = torch.cat([pos_score, neg_score]).numpy()\n",
    "    labels = torch.cat(\n",
    "        [torch.ones(pos_score.shape[0]), torch.zeros(neg_score.shape[0])]).numpy()\n",
    "    return roc_auc_score(labels, scores)"
   ]
  },
  {
   "cell_type": "code",
   "execution_count": 46,
   "metadata": {},
   "outputs": [
    {
     "name": "stdout",
     "output_type": "stream",
     "text": [
      "In epoch 0, loss: 29.565353393554688\n",
      "In epoch 5, loss: 2.8018581867218018\n",
      "In epoch 10, loss: 0.793764054775238\n",
      "In epoch 15, loss: 0.7342694997787476\n",
      "In epoch 20, loss: 0.7193189263343811\n",
      "In epoch 25, loss: 0.7115325331687927\n",
      "In epoch 30, loss: 0.7072196006774902\n",
      "In epoch 35, loss: 0.7044234871864319\n",
      "In epoch 40, loss: 0.7023931741714478\n",
      "In epoch 45, loss: 0.7008395791053772\n",
      "In epoch 50, loss: 0.699611485004425\n",
      "In epoch 55, loss: 0.6986251473426819\n",
      "In epoch 60, loss: 0.6978224515914917\n",
      "In epoch 65, loss: 0.6971615552902222\n",
      "In epoch 70, loss: 0.6966122984886169\n",
      "In epoch 75, loss: 0.6961515545845032\n",
      "In epoch 80, loss: 0.695761501789093\n",
      "In epoch 85, loss: 0.6954282522201538\n",
      "In epoch 90, loss: 0.6951410174369812\n",
      "In epoch 95, loss: 0.6948914527893066\n",
      "In epoch 100, loss: 0.6946732401847839\n",
      "In epoch 105, loss: 0.6944813132286072\n",
      "In epoch 110, loss: 0.6943113207817078\n",
      "In epoch 115, loss: 0.6941598653793335\n",
      "In epoch 120, loss: 0.6940245032310486\n",
      "In epoch 125, loss: 0.6939029097557068\n",
      "In epoch 130, loss: 0.6937928795814514\n",
      "In epoch 135, loss: 0.6936932802200317\n",
      "In epoch 140, loss: 0.6936026215553284\n",
      "In epoch 145, loss: 0.6935198307037354\n",
      "In epoch 150, loss: 0.6934439539909363\n",
      "In epoch 155, loss: 0.6933740973472595\n",
      "In epoch 160, loss: 0.6933097839355469\n",
      "In epoch 165, loss: 0.6932501792907715\n",
      "In epoch 170, loss: 0.6931946873664856\n",
      "In epoch 175, loss: 0.6931431293487549\n",
      "In epoch 180, loss: 0.6930949687957764\n",
      "In epoch 185, loss: 0.6930500268936157\n",
      "In epoch 190, loss: 0.6930075883865356\n",
      "In epoch 195, loss: 0.6929678320884705\n",
      "In epoch 200, loss: 0.692930281162262\n",
      "In epoch 205, loss: 0.6928947567939758\n",
      "In epoch 210, loss: 0.6928612589836121\n",
      "In epoch 215, loss: 0.692829430103302\n",
      "In epoch 220, loss: 0.6927992105484009\n",
      "In epoch 225, loss: 0.6927703022956848\n",
      "In epoch 230, loss: 0.6927427053451538\n",
      "In epoch 235, loss: 0.6927161812782288\n",
      "In epoch 240, loss: 0.6926908493041992\n",
      "In epoch 245, loss: 0.6926664113998413\n",
      "In epoch 250, loss: 0.692642867565155\n",
      "In epoch 255, loss: 0.6926201581954956\n",
      "In epoch 260, loss: 0.6925981044769287\n",
      "In epoch 265, loss: 0.6925767064094543\n",
      "In epoch 270, loss: 0.692555844783783\n",
      "In epoch 275, loss: 0.6925356388092041\n",
      "In epoch 280, loss: 0.6925159692764282\n",
      "In epoch 285, loss: 0.6924968957901001\n",
      "In epoch 290, loss: 0.6924782395362854\n",
      "In epoch 295, loss: 0.6924600601196289\n",
      "In epoch 300, loss: 0.6924424171447754\n",
      "In epoch 305, loss: 0.6924250721931458\n",
      "In epoch 310, loss: 0.6924083232879639\n",
      "In epoch 315, loss: 0.6923918128013611\n",
      "In epoch 320, loss: 0.6923756003379822\n",
      "In epoch 325, loss: 0.6923595070838928\n",
      "In epoch 330, loss: 0.6923438310623169\n",
      "In epoch 335, loss: 0.6923282146453857\n",
      "In epoch 340, loss: 0.6923127770423889\n",
      "In epoch 345, loss: 0.6922978162765503\n",
      "In epoch 350, loss: 0.6922827959060669\n",
      "In epoch 355, loss: 0.692267894744873\n",
      "In epoch 360, loss: 0.692253053188324\n",
      "In epoch 365, loss: 0.6922383308410645\n",
      "In epoch 370, loss: 0.6922237873077393\n",
      "In epoch 375, loss: 0.6922092437744141\n",
      "In epoch 380, loss: 0.6921946406364441\n",
      "In epoch 385, loss: 0.6921801567077637\n",
      "In epoch 390, loss: 0.6921656131744385\n",
      "In epoch 395, loss: 0.6921511292457581\n",
      "In epoch 400, loss: 0.692136824131012\n",
      "In epoch 405, loss: 0.6921225190162659\n",
      "In epoch 410, loss: 0.6921082139015198\n",
      "In epoch 415, loss: 0.6920938491821289\n",
      "In epoch 420, loss: 0.6920791864395142\n",
      "In epoch 425, loss: 0.6920645236968994\n",
      "In epoch 430, loss: 0.6920496225357056\n",
      "In epoch 435, loss: 0.6920346617698669\n",
      "In epoch 440, loss: 0.6920193433761597\n",
      "In epoch 445, loss: 0.6920038461685181\n",
      "In epoch 450, loss: 0.6919879913330078\n",
      "In epoch 455, loss: 0.6919719576835632\n",
      "In epoch 460, loss: 0.6919559836387634\n",
      "In epoch 465, loss: 0.6919395923614502\n",
      "In epoch 470, loss: 0.6919229626655579\n",
      "In epoch 475, loss: 0.6919060945510864\n",
      "In epoch 480, loss: 0.6918891072273254\n",
      "In epoch 485, loss: 0.6918718814849854\n",
      "In epoch 490, loss: 0.6918545961380005\n",
      "In epoch 495, loss: 0.6918370723724365\n",
      "In epoch 500, loss: 0.691819429397583\n",
      "In epoch 505, loss: 0.6918018460273743\n",
      "In epoch 510, loss: 0.6917837858200073\n",
      "In epoch 515, loss: 0.6917651295661926\n",
      "In epoch 520, loss: 0.6917460560798645\n",
      "In epoch 525, loss: 0.6917263865470886\n",
      "In epoch 530, loss: 0.691706657409668\n",
      "In epoch 535, loss: 0.6916863322257996\n",
      "In epoch 540, loss: 0.6916654706001282\n",
      "In epoch 545, loss: 0.6916442513465881\n",
      "In epoch 550, loss: 0.6916223764419556\n",
      "In epoch 555, loss: 0.6915997266769409\n",
      "In epoch 560, loss: 0.6915765404701233\n",
      "In epoch 565, loss: 0.6915525197982788\n",
      "In epoch 570, loss: 0.6915281414985657\n",
      "In epoch 575, loss: 0.6915026307106018\n",
      "In epoch 580, loss: 0.6914764642715454\n",
      "In epoch 585, loss: 0.6914491653442383\n",
      "In epoch 590, loss: 0.6914210319519043\n",
      "In epoch 595, loss: 0.6913915276527405\n",
      "In epoch 600, loss: 0.6913613080978394\n",
      "In epoch 605, loss: 0.6913298964500427\n",
      "In epoch 610, loss: 0.6912975907325745\n",
      "In epoch 615, loss: 0.6912642121315002\n",
      "In epoch 620, loss: 0.6912292242050171\n",
      "In epoch 625, loss: 0.6911930441856384\n",
      "In epoch 630, loss: 0.6911550164222717\n",
      "In epoch 635, loss: 0.6911152601242065\n",
      "In epoch 640, loss: 0.6910741925239563\n",
      "In epoch 645, loss: 0.6910313367843628\n",
      "In epoch 650, loss: 0.6909857392311096\n",
      "In epoch 655, loss: 0.6909372210502625\n",
      "In epoch 660, loss: 0.6908856630325317\n",
      "In epoch 665, loss: 0.6908319592475891\n",
      "In epoch 670, loss: 0.6907755732536316\n",
      "In epoch 675, loss: 0.6907168030738831\n",
      "In epoch 680, loss: 0.6906556487083435\n",
      "In epoch 685, loss: 0.6905912756919861\n",
      "In epoch 690, loss: 0.6905239820480347\n",
      "In epoch 695, loss: 0.6904523372650146\n",
      "In epoch 700, loss: 0.690377414226532\n",
      "In epoch 705, loss: 0.6902980804443359\n",
      "In epoch 710, loss: 0.690213680267334\n",
      "In epoch 715, loss: 0.6901260018348694\n",
      "In epoch 720, loss: 0.6900345683097839\n",
      "In epoch 725, loss: 0.6899374723434448\n",
      "In epoch 730, loss: 0.6898373365402222\n",
      "In epoch 735, loss: 0.6897342205047607\n",
      "In epoch 740, loss: 0.6896263957023621\n",
      "In epoch 745, loss: 0.6895142197608948\n",
      "In epoch 750, loss: 0.6893973350524902\n",
      "In epoch 755, loss: 0.6892764568328857\n",
      "In epoch 760, loss: 0.689150869846344\n",
      "In epoch 765, loss: 0.6890192627906799\n",
      "In epoch 770, loss: 0.6888833045959473\n",
      "In epoch 775, loss: 0.6887433528900146\n",
      "In epoch 780, loss: 0.6886002421379089\n",
      "In epoch 785, loss: 0.6884549260139465\n",
      "In epoch 790, loss: 0.6883071064949036\n",
      "In epoch 795, loss: 0.6881560683250427\n",
      "In epoch 800, loss: 0.6880019307136536\n",
      "In epoch 805, loss: 0.6878446936607361\n",
      "In epoch 810, loss: 0.6876848936080933\n",
      "In epoch 815, loss: 0.6875199675559998\n",
      "In epoch 820, loss: 0.6873489618301392\n",
      "In epoch 825, loss: 0.6871656179428101\n",
      "In epoch 830, loss: 0.686974048614502\n",
      "In epoch 835, loss: 0.6867725253105164\n",
      "In epoch 840, loss: 0.6865633726119995\n",
      "In epoch 845, loss: 0.6863459348678589\n",
      "In epoch 850, loss: 0.6861202120780945\n",
      "In epoch 855, loss: 0.6858850121498108\n",
      "In epoch 860, loss: 0.6856433153152466\n",
      "In epoch 865, loss: 0.6853946447372437\n",
      "In epoch 870, loss: 0.6851404905319214\n",
      "In epoch 875, loss: 0.6848816871643066\n",
      "In epoch 880, loss: 0.6846159100532532\n",
      "In epoch 885, loss: 0.6843423247337341\n",
      "In epoch 890, loss: 0.6840596199035645\n",
      "In epoch 895, loss: 0.6837716102600098\n",
      "In epoch 900, loss: 0.6834743022918701\n",
      "In epoch 905, loss: 0.6831692457199097\n",
      "In epoch 910, loss: 0.6828616857528687\n",
      "In epoch 915, loss: 0.6825469732284546\n",
      "In epoch 920, loss: 0.682229220867157\n",
      "In epoch 925, loss: 0.6819005608558655\n",
      "In epoch 930, loss: 0.6815640330314636\n",
      "In epoch 935, loss: 0.6812232732772827\n",
      "In epoch 940, loss: 0.6808801293373108\n",
      "In epoch 945, loss: 0.6805330514907837\n",
      "In epoch 950, loss: 0.6801818013191223\n",
      "In epoch 955, loss: 0.6798302531242371\n",
      "In epoch 960, loss: 0.6794822812080383\n",
      "In epoch 965, loss: 0.6791337728500366\n",
      "In epoch 970, loss: 0.6787785887718201\n",
      "In epoch 975, loss: 0.6784090399742126\n",
      "In epoch 980, loss: 0.6780240535736084\n",
      "In epoch 985, loss: 0.6776168942451477\n",
      "In epoch 990, loss: 0.6771866083145142\n",
      "In epoch 995, loss: 0.6767480969429016\n",
      "AUC 0.6324675534193994\n"
     ]
    }
   ],
   "source": [
    "# ----------- 3. set up loss and optimizer -------------- #\n",
    "# in this case, loss will in training loop\n",
    "optimizer = torch.optim.Adam(itertools.chain(dgl_model.parameters(), pred.parameters()), lr=0.01)\n",
    "\n",
    "# ----------- 4. training -------------------------------- #\n",
    "all_logits = []\n",
    "loss_values = []\n",
    "for e in range(1000):\n",
    "    # forward\n",
    "    h = dgl_model(train_g, node_features)\n",
    "    pos_score = pred(train_pos_g, h)\n",
    "    neg_score = pred(train_neg_g, h)\n",
    "    loss = compute_loss(pos_score, neg_score)\n",
    "    loss_values.append(loss.item())\n",
    "\n",
    "    # backward\n",
    "    optimizer.zero_grad()\n",
    "    loss.backward()\n",
    "    optimizer.step()\n",
    "\n",
    "    if e % 5 == 0:\n",
    "        print('In epoch {}, loss: {}'.format(e, loss))\n",
    "\n",
    "# ----------- 5. check results ------------------------ #\n",
    "from sklearn.metrics import roc_auc_score\n",
    "with torch.no_grad():\n",
    "    pos_score = pred(test_pos_g, h)\n",
    "    neg_score = pred(test_neg_g, h)\n",
    "    print('AUC', compute_auc(pos_score, neg_score))\n",
    "\n",
    "\n",
    "# Thumbnail credits: Link Prediction with Neo4j, Mark Needham\n",
    "# sphinx_gallery_thumbnail_path = '_static/blitz_4_link_predict.png'"
   ]
  },
  {
   "cell_type": "code",
   "execution_count": null,
   "metadata": {},
   "outputs": [],
   "source": []
  }
 ],
 "metadata": {
  "kernelspec": {
   "display_name": "DataScience",
   "language": "python",
   "name": "python3"
  },
  "language_info": {
   "codemirror_mode": {
    "name": "ipython",
    "version": 3
   },
   "file_extension": ".py",
   "mimetype": "text/x-python",
   "name": "python",
   "nbconvert_exporter": "python",
   "pygments_lexer": "ipython3",
   "version": "3.11.3"
  }
 },
 "nbformat": 4,
 "nbformat_minor": 2
}
