{
 "cells": [
  {
   "cell_type": "markdown",
   "metadata": {},
   "source": [
    "# Import Modules"
   ]
  },
  {
   "cell_type": "code",
   "execution_count": 2,
   "metadata": {},
   "outputs": [],
   "source": [
    "import pandas as pd\n",
    "import numpy as np\n",
    "import matplotlib.pyplot as plt\n",
    "import networkx as nx\n",
    "import dgl\n",
    "import torch\n",
    "import scipy.sparse as sp\n",
    "import torch.nn as nn\n",
    "from node2vec import Node2Vec\n",
    "import torch.nn.functional as F\n",
    "from sklearn.metrics import roc_auc_score\n",
    "import itertools"
   ]
  },
  {
   "cell_type": "code",
   "execution_count": 3,
   "metadata": {},
   "outputs": [],
   "source": [
    "from dgl.nn import SAGEConv\n",
    "import dgl.function as fn\n",
    "\n",
    "# ----------- 2. create model -------------- #\n",
    "# build a two-layer GraphSAGE model\n",
    "class GraphSAGE(nn.Module):\n",
    "    def __init__(self, in_feats, h_feats):\n",
    "        super(GraphSAGE, self).__init__()\n",
    "        self.conv1 = SAGEConv(in_feats, h_feats, 'mean')\n",
    "        self.conv2 = SAGEConv(h_feats, h_feats, 'mean')\n",
    "\n",
    "    def forward(self, g, in_feat):\n",
    "        h = self.conv1(g, in_feat)\n",
    "        h = F.relu(h)\n",
    "        h = self.conv2(g, h)\n",
    "        return h\n",
    "\n",
    "class DotPredictor(nn.Module):\n",
    "    def forward(self, g, h):\n",
    "        with g.local_scope():\n",
    "            g.ndata['h'] = h\n",
    "            # Compute a new edge feature named 'score' by a dot-product between the\n",
    "            # source node feature 'h' and destination node feature 'h'.\n",
    "            g.apply_edges(fn.u_dot_v('h', 'h', 'score'))\n",
    "            # u_dot_v returns a 1-element vector for each edge so you need to squeeze it.\n",
    "            return g.edata['score'][:, 0]"
   ]
  },
  {
   "cell_type": "code",
   "execution_count": 4,
   "metadata": {},
   "outputs": [],
   "source": [
    "G = nx.read_gexf(\"../graph_creation/2020-07-01__to__2020-07-05__15-overlap__hashmap.gexf\")"
   ]
  },
  {
   "cell_type": "code",
   "execution_count": 5,
   "metadata": {},
   "outputs": [],
   "source": [
    "# load the dictionary that is pickled in the feature computation directory in the main.ipynb\n",
    "import pickle\n",
    "with open('feature_combination/final_node_features.pkl', 'rb') as handle:\n",
    "    device_to_features = pickle.load(handle)"
   ]
  },
  {
   "cell_type": "code",
   "execution_count": 6,
   "metadata": {},
   "outputs": [],
   "source": [
    "nx.set_node_attributes(G, device_to_features, \"features\")"
   ]
  },
  {
   "cell_type": "code",
   "execution_count": 7,
   "metadata": {},
   "outputs": [],
   "source": [
    "node_features = {node: G.nodes[node]['features'] for node in G.nodes()}"
   ]
  },
  {
   "cell_type": "code",
   "execution_count": 8,
   "metadata": {},
   "outputs": [
    {
     "data": {
      "application/vnd.jupyter.widget-view+json": {
       "model_id": "4b18f3ccf301497f9d85e0d09288c884",
       "version_major": 2,
       "version_minor": 0
      },
      "text/plain": [
       "Computing transition probabilities:   0%|          | 0/14964 [00:00<?, ?it/s]"
      ]
     },
     "metadata": {},
     "output_type": "display_data"
    },
    {
     "name": "stderr",
     "output_type": "stream",
     "text": [
      "Generating walks (CPU: 1): 100%|██████████| 3/3 [01:26<00:00, 28.72s/it]\n",
      "Generating walks (CPU: 2): 100%|██████████| 3/3 [01:34<00:00, 31.65s/it]\n",
      "Generating walks (CPU: 3): 100%|██████████| 2/2 [01:03<00:00, 31.66s/it]\n",
      "Generating walks (CPU: 4): 100%|██████████| 2/2 [00:41<00:00, 20.53s/it]\n"
     ]
    }
   ],
   "source": [
    "# Precompute probabilities and generate walks - **ON WINDOWS ONLY WORKS WITH workers=1**\n",
    "node2vec = Node2Vec(G, workers=4)\n",
    "# Embed nodes\n",
    "model = node2vec.fit(window=10, min_count=1, batch_words=4)  # Any keywords acceptable by gensim.Word2Vec can be passed, `dimensions` and `workers` are automatically passed (from the Node2Vec constructor)\n",
    "\n",
    "node_embeddings = np.array([model.wv.get_vector(str(node)) for node in G.nodes()])\n",
    "node_embedding_tensor = torch.tensor(node_embeddings)\n",
    "node_features = node_embedding_tensor"
   ]
  },
  {
   "cell_type": "code",
   "execution_count": 9,
   "metadata": {},
   "outputs": [],
   "source": [
    "# node2vec embeddings\n",
    "node2vec_embeds = np.array([model.wv.get_vector(str(node)) for node in G.nodes()])\n",
    "node2vec_embeds_tensor = torch.tensor(node2vec_embeds)\n",
    "import pickle\n",
    "with open(\"node2vec_tensors.pkl\", \"wb\") as f:\n",
    "    pickle.dump(node2vec_embeds_tensor, f)"
   ]
  },
  {
   "cell_type": "code",
   "execution_count": 13,
   "metadata": {},
   "outputs": [],
   "source": [
    "nodes_list = [str(node) for node in G.nodes()]\n",
    "# pickle the list\n",
    "with open(\"nodes_list.pkl\", \"wb\") as f:\n",
    "    pickle.dump(nodes_list, f)"
   ]
  },
  {
   "cell_type": "code",
   "execution_count": 14,
   "metadata": {},
   "outputs": [],
   "source": [
    "# create dictionary of node2vec embeddings\n",
    "node2vec_embeds_dict = {}\n",
    "for i, node in enumerate(G.nodes()):\n",
    "    node2vec_embeds_dict[node] = node2vec_embeds_tensor[i]"
   ]
  },
  {
   "cell_type": "code",
   "execution_count": 8,
   "metadata": {},
   "outputs": [],
   "source": [
    "# unpickle the nodes_list to test\n",
    "with open(\"nodes_list.pkl\", \"rb\") as f:\n",
    "    nodes_list_test = pickle.load(f)\n",
    "# unpickle the node2vec embeddings to test\n",
    "with open(\"node2vec_tensors.pkl\", \"rb\") as f:\n",
    "    node2vec_embeds_tensor_test = pickle.load(f)"
   ]
  },
  {
   "cell_type": "code",
   "execution_count": 8,
   "metadata": {},
   "outputs": [
    {
     "data": {
      "text/plain": [
       "'4ea409ee4ba5a873e6539f4eae068b5ba2e4eef079bbb5f6172e1fab8a84a356'"
      ]
     },
     "execution_count": 8,
     "metadata": {},
     "output_type": "execute_result"
    }
   ],
   "source": [
    "nodes_list_test[100]"
   ]
  },
  {
   "cell_type": "code",
   "execution_count": 9,
   "metadata": {},
   "outputs": [
    {
     "data": {
      "text/plain": [
       "tensor([ 0.0678, -0.0978,  0.1176,  0.2491,  0.4019, -0.0688, -0.2275, -0.1570,\n",
       "         0.1999,  0.3366, -0.1170, -0.2604,  0.1415,  0.2174,  0.1607,  0.4422,\n",
       "        -0.2545,  0.4776, -0.0220,  0.3182,  0.2983,  0.1519,  0.0132, -0.3153,\n",
       "        -0.1475,  0.2473, -0.2500, -0.1532,  0.0027,  0.0490,  0.4991, -0.1282,\n",
       "         0.1540,  0.5315, -0.1423,  0.3636,  0.5508,  0.1003, -0.1884,  0.0398,\n",
       "         0.1673, -0.1138, -0.1999,  0.0361,  0.3141, -0.7169,  0.0681, -0.2923,\n",
       "         0.2735, -0.4227, -0.0826, -0.1850, -0.0240,  0.1338,  0.1711,  0.0237,\n",
       "        -0.2996,  0.3038,  0.1666,  0.3178,  0.2808,  0.0485, -0.4842, -0.0363,\n",
       "         0.1714,  0.3209, -0.1156, -0.3539, -0.1264,  0.0433, -0.0614, -0.3220,\n",
       "         0.0480,  0.2568, -0.0291, -0.2346,  0.1942, -0.0291, -0.0733, -0.3597,\n",
       "        -0.0826, -0.1162, -0.0592, -0.1016,  0.2694,  0.4005,  0.0024, -0.5245,\n",
       "        -0.0310,  0.4137,  0.0034, -0.1947, -0.1438,  0.4507, -0.1649,  0.5285,\n",
       "        -0.0175, -0.1653, -0.0440, -0.0178,  0.3155, -0.3237,  0.2173, -0.2292,\n",
       "        -0.0021,  0.3754,  0.2628, -0.3934,  0.6700, -0.1507,  0.4597, -0.1295,\n",
       "        -0.0796,  0.4874,  0.0259, -0.1338,  0.4912, -0.6410,  0.1323, -0.1556,\n",
       "        -0.4193,  0.1134, -0.0701, -0.1376, -0.0411,  0.0523,  0.0985, -0.1536])"
      ]
     },
     "execution_count": 9,
     "metadata": {},
     "output_type": "execute_result"
    }
   ],
   "source": [
    "node2vec_embeds_tensor_test[100]"
   ]
  },
  {
   "cell_type": "code",
   "execution_count": 10,
   "metadata": {},
   "outputs": [
    {
     "ename": "NameError",
     "evalue": "name 'node2vec_embeds_dict' is not defined",
     "output_type": "error",
     "traceback": [
      "\u001b[0;31m---------------------------------------------------------------------------\u001b[0m",
      "\u001b[0;31mNameError\u001b[0m                                 Traceback (most recent call last)",
      "\u001b[1;32m/mnt/c/Users/patel/Documents/Machine Learning in Real World Networks/Infection-Tracing/link_prediction/main.ipynb Cell 15\u001b[0m line \u001b[0;36m1\n\u001b[0;32m----> <a href='vscode-notebook-cell://wsl%2Bubuntu-20.04/mnt/c/Users/patel/Documents/Machine%20Learning%20in%20Real%20World%20Networks/Infection-Tracing/link_prediction/main.ipynb#X20sdnNjb2RlLXJlbW90ZQ%3D%3D?line=0'>1</a>\u001b[0m node2vec_embeds_dict[\u001b[39m'\u001b[39m\u001b[39m4ea409ee4ba5a873e6539f4eae068b5ba2e4eef079bbb5f6172e1fab8a84a356\u001b[39m\u001b[39m'\u001b[39m]\n",
      "\u001b[0;31mNameError\u001b[0m: name 'node2vec_embeds_dict' is not defined"
     ]
    }
   ],
   "source": [
    "node2vec_embeds_dict['4ea409ee4ba5a873e6539f4eae068b5ba2e4eef079bbb5f6172e1fab8a84a356']"
   ]
  },
  {
   "cell_type": "code",
   "execution_count": 78,
   "metadata": {},
   "outputs": [
    {
     "data": {
      "text/plain": [
       "array([-0.5912568 , -0.13132314,  0.28953677, -0.5395234 , -0.11881539,\n",
       "       -0.05290396,  0.42854133, -0.23255344, -0.68026453,  0.2876868 ,\n",
       "        0.06303207, -0.06183719, -0.6032361 , -0.11136108, -0.4981049 ,\n",
       "       -0.28247738, -0.13522837, -0.50488794, -0.34460413, -0.158043  ,\n",
       "       -0.13343477,  0.27773163,  0.23683423, -0.6131927 ,  0.10993141,\n",
       "       -0.17654072, -0.46577018,  0.16274883,  0.39340004, -0.24064618,\n",
       "        0.13003385,  0.0938566 , -0.42562392,  0.40010926, -0.19992991,\n",
       "        0.1533329 , -0.11335753, -0.14831966,  0.01840584,  0.13027258,\n",
       "       -0.46312875,  0.2404868 , -0.00921797, -0.4054955 ,  0.62533545,\n",
       "       -0.3304973 ,  0.19512108, -0.7676782 ,  0.3637736 ,  0.11157789,\n",
       "       -0.18401256, -0.11701671, -0.06234975, -0.00643352, -0.19885735,\n",
       "       -0.15239982,  0.11919613,  0.16333309,  0.19894603, -0.20397334,\n",
       "        0.13950363, -0.161765  , -0.22726528,  0.22587793,  0.16542503,\n",
       "        0.02220782,  0.5635086 , -0.3135901 ,  0.10524624,  0.16131818,\n",
       "        0.29304782, -0.08566692, -0.11809746,  0.2652903 ,  0.18191463,\n",
       "        0.15629178,  0.4274529 , -0.48491544, -0.20682612, -0.5311178 ,\n",
       "       -0.94627434, -0.7310294 , -0.19842768, -0.15777344,  0.24267685,\n",
       "        0.18334699,  0.6332884 ,  0.21491392,  0.14891185,  0.07479725,\n",
       "        0.56304544,  0.17851448, -0.20048422,  0.06678387,  0.16214868,\n",
       "       -0.43089196,  0.20769012,  0.03796305,  0.07722764, -0.28136787,\n",
       "        0.03584133,  0.53461355,  0.41939953, -0.30562896,  0.15199745,\n",
       "       -0.44943333, -0.3050579 ,  0.1605634 ,  0.20621519,  0.21505837,\n",
       "        0.22222342,  0.07308146,  0.11227357,  0.573694  , -0.29926005,\n",
       "       -0.25128374,  0.23704052, -0.07752208,  0.26162127, -0.07503942,\n",
       "       -0.550396  ,  0.68579024, -0.27124026,  0.41479573,  0.34826332,\n",
       "       -0.3328215 , -0.17905186, -0.00858842], dtype=float32)"
      ]
     },
     "execution_count": 78,
     "metadata": {},
     "output_type": "execute_result"
    }
   ],
   "source": [
    "model.wv.get_vector('34189a0454ae546a57a3823c62136acda961c3f7bad59f6323e43992152f4bca')"
   ]
  },
  {
   "cell_type": "code",
   "execution_count": 60,
   "metadata": {},
   "outputs": [],
   "source": [
    "# concatenate node2vec embeddings with the features\n",
    "node_embeddings_np = np.array([np.concatenate((model.wv.get_vector(str(node)), np.array(list(device_to_features[node].values()), dtype=np.float32)), axis=0) for node in G.nodes()])\n",
    "node_embedding_tensor = torch.tensor(node_embeddings_np)\n",
    "node_features = node_embedding_tensor"
   ]
  },
  {
   "cell_type": "code",
   "execution_count": 9,
   "metadata": {},
   "outputs": [],
   "source": [
    "# concatnation with normalized features\n",
    "nodes = nodes_list_test\n",
    "node2vec_embeddings = node2vec_embeds_tensor_test.numpy()\n",
    "device_features = device_to_features\n",
    "\n",
    "node_embeddings_np_normalized = np.array([np.concatenate((node2vec_embeddings[i], np.array(list(device_features[nodes[i]].values()), dtype=np.float32)), axis=0) for i in range(len(nodes))])\n",
    "node_embedding_tensor_normalized = torch.tensor(node_embeddings_np_normalized)\n",
    "node_features = node_embedding_tensor_normalized"
   ]
  },
  {
   "cell_type": "code",
   "execution_count": 10,
   "metadata": {},
   "outputs": [
    {
     "data": {
      "text/plain": [
       "134"
      ]
     },
     "execution_count": 10,
     "metadata": {},
     "output_type": "execute_result"
    }
   ],
   "source": [
    "node_features.shape[1]"
   ]
  },
  {
   "cell_type": "code",
   "execution_count": 12,
   "metadata": {},
   "outputs": [
    {
     "ename": "",
     "evalue": "",
     "output_type": "error",
     "traceback": [
      "\u001b[1;31mThe Kernel crashed while executing code in the the current cell or a previous cell. Please review the code in the cell(s) to identify a possible cause of the failure. Click <a href='https://aka.ms/vscodeJupyterKernelCrash'>here</a> for more info. View Jupyter <a href='command:jupyter.viewOutput'>log</a> for further details."
     ]
    }
   ],
   "source": [
    "dgl_G = dgl.from_networkx(G)\n",
    "u, v = dgl_G.edges()\n",
    "\n",
    "eids = np.arange(dgl_G.number_of_edges())\n",
    "eids = np.random.permutation(eids)\n",
    "test_size = int(len(eids) * 0.1)\n",
    "train_size = dgl_G.number_of_edges() - test_size\n",
    "test_pos_u, test_pos_v = u[eids[:test_size]], v[eids[:test_size]]\n",
    "train_pos_u, train_pos_v = u[eids[test_size:]], v[eids[test_size:]]\n",
    "\n",
    "# Find all negative edges and split them for training and testing\n",
    "adj = sp.coo_matrix((np.ones(len(u)), (u.numpy(), v.numpy())))\n",
    "adj_neg = 1 - adj.todense() - np.eye(dgl_G.number_of_nodes())\n",
    "neg_u, neg_v = np.where(adj_neg != 0)\n",
    "\n",
    "neg_eids = np.random.choice(len(neg_u), dgl_G.number_of_edges())\n",
    "test_neg_u, test_neg_v = neg_u[neg_eids[:test_size]], neg_v[neg_eids[:test_size]]\n",
    "train_neg_u, train_neg_v = neg_u[neg_eids[test_size:]], neg_v[neg_eids[test_size:]]\n"
   ]
  },
  {
   "cell_type": "code",
   "execution_count": 64,
   "metadata": {},
   "outputs": [],
   "source": [
    "train_g = dgl.remove_edges(dgl_G, eids[:test_size])"
   ]
  },
  {
   "cell_type": "code",
   "execution_count": 65,
   "metadata": {},
   "outputs": [
    {
     "data": {
      "text/plain": [
       "{}"
      ]
     },
     "execution_count": 65,
     "metadata": {},
     "output_type": "execute_result"
    }
   ],
   "source": [
    "dgl_G.ndata"
   ]
  },
  {
   "cell_type": "code",
   "execution_count": 66,
   "metadata": {},
   "outputs": [],
   "source": [
    "train_pos_g = dgl.graph((train_pos_u, train_pos_v), num_nodes=dgl_G.number_of_nodes())\n",
    "train_neg_g = dgl.graph((train_neg_u, train_neg_v), num_nodes=dgl_G.number_of_nodes())\n",
    "\n",
    "test_pos_g = dgl.graph((test_pos_u, test_pos_v), num_nodes=dgl_G.number_of_nodes())\n",
    "test_neg_g = dgl.graph((test_neg_u, test_neg_v), num_nodes=dgl_G.number_of_nodes())"
   ]
  },
  {
   "cell_type": "code",
   "execution_count": 67,
   "metadata": {},
   "outputs": [],
   "source": [
    "dgl_model = GraphSAGE(node_features.shape[1], 16)\n",
    "# You can replace DotPredictor with MLPPredictor.\n",
    "#pred = MLPPredictor(16)\n",
    "pred = DotPredictor()\n",
    "\n",
    "def compute_loss(pos_score, neg_score):\n",
    "    scores = torch.cat([pos_score, neg_score])\n",
    "    labels = torch.cat([torch.ones(pos_score.shape[0]), torch.zeros(neg_score.shape[0])])\n",
    "    return F.binary_cross_entropy_with_logits(scores, labels)\n",
    "\n",
    "def compute_auc(pos_score, neg_score):\n",
    "    scores = torch.cat([pos_score, neg_score]).numpy()\n",
    "    labels = torch.cat(\n",
    "        [torch.ones(pos_score.shape[0]), torch.zeros(neg_score.shape[0])]).numpy()\n",
    "    return roc_auc_score(labels, scores)"
   ]
  },
  {
   "cell_type": "code",
   "execution_count": 69,
   "metadata": {},
   "outputs": [
    {
     "name": "stdout",
     "output_type": "stream",
     "text": [
      "In epoch 0, loss: 1.5259660482406616\n",
      "In epoch 5, loss: 8.507662773132324\n",
      "In epoch 10, loss: 5.302502632141113\n",
      "In epoch 15, loss: 4.197474479675293\n",
      "In epoch 20, loss: 3.1162357330322266\n",
      "In epoch 25, loss: 1.9709445238113403\n",
      "In epoch 30, loss: 1.4767886400222778\n",
      "In epoch 35, loss: 1.3032402992248535\n",
      "In epoch 40, loss: 1.1380212306976318\n",
      "In epoch 45, loss: 1.1069239377975464\n",
      "In epoch 50, loss: 1.0788660049438477\n",
      "In epoch 55, loss: 1.008415699005127\n",
      "In epoch 60, loss: 0.9744167923927307\n",
      "In epoch 65, loss: 0.9500839710235596\n",
      "In epoch 70, loss: 0.9250357747077942\n",
      "In epoch 75, loss: 0.9073923826217651\n",
      "In epoch 80, loss: 0.8924516439437866\n",
      "In epoch 85, loss: 0.8792530298233032\n",
      "In epoch 90, loss: 0.8693866729736328\n",
      "In epoch 95, loss: 0.8604459762573242\n",
      "In epoch 100, loss: 0.8523284792900085\n",
      "In epoch 105, loss: 0.8452860713005066\n",
      "In epoch 110, loss: 0.8388813138008118\n",
      "In epoch 115, loss: 0.8329708576202393\n",
      "In epoch 120, loss: 0.8275228142738342\n",
      "In epoch 125, loss: 0.8224677443504333\n",
      "In epoch 130, loss: 0.8177584409713745\n",
      "In epoch 135, loss: 0.8133491277694702\n",
      "In epoch 140, loss: 0.8092225790023804\n",
      "In epoch 145, loss: 0.8053532242774963\n",
      "In epoch 150, loss: 0.8017249703407288\n",
      "In epoch 155, loss: 0.7983116507530212\n",
      "In epoch 160, loss: 0.7950853109359741\n",
      "In epoch 165, loss: 0.7920295596122742\n",
      "In epoch 170, loss: 0.7891103625297546\n",
      "In epoch 175, loss: 0.7863235473632812\n",
      "In epoch 180, loss: 0.7836549878120422\n",
      "In epoch 185, loss: 0.7811336517333984\n",
      "In epoch 190, loss: 0.7787312865257263\n",
      "In epoch 195, loss: 0.7764330506324768\n",
      "In epoch 200, loss: 0.7742313146591187\n",
      "In epoch 205, loss: 0.7721133232116699\n",
      "In epoch 210, loss: 0.7700729370117188\n",
      "In epoch 215, loss: 0.7681053280830383\n",
      "In epoch 220, loss: 0.7662032842636108\n",
      "In epoch 225, loss: 0.7643654346466064\n",
      "In epoch 230, loss: 0.7625874876976013\n",
      "In epoch 235, loss: 0.7608634233474731\n",
      "In epoch 240, loss: 0.7591902017593384\n",
      "In epoch 245, loss: 0.7575684189796448\n",
      "In epoch 250, loss: 0.755992591381073\n",
      "In epoch 255, loss: 0.7544612884521484\n",
      "In epoch 260, loss: 0.7529727220535278\n",
      "In epoch 265, loss: 0.751524031162262\n",
      "In epoch 270, loss: 0.7501142621040344\n",
      "In epoch 275, loss: 0.7487436532974243\n",
      "In epoch 280, loss: 0.7474082708358765\n",
      "In epoch 285, loss: 0.7461065053939819\n",
      "In epoch 290, loss: 0.7448344826698303\n",
      "In epoch 295, loss: 0.7435929775238037\n",
      "In epoch 300, loss: 0.7423792481422424\n",
      "In epoch 305, loss: 0.7411949634552002\n",
      "In epoch 310, loss: 0.7400388121604919\n",
      "In epoch 315, loss: 0.7389094829559326\n",
      "In epoch 320, loss: 0.7378062605857849\n",
      "In epoch 325, loss: 0.7367289662361145\n",
      "In epoch 330, loss: 0.7356753349304199\n",
      "In epoch 335, loss: 0.7346464991569519\n",
      "In epoch 340, loss: 0.7336397767066956\n",
      "In epoch 345, loss: 0.7326551675796509\n",
      "In epoch 350, loss: 0.7316907048225403\n",
      "In epoch 355, loss: 0.7307464480400085\n",
      "In epoch 360, loss: 0.729822039604187\n",
      "In epoch 365, loss: 0.7289170622825623\n",
      "In epoch 370, loss: 0.7280312776565552\n",
      "In epoch 375, loss: 0.7271637320518494\n",
      "In epoch 380, loss: 0.726313591003418\n",
      "In epoch 385, loss: 0.7254811525344849\n",
      "In epoch 390, loss: 0.7246649265289307\n",
      "In epoch 395, loss: 0.7238648533821106\n",
      "In epoch 400, loss: 0.7230797410011292\n",
      "In epoch 405, loss: 0.7223103642463684\n",
      "In epoch 410, loss: 0.7215558290481567\n",
      "In epoch 415, loss: 0.7208148241043091\n",
      "In epoch 420, loss: 0.7200877070426941\n",
      "In epoch 425, loss: 0.7193743586540222\n",
      "In epoch 430, loss: 0.7186747789382935\n",
      "In epoch 435, loss: 0.7179871201515198\n",
      "In epoch 440, loss: 0.7173126339912415\n",
      "In epoch 445, loss: 0.716650664806366\n",
      "In epoch 450, loss: 0.7159996032714844\n",
      "In epoch 455, loss: 0.7153607606887817\n",
      "In epoch 460, loss: 0.7147340774536133\n",
      "In epoch 465, loss: 0.7141176462173462\n",
      "In epoch 470, loss: 0.7135123014450073\n",
      "In epoch 475, loss: 0.7129180431365967\n",
      "In epoch 480, loss: 0.7123337388038635\n",
      "In epoch 485, loss: 0.7117598056793213\n",
      "In epoch 490, loss: 0.7111952900886536\n",
      "In epoch 495, loss: 0.7106406688690186\n",
      "AUC 0.6135276630076966\n"
     ]
    }
   ],
   "source": [
    "# ----------- 3. set up loss and optimizer -------------- #\n",
    "# in this case, loss will in training loop\n",
    "optimizer = torch.optim.Adam(itertools.chain(dgl_model.parameters(), pred.parameters()), lr=0.01)\n",
    "\n",
    "# ----------- 4. training -------------------------------- #\n",
    "all_logits = []\n",
    "loss_values = []\n",
    "for e in range(500):\n",
    "    # forward\n",
    "    h = dgl_model(train_g, node_features)\n",
    "    pos_score = pred(train_pos_g, h)\n",
    "    neg_score = pred(train_neg_g, h)\n",
    "    loss = compute_loss(pos_score, neg_score)\n",
    "    loss_values.append(loss.item())\n",
    "\n",
    "    # backward\n",
    "    optimizer.zero_grad()\n",
    "    loss.backward()\n",
    "    optimizer.step()\n",
    "\n",
    "    if e % 5 == 0:\n",
    "        print('In epoch {}, loss: {}'.format(e, loss))\n",
    "\n",
    "# ----------- 5. check results ------------------------ #\n",
    "from sklearn.metrics import roc_auc_score\n",
    "with torch.no_grad():\n",
    "    pos_score = pred(test_pos_g, h)\n",
    "    neg_score = pred(test_neg_g, h)\n",
    "    print('AUC', compute_auc(pos_score, neg_score))\n",
    "\n",
    "\n",
    "# Thumbnail credits: Link Prediction with Neo4j, Mark Needham\n",
    "# sphinx_gallery_thumbnail_path = '_static/blitz_4_link_predict.png'"
   ]
  },
  {
   "cell_type": "code",
   "execution_count": null,
   "metadata": {},
   "outputs": [],
   "source": []
  }
 ],
 "metadata": {
  "kernelspec": {
   "display_name": "DataScience",
   "language": "python",
   "name": "python3"
  },
  "language_info": {
   "codemirror_mode": {
    "name": "ipython",
    "version": 3
   },
   "file_extension": ".py",
   "mimetype": "text/x-python",
   "name": "python",
   "nbconvert_exporter": "python",
   "pygments_lexer": "ipython3",
   "version": "3.11.3"
  }
 },
 "nbformat": 4,
 "nbformat_minor": 2
}
