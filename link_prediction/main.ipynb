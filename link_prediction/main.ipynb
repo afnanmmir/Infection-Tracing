{
 "cells": [
  {
   "cell_type": "markdown",
   "metadata": {},
   "source": [
    "# Import Modules"
   ]
  },
  {
   "cell_type": "code",
   "execution_count": 1,
   "metadata": {},
   "outputs": [
    {
     "name": "stderr",
     "output_type": "stream",
     "text": [
      "/home/pintos/miniconda3/envs/DataScience/lib/python3.11/site-packages/tqdm/auto.py:22: TqdmWarning: IProgress not found. Please update jupyter and ipywidgets. See https://ipywidgets.readthedocs.io/en/stable/user_install.html\n",
      "  from .autonotebook import tqdm as notebook_tqdm\n"
     ]
    }
   ],
   "source": [
    "import pandas as pd\n",
    "import numpy as np\n",
    "import matplotlib.pyplot as plt\n",
    "import networkx as nx\n",
    "import torch\n",
    "import scipy.sparse as sp\n",
    "import torch.nn as nn\n",
    "from node2vec import Node2Vec\n",
    "import torch.nn.functional as F\n",
    "from sklearn.metrics import roc_auc_score\n",
    "import itertools\n",
    "import dgl"
   ]
  },
  {
   "cell_type": "code",
   "execution_count": 2,
   "metadata": {},
   "outputs": [],
   "source": [
    "from dgl.nn import SAGEConv\n",
    "from dgl.nn import GraphConv\n",
    "import dgl.function as fn\n",
    "\n",
    "# ----------- 2. create model -------------- #\n",
    "# build a two-layer GraphSAGE model\n",
    "class GraphSAGE(nn.Module):\n",
    "    def __init__(self, in_feats, h_feats):\n",
    "        super(GraphSAGE, self).__init__()\n",
    "        self.conv1 = SAGEConv(in_feats, h_feats, 'mean')\n",
    "        self.conv2 = SAGEConv(h_feats, h_feats, 'mean')\n",
    "\n",
    "    def forward(self, g, in_feat):\n",
    "        h = self.conv1(g, in_feat)\n",
    "        h = F.relu(h)\n",
    "        h = self.conv2(g, h)\n",
    "        return h\n",
    "\n",
    "class GraphGCN(nn.Module):\n",
    "    def __init__(self, in_feats, h_feats):\n",
    "        super(GraphGCN, self).__init__()\n",
    "        self.conv1 = GraphConv(in_feats, h_feats, allow_zero_in_degree=True)\n",
    "        self.conv2 = GraphConv(h_feats, h_feats, allow_zero_in_degree=True)\n",
    "\n",
    "    def forward(self, g, in_feat):\n",
    "        h = self.conv1(g, in_feat)\n",
    "        h = F.relu(h)\n",
    "        h = self.conv2(g, h)\n",
    "        return h\n",
    "\n",
    "class DotPredictor(nn.Module):\n",
    "    def forward(self, g, h):\n",
    "        with g.local_scope():\n",
    "            g.ndata['h'] = h\n",
    "            # Compute a new edge feature named 'score' by a dot-product between the\n",
    "            # source node feature 'h' and destination node feature 'h'.\n",
    "            g.apply_edges(fn.u_dot_v('h', 'h', 'score'))\n",
    "            # u_dot_v returns a 1-element vector for each edge so you need to squeeze it.\n",
    "            return g.edata['score'][:, 0]"
   ]
  },
  {
   "cell_type": "code",
   "execution_count": 3,
   "metadata": {},
   "outputs": [],
   "source": [
    "G = nx.read_gexf(\"../graph_creation/2020-07-01__to__2020-07-05__15-overlap__hashmap.gexf\")"
   ]
  },
  {
   "cell_type": "code",
   "execution_count": 4,
   "metadata": {},
   "outputs": [],
   "source": [
    "# load the dictionary that is pickled in the feature computation directory in the main.ipynb\n",
    "import pickle\n",
    "with open('feature_combination/final_node_features.pkl', 'rb') as handle:\n",
    "    device_to_features = pickle.load(handle)"
   ]
  },
  {
   "cell_type": "code",
   "execution_count": 5,
   "metadata": {},
   "outputs": [],
   "source": [
    "nx.set_node_attributes(G, device_to_features, \"features\")"
   ]
  },
  {
   "cell_type": "code",
   "execution_count": 6,
   "metadata": {},
   "outputs": [],
   "source": [
    "node_features = {node: G.nodes[node]['features'] for node in G.nodes()}"
   ]
  },
  {
   "cell_type": "code",
   "execution_count": 30,
   "metadata": {},
   "outputs": [
    {
     "data": {
      "application/vnd.jupyter.widget-view+json": {
       "model_id": "8dd9d2c68c374a6f8e4a2915b7c7730b",
       "version_major": 2,
       "version_minor": 0
      },
      "text/plain": [
       "Computing transition probabilities:   0%|          | 0/14964 [00:00<?, ?it/s]"
      ]
     },
     "metadata": {},
     "output_type": "display_data"
    },
    {
     "name": "stderr",
     "output_type": "stream",
     "text": [
      "Generating walks (CPU: 1): 100%|██████████| 3/3 [01:58<00:00, 39.55s/it]\n",
      "Generating walks (CPU: 3): 100%|██████████| 2/2 [01:18<00:00, 39.39s/it]\n",
      "Generating walks (CPU: 2): 100%|██████████| 3/3 [02:02<00:00, 40.80s/it]\n",
      "Generating walks (CPU: 4): 100%|██████████| 2/2 [00:36<00:00, 18.04s/it]\n"
     ]
    }
   ],
   "source": [
    "# Precompute probabilities and generate walks - **ON WINDOWS ONLY WORKS WITH workers=1**\n",
    "node2vec = Node2Vec(G, workers=4)\n",
    "# Embed nodes\n",
    "model = node2vec.fit(window=10, min_count=1, batch_words=4)  # Any keywords acceptable by gensim.Word2Vec can be passed, `dimensions` and `workers` are automatically passed (from the Node2Vec constructor)\n",
    "\n",
    "node_embeddings = np.array([model.wv.get_vector(str(node)) for node in G.nodes()])\n",
    "node_embedding_tensor = torch.tensor(node_embeddings)\n",
    "node_features = node_embedding_tensor"
   ]
  },
  {
   "cell_type": "code",
   "execution_count": 31,
   "metadata": {},
   "outputs": [],
   "source": [
    "# node2vec embeddings\n",
    "node2vec_embeds = np.array([model.wv.get_vector(str(node)) for node in G.nodes()])\n",
    "node2vec_embeds_tensor = torch.tensor(node2vec_embeds)\n",
    "import pickle\n",
    "with open(\"node2vec_tensors.pkl\", \"wb\") as f:\n",
    "    pickle.dump(node2vec_embeds_tensor, f)"
   ]
  },
  {
   "cell_type": "code",
   "execution_count": 32,
   "metadata": {},
   "outputs": [],
   "source": [
    "nodes_list = [str(node) for node in G.nodes()]\n",
    "# pickle the list\n",
    "with open(\"nodes_list.pkl\", \"wb\") as f:\n",
    "    pickle.dump(nodes_list, f)"
   ]
  },
  {
   "cell_type": "code",
   "execution_count": 33,
   "metadata": {},
   "outputs": [],
   "source": [
    "# create dictionary of node2vec embeddings\n",
    "node2vec_embeds_dict = {}\n",
    "for i, node in enumerate(G.nodes()):\n",
    "    node2vec_embeds_dict[node] = node2vec_embeds_tensor[i]"
   ]
  },
  {
   "cell_type": "code",
   "execution_count": 7,
   "metadata": {},
   "outputs": [],
   "source": [
    "# unpickle the nodes_list to test\n",
    "with open(\"nodes_list.pkl\", \"rb\") as f:\n",
    "    nodes_list = pickle.load(f)\n",
    "# unpickle the node2vec embeddings to test\n",
    "with open(\"node2vec_tensors.pkl\", \"rb\") as f:\n",
    "    node2vec_embeds_tensor = pickle.load(f)"
   ]
  },
  {
   "cell_type": "code",
   "execution_count": 9,
   "metadata": {},
   "outputs": [
    {
     "data": {
      "text/plain": [
       "torch.Size([128])"
      ]
     },
     "execution_count": 9,
     "metadata": {},
     "output_type": "execute_result"
    }
   ],
   "source": [
    "node2vec_embeds_tensor[0].shape"
   ]
  },
  {
   "cell_type": "code",
   "execution_count": 8,
   "metadata": {},
   "outputs": [
    {
     "data": {
      "text/plain": [
       "'4ea409ee4ba5a873e6539f4eae068b5ba2e4eef079bbb5f6172e1fab8a84a356'"
      ]
     },
     "execution_count": 8,
     "metadata": {},
     "output_type": "execute_result"
    }
   ],
   "source": [
    "nodes_list_test[100]"
   ]
  },
  {
   "cell_type": "code",
   "execution_count": 9,
   "metadata": {},
   "outputs": [
    {
     "data": {
      "text/plain": [
       "tensor([ 0.0678, -0.0978,  0.1176,  0.2491,  0.4019, -0.0688, -0.2275, -0.1570,\n",
       "         0.1999,  0.3366, -0.1170, -0.2604,  0.1415,  0.2174,  0.1607,  0.4422,\n",
       "        -0.2545,  0.4776, -0.0220,  0.3182,  0.2983,  0.1519,  0.0132, -0.3153,\n",
       "        -0.1475,  0.2473, -0.2500, -0.1532,  0.0027,  0.0490,  0.4991, -0.1282,\n",
       "         0.1540,  0.5315, -0.1423,  0.3636,  0.5508,  0.1003, -0.1884,  0.0398,\n",
       "         0.1673, -0.1138, -0.1999,  0.0361,  0.3141, -0.7169,  0.0681, -0.2923,\n",
       "         0.2735, -0.4227, -0.0826, -0.1850, -0.0240,  0.1338,  0.1711,  0.0237,\n",
       "        -0.2996,  0.3038,  0.1666,  0.3178,  0.2808,  0.0485, -0.4842, -0.0363,\n",
       "         0.1714,  0.3209, -0.1156, -0.3539, -0.1264,  0.0433, -0.0614, -0.3220,\n",
       "         0.0480,  0.2568, -0.0291, -0.2346,  0.1942, -0.0291, -0.0733, -0.3597,\n",
       "        -0.0826, -0.1162, -0.0592, -0.1016,  0.2694,  0.4005,  0.0024, -0.5245,\n",
       "        -0.0310,  0.4137,  0.0034, -0.1947, -0.1438,  0.4507, -0.1649,  0.5285,\n",
       "        -0.0175, -0.1653, -0.0440, -0.0178,  0.3155, -0.3237,  0.2173, -0.2292,\n",
       "        -0.0021,  0.3754,  0.2628, -0.3934,  0.6700, -0.1507,  0.4597, -0.1295,\n",
       "        -0.0796,  0.4874,  0.0259, -0.1338,  0.4912, -0.6410,  0.1323, -0.1556,\n",
       "        -0.4193,  0.1134, -0.0701, -0.1376, -0.0411,  0.0523,  0.0985, -0.1536])"
      ]
     },
     "execution_count": 9,
     "metadata": {},
     "output_type": "execute_result"
    }
   ],
   "source": [
    "node2vec_embeds_tensor_test[100]"
   ]
  },
  {
   "cell_type": "code",
   "execution_count": 8,
   "metadata": {},
   "outputs": [
    {
     "ename": "NameError",
     "evalue": "name 'model' is not defined",
     "output_type": "error",
     "traceback": [
      "\u001b[0;31m---------------------------------------------------------------------------\u001b[0m",
      "\u001b[0;31mNameError\u001b[0m                                 Traceback (most recent call last)",
      "\u001b[1;32m/mnt/c/Users/patel/Documents/Machine Learning in Real World Networks/Infection-Tracing/link_prediction/main.ipynb Cell 15\u001b[0m line \u001b[0;36m2\n\u001b[1;32m      <a href='vscode-notebook-cell://wsl%2Bubuntu-20.04/mnt/c/Users/patel/Documents/Machine%20Learning%20in%20Real%20World%20Networks/Infection-Tracing/link_prediction/main.ipynb#X20sdnNjb2RlLXJlbW90ZQ%3D%3D?line=0'>1</a>\u001b[0m \u001b[39m# concatenate node2vec embeddings with the features\u001b[39;00m\n\u001b[0;32m----> <a href='vscode-notebook-cell://wsl%2Bubuntu-20.04/mnt/c/Users/patel/Documents/Machine%20Learning%20in%20Real%20World%20Networks/Infection-Tracing/link_prediction/main.ipynb#X20sdnNjb2RlLXJlbW90ZQ%3D%3D?line=1'>2</a>\u001b[0m node_embeddings_np \u001b[39m=\u001b[39m np\u001b[39m.\u001b[39marray([np\u001b[39m.\u001b[39;49mconcatenate((model\u001b[39m.\u001b[39;49mwv\u001b[39m.\u001b[39;49mget_vector(\u001b[39mstr\u001b[39;49m(node)), np\u001b[39m.\u001b[39;49marray(\u001b[39mlist\u001b[39;49m(device_to_features[node]\u001b[39m.\u001b[39;49mvalues()), dtype\u001b[39m=\u001b[39;49mnp\u001b[39m.\u001b[39;49mfloat32)), axis\u001b[39m=\u001b[39;49m\u001b[39m0\u001b[39;49m) \u001b[39mfor\u001b[39;49;00m node \u001b[39min\u001b[39;49;00m G\u001b[39m.\u001b[39;49mnodes()])\n\u001b[1;32m      <a href='vscode-notebook-cell://wsl%2Bubuntu-20.04/mnt/c/Users/patel/Documents/Machine%20Learning%20in%20Real%20World%20Networks/Infection-Tracing/link_prediction/main.ipynb#X20sdnNjb2RlLXJlbW90ZQ%3D%3D?line=2'>3</a>\u001b[0m node_embedding_tensor \u001b[39m=\u001b[39m torch\u001b[39m.\u001b[39mtensor(node_embeddings_np)\n\u001b[1;32m      <a href='vscode-notebook-cell://wsl%2Bubuntu-20.04/mnt/c/Users/patel/Documents/Machine%20Learning%20in%20Real%20World%20Networks/Infection-Tracing/link_prediction/main.ipynb#X20sdnNjb2RlLXJlbW90ZQ%3D%3D?line=3'>4</a>\u001b[0m node_features \u001b[39m=\u001b[39m node_embedding_tensor\n",
      "\u001b[1;32m/mnt/c/Users/patel/Documents/Machine Learning in Real World Networks/Infection-Tracing/link_prediction/main.ipynb Cell 15\u001b[0m line \u001b[0;36m2\n\u001b[1;32m      <a href='vscode-notebook-cell://wsl%2Bubuntu-20.04/mnt/c/Users/patel/Documents/Machine%20Learning%20in%20Real%20World%20Networks/Infection-Tracing/link_prediction/main.ipynb#X20sdnNjb2RlLXJlbW90ZQ%3D%3D?line=0'>1</a>\u001b[0m \u001b[39m# concatenate node2vec embeddings with the features\u001b[39;00m\n\u001b[0;32m----> <a href='vscode-notebook-cell://wsl%2Bubuntu-20.04/mnt/c/Users/patel/Documents/Machine%20Learning%20in%20Real%20World%20Networks/Infection-Tracing/link_prediction/main.ipynb#X20sdnNjb2RlLXJlbW90ZQ%3D%3D?line=1'>2</a>\u001b[0m node_embeddings_np \u001b[39m=\u001b[39m np\u001b[39m.\u001b[39marray([np\u001b[39m.\u001b[39mconcatenate((model\u001b[39m.\u001b[39mwv\u001b[39m.\u001b[39mget_vector(\u001b[39mstr\u001b[39m(node)), np\u001b[39m.\u001b[39marray(\u001b[39mlist\u001b[39m(device_to_features[node]\u001b[39m.\u001b[39mvalues()), dtype\u001b[39m=\u001b[39mnp\u001b[39m.\u001b[39mfloat32)), axis\u001b[39m=\u001b[39m\u001b[39m0\u001b[39m) \u001b[39mfor\u001b[39;00m node \u001b[39min\u001b[39;00m G\u001b[39m.\u001b[39mnodes()])\n\u001b[1;32m      <a href='vscode-notebook-cell://wsl%2Bubuntu-20.04/mnt/c/Users/patel/Documents/Machine%20Learning%20in%20Real%20World%20Networks/Infection-Tracing/link_prediction/main.ipynb#X20sdnNjb2RlLXJlbW90ZQ%3D%3D?line=2'>3</a>\u001b[0m node_embedding_tensor \u001b[39m=\u001b[39m torch\u001b[39m.\u001b[39mtensor(node_embeddings_np)\n\u001b[1;32m      <a href='vscode-notebook-cell://wsl%2Bubuntu-20.04/mnt/c/Users/patel/Documents/Machine%20Learning%20in%20Real%20World%20Networks/Infection-Tracing/link_prediction/main.ipynb#X20sdnNjb2RlLXJlbW90ZQ%3D%3D?line=3'>4</a>\u001b[0m node_features \u001b[39m=\u001b[39m node_embedding_tensor\n",
      "\u001b[0;31mNameError\u001b[0m: name 'model' is not defined"
     ]
    }
   ],
   "source": [
    "# concatenate node2vec embeddings with the features\n",
    "node_embeddings_np = np.array([np.concatenate((model.wv.get_vector(str(node)), np.array(list(device_to_features[node].values()), dtype=np.float32)), axis=0) for node in G.nodes()])\n",
    "node_embedding_tensor = torch.tensor(node_embeddings_np)\n",
    "node_features = node_embedding_tensor"
   ]
  },
  {
   "cell_type": "code",
   "execution_count": 9,
   "metadata": {},
   "outputs": [],
   "source": [
    "# concatnation with normalized features\n",
    "nodes = nodes_list\n",
    "node2vec_embeddings = node2vec_embeds_tensor.numpy()\n",
    "device_features = device_to_features\n",
    "\n",
    "node_embeddings_np_normalized = np.array([np.concatenate((node2vec_embeddings[i], np.array(list(device_features[nodes_list[i]].values()), dtype=np.float32)), axis=0) for i in range(len(nodes_list))])\n",
    "node_embedding_tensor_normalized = torch.tensor(node_embeddings_np_normalized)\n",
    "node_features = node_embedding_tensor_normalized"
   ]
  },
  {
   "cell_type": "code",
   "execution_count": 10,
   "metadata": {},
   "outputs": [
    {
     "data": {
      "text/plain": [
       "134"
      ]
     },
     "execution_count": 10,
     "metadata": {},
     "output_type": "execute_result"
    }
   ],
   "source": [
    "node_features.shape[1]"
   ]
  },
  {
   "cell_type": "code",
   "execution_count": 1,
   "metadata": {},
   "outputs": [
    {
     "ename": "NameError",
     "evalue": "name 'dgl' is not defined",
     "output_type": "error",
     "traceback": [
      "\u001b[0;31m---------------------------------------------------------------------------\u001b[0m",
      "\u001b[0;31mNameError\u001b[0m                                 Traceback (most recent call last)",
      "\u001b[1;32m/mnt/c/Users/patel/Documents/Machine Learning in Real World Networks/Infection-Tracing/link_prediction/main.ipynb Cell 18\u001b[0m line \u001b[0;36m1\n\u001b[0;32m----> <a href='vscode-notebook-cell://wsl%2Bubuntu-20.04/mnt/c/Users/patel/Documents/Machine%20Learning%20in%20Real%20World%20Networks/Infection-Tracing/link_prediction/main.ipynb#X23sdnNjb2RlLXJlbW90ZQ%3D%3D?line=0'>1</a>\u001b[0m dgl_G \u001b[39m=\u001b[39m dgl\u001b[39m.\u001b[39mfrom_networkx(G)\n\u001b[1;32m      <a href='vscode-notebook-cell://wsl%2Bubuntu-20.04/mnt/c/Users/patel/Documents/Machine%20Learning%20in%20Real%20World%20Networks/Infection-Tracing/link_prediction/main.ipynb#X23sdnNjb2RlLXJlbW90ZQ%3D%3D?line=1'>2</a>\u001b[0m u, v \u001b[39m=\u001b[39m dgl_G\u001b[39m.\u001b[39medges()\n\u001b[1;32m      <a href='vscode-notebook-cell://wsl%2Bubuntu-20.04/mnt/c/Users/patel/Documents/Machine%20Learning%20in%20Real%20World%20Networks/Infection-Tracing/link_prediction/main.ipynb#X23sdnNjb2RlLXJlbW90ZQ%3D%3D?line=3'>4</a>\u001b[0m eids \u001b[39m=\u001b[39m np\u001b[39m.\u001b[39marange(dgl_G\u001b[39m.\u001b[39mnumber_of_edges())\n",
      "\u001b[0;31mNameError\u001b[0m: name 'dgl' is not defined"
     ]
    }
   ],
   "source": [
    "dgl_G = dgl.from_networkx(G)\n",
    "u, v = dgl_G.edges()\n",
    "\n",
    "eids = np.arange(dgl_G.number_of_edges())\n",
    "eids = np.random.permutation(eids)\n",
    "test_size = int(len(eids) * 0.1)\n",
    "train_size = dgl_G.number_of_edges() - test_size\n",
    "test_pos_u, test_pos_v = u[eids[:test_size]], v[eids[:test_size]]\n",
    "train_pos_u, train_pos_v = u[eids[test_size:]], v[eids[test_size:]]\n",
    "\n",
    "# Find all negative edges and split them for training and testing\n",
    "adj = sp.coo_matrix((np.ones(len(u)), (u.numpy(), v.numpy())))\n",
    "adj_neg = 1 - adj.todense() - np.eye(dgl_G.number_of_nodes())\n",
    "neg_u, neg_v = np.where(adj_neg != 0)\n",
    "\n",
    "neg_eids = np.random.choice(len(neg_u), dgl_G.number_of_edges())\n",
    "test_neg_u, test_neg_v = neg_u[neg_eids[:test_size]], neg_v[neg_eids[:test_size]]\n",
    "train_neg_u, train_neg_v = neg_u[neg_eids[test_size:]], neg_v[neg_eids[test_size:]]\n"
   ]
  },
  {
   "cell_type": "code",
   "execution_count": 12,
   "metadata": {},
   "outputs": [
    {
     "data": {
      "text/plain": [
       "tensor([-0.0081,  0.0378,  0.0752,  0.0053,  0.1754,  0.0295, -0.0224,  0.2999,\n",
       "         0.0721, -0.0512, -0.2032, -0.0236,  0.0942, -0.2013, -0.4150, -0.0148,\n",
       "        -0.2460,  0.1249, -0.0174,  0.2050,  0.3013,  0.2295, -0.1425,  0.2067,\n",
       "        -0.0708, -0.1469, -0.1771,  0.5667,  0.1792, -0.1908,  0.4507, -0.1286,\n",
       "         0.4415,  0.1812,  0.3994, -0.0927,  0.0656, -0.1599, -0.1556,  0.2036,\n",
       "         0.0573,  0.0811,  0.0896, -0.0717,  0.1291,  0.0311,  0.0117,  0.1952,\n",
       "         0.3511, -0.0533,  0.2512, -0.0193,  0.2186,  0.0161, -0.2315,  0.0807,\n",
       "         0.1363, -0.1678,  0.0364, -0.1003, -0.2711, -0.1683,  0.1880,  0.1512,\n",
       "         0.0233, -0.1649,  0.2490, -0.1761, -0.1515, -0.0136, -0.1970, -0.1427,\n",
       "        -0.4788, -0.4810,  0.2824, -0.2517, -0.1407, -0.1000, -0.0960, -0.0625,\n",
       "        -0.0250, -0.0551, -0.0850,  0.0331, -0.1444,  0.5126,  0.0960, -0.0399,\n",
       "        -0.0298,  0.4612,  0.1812, -0.1223,  0.3441, -0.0591, -0.1406, -0.0399,\n",
       "        -0.4342,  0.2252,  0.1658,  0.0755,  0.0711, -0.0128,  0.2496, -0.3257,\n",
       "         0.1893,  0.0777,  0.1588,  0.0889,  0.3747,  0.0165,  0.1086, -0.0625,\n",
       "        -0.2325,  0.0840,  0.0674, -0.7026,  0.2950, -0.1224,  0.1757,  0.0200,\n",
       "         0.1046, -0.2628, -0.1995,  0.1725, -0.0314,  0.0737,  0.0489,  0.1834,\n",
       "        -0.7546, -0.4724,  2.0000, -0.8855,  1.0000,  0.0000])"
      ]
     },
     "execution_count": 12,
     "metadata": {},
     "output_type": "execute_result"
    }
   ],
   "source": [
    "node_features[0]"
   ]
  },
  {
   "cell_type": "code",
   "execution_count": 13,
   "metadata": {},
   "outputs": [
    {
     "data": {
      "text/plain": [
       "{'avg_locations_per_day': -0.754601226993865,\n",
       " 'avg_distance_per_day': -0.472425051270307,\n",
       " 'age': 2,\n",
       " 'score': -0.8855280414619378,\n",
       " 'female': 1,\n",
       " 'male': 0}"
      ]
     },
     "execution_count": 13,
     "metadata": {},
     "output_type": "execute_result"
    }
   ],
   "source": [
    "device_to_features['ad9adea8e7d63428e9372e0d670244e5033d4d2988e5546f8801692bf9d40646']"
   ]
  },
  {
   "cell_type": "code",
   "execution_count": 39,
   "metadata": {},
   "outputs": [
    {
     "data": {
      "text/plain": [
       "array([-0.00813514,  0.03777379,  0.07524519,  0.0052942 ,  0.1754264 ,\n",
       "        0.0294719 , -0.02243937,  0.29994112,  0.07209021, -0.05122218,\n",
       "       -0.2031843 , -0.02355146,  0.09417741, -0.20132823, -0.4149674 ,\n",
       "       -0.01476257, -0.24599603,  0.12489565, -0.01735623,  0.20502837,\n",
       "        0.3013142 ,  0.22954972, -0.14247212,  0.20670253, -0.07077803,\n",
       "       -0.14691035, -0.17707963,  0.56672496,  0.17919561, -0.19083361,\n",
       "        0.45068824, -0.12860635,  0.44148946,  0.1812185 ,  0.39938694,\n",
       "       -0.09265961,  0.06558739, -0.15990822, -0.1556166 ,  0.20360014,\n",
       "        0.05728378,  0.08111922,  0.08961319, -0.07174372,  0.1290746 ,\n",
       "        0.03112129,  0.01166186,  0.19517194,  0.3511475 , -0.05327895,\n",
       "        0.2511663 , -0.01925827,  0.21864109,  0.01611416, -0.23149537,\n",
       "        0.08066583,  0.13633803, -0.16776836,  0.036378  , -0.10026155,\n",
       "       -0.2711056 , -0.16832137,  0.18802607,  0.1512132 ,  0.02330018,\n",
       "       -0.16486892,  0.24897288, -0.17610708, -0.15153402, -0.01362916,\n",
       "       -0.19701569, -0.1427252 , -0.4788215 , -0.48095432,  0.2824081 ,\n",
       "       -0.25169086, -0.14073136, -0.1000246 , -0.09600109, -0.06245381,\n",
       "       -0.02501662, -0.0551038 , -0.0849691 ,  0.03307362, -0.14435753,\n",
       "        0.512593  ,  0.09598768, -0.03993788, -0.02979855,  0.46117523,\n",
       "        0.18117231, -0.12227305,  0.3440899 , -0.05905377, -0.14059626,\n",
       "       -0.03988237, -0.43424445,  0.22524275,  0.16580394,  0.07548704,\n",
       "        0.07113858, -0.01284268,  0.24956328, -0.3256505 ,  0.18933819,\n",
       "        0.07774118,  0.15882093,  0.08892132,  0.37473327,  0.01645401,\n",
       "        0.10858203, -0.06248016, -0.23251829,  0.08400401,  0.06743827,\n",
       "       -0.7026296 ,  0.29501766, -0.12237783,  0.1757027 ,  0.01996433,\n",
       "        0.10455409, -0.26280665, -0.19952048,  0.17254479, -0.03139774,\n",
       "        0.07366289,  0.04890331,  0.18343645], dtype=float32)"
      ]
     },
     "execution_count": 39,
     "metadata": {},
     "output_type": "execute_result"
    }
   ],
   "source": [
    "model.wv.get_vector(str('ad9adea8e7d63428e9372e0d670244e5033d4d2988e5546f8801692bf9d40646'))"
   ]
  },
  {
   "cell_type": "code",
   "execution_count": 15,
   "metadata": {},
   "outputs": [
    {
     "data": {
      "text/plain": [
       "torch.Size([134])"
      ]
     },
     "execution_count": 15,
     "metadata": {},
     "output_type": "execute_result"
    }
   ],
   "source": [
    "node_features[0].shape"
   ]
  },
  {
   "cell_type": "code",
   "execution_count": 16,
   "metadata": {},
   "outputs": [],
   "source": [
    "train_g = dgl.remove_edges(dgl_G, eids[:test_size])"
   ]
  },
  {
   "cell_type": "code",
   "execution_count": 43,
   "metadata": {},
   "outputs": [
    {
     "data": {
      "text/plain": [
       "{}"
      ]
     },
     "execution_count": 43,
     "metadata": {},
     "output_type": "execute_result"
    }
   ],
   "source": [
    "dgl_G.ndata"
   ]
  },
  {
   "cell_type": "code",
   "execution_count": 17,
   "metadata": {},
   "outputs": [],
   "source": [
    "train_pos_g = dgl.graph((train_pos_u, train_pos_v), num_nodes=dgl_G.number_of_nodes())\n",
    "train_neg_g = dgl.graph((train_neg_u, train_neg_v), num_nodes=dgl_G.number_of_nodes())\n",
    "\n",
    "test_pos_g = dgl.graph((test_pos_u, test_pos_v), num_nodes=dgl_G.number_of_nodes())\n",
    "test_neg_g = dgl.graph((test_neg_u, test_neg_v), num_nodes=dgl_G.number_of_nodes())"
   ]
  },
  {
   "cell_type": "code",
   "execution_count": 18,
   "metadata": {},
   "outputs": [],
   "source": [
    "# dgl_model = GraphSAGE(node_features.shape[1], 16)\n",
    "dgl_model = GraphGCN(node_features.shape[1], 16)\n",
    "# You can replace DotPredictor with MLPPredictor.\n",
    "#pred = MLPPredictor(16)\n",
    "pred = DotPredictor()\n",
    "\n",
    "def compute_loss(pos_score, neg_score):\n",
    "    scores = torch.cat([pos_score, neg_score])\n",
    "    labels = torch.cat([torch.ones(pos_score.shape[0]), torch.zeros(neg_score.shape[0])])\n",
    "    return F.binary_cross_entropy_with_logits(scores, labels)\n",
    "\n",
    "def compute_auc(pos_score, neg_score):\n",
    "    scores = torch.cat([pos_score, neg_score]).numpy()\n",
    "    labels = torch.cat(\n",
    "        [torch.ones(pos_score.shape[0]), torch.zeros(neg_score.shape[0])]).numpy()\n",
    "    return roc_auc_score(labels, scores)"
   ]
  },
  {
   "cell_type": "code",
   "execution_count": 19,
   "metadata": {},
   "outputs": [
    {
     "name": "stdout",
     "output_type": "stream",
     "text": [
      "In epoch 0, loss: 1.0145392417907715\n",
      "In epoch 5, loss: 0.6552515029907227\n",
      "In epoch 10, loss: 0.6402152180671692\n",
      "In epoch 15, loss: 0.6284218430519104\n",
      "In epoch 20, loss: 0.6182937026023865\n",
      "In epoch 25, loss: 0.6093270778656006\n",
      "In epoch 30, loss: 0.600718080997467\n",
      "In epoch 35, loss: 0.5918900370597839\n",
      "In epoch 40, loss: 0.5856487154960632\n",
      "In epoch 45, loss: 0.5800530910491943\n",
      "In epoch 50, loss: 0.5757184624671936\n",
      "In epoch 55, loss: 0.5721009373664856\n",
      "In epoch 60, loss: 0.5694682598114014\n",
      "In epoch 65, loss: 0.5677398443222046\n",
      "In epoch 70, loss: 0.5665897130966187\n",
      "In epoch 75, loss: 0.5658081769943237\n",
      "In epoch 80, loss: 0.5658442974090576\n",
      "In epoch 85, loss: 0.5648319721221924\n",
      "In epoch 90, loss: 0.5646822452545166\n",
      "In epoch 95, loss: 0.5643945336341858\n",
      "In epoch 100, loss: 0.5638181567192078\n",
      "In epoch 105, loss: 0.5626167058944702\n",
      "In epoch 110, loss: 0.5618786811828613\n",
      "In epoch 115, loss: 0.5613422989845276\n",
      "In epoch 120, loss: 0.5606527328491211\n",
      "In epoch 125, loss: 0.560150146484375\n",
      "In epoch 130, loss: 0.559812068939209\n",
      "In epoch 135, loss: 0.5592910647392273\n",
      "In epoch 140, loss: 0.5589219331741333\n",
      "In epoch 145, loss: 0.5585134029388428\n",
      "In epoch 150, loss: 0.5582187175750732\n",
      "In epoch 155, loss: 0.5578988194465637\n",
      "In epoch 160, loss: 0.5580334067344666\n",
      "In epoch 165, loss: 0.5572441220283508\n",
      "In epoch 170, loss: 0.5572646260261536\n",
      "In epoch 175, loss: 0.5571599006652832\n",
      "In epoch 180, loss: 0.5564572215080261\n",
      "In epoch 185, loss: 0.5559374690055847\n",
      "In epoch 190, loss: 0.556986391544342\n",
      "In epoch 195, loss: 0.5553370118141174\n",
      "In epoch 200, loss: 0.5553478002548218\n",
      "In epoch 205, loss: 0.5549219250679016\n",
      "In epoch 210, loss: 0.5541571378707886\n",
      "In epoch 215, loss: 0.5571994781494141\n",
      "In epoch 220, loss: 0.5534043312072754\n",
      "In epoch 225, loss: 0.55367511510849\n",
      "In epoch 230, loss: 0.5530579686164856\n",
      "In epoch 235, loss: 0.55244380235672\n",
      "In epoch 240, loss: 0.5521574020385742\n",
      "In epoch 245, loss: 0.5512400269508362\n",
      "In epoch 250, loss: 0.5511120557785034\n",
      "In epoch 255, loss: 0.5518937110900879\n",
      "In epoch 260, loss: 0.5503028631210327\n",
      "In epoch 265, loss: 0.5489594340324402\n",
      "In epoch 270, loss: 0.548129141330719\n",
      "In epoch 275, loss: 0.5476004481315613\n",
      "In epoch 280, loss: 0.5464980602264404\n",
      "In epoch 285, loss: 0.5485410690307617\n",
      "In epoch 290, loss: 0.5447611808776855\n",
      "In epoch 295, loss: 0.5442970991134644\n",
      "In epoch 300, loss: 0.5439968705177307\n",
      "In epoch 305, loss: 0.5427495837211609\n",
      "In epoch 310, loss: 0.5420606732368469\n",
      "In epoch 315, loss: 0.5407717823982239\n",
      "In epoch 320, loss: 0.54007488489151\n",
      "In epoch 325, loss: 0.549526035785675\n",
      "In epoch 330, loss: 0.5429534316062927\n",
      "In epoch 335, loss: 0.5389655828475952\n",
      "In epoch 340, loss: 0.5381906628608704\n",
      "In epoch 345, loss: 0.5380389094352722\n",
      "In epoch 350, loss: 0.5365997552871704\n",
      "In epoch 355, loss: 0.5365881323814392\n",
      "In epoch 360, loss: 0.5355315208435059\n",
      "In epoch 365, loss: 0.5351173877716064\n",
      "In epoch 370, loss: 0.5346448421478271\n",
      "In epoch 375, loss: 0.5341184139251709\n",
      "In epoch 380, loss: 0.5335894823074341\n",
      "In epoch 385, loss: 0.5330564975738525\n",
      "In epoch 390, loss: 0.5326008796691895\n",
      "In epoch 395, loss: 0.5320858359336853\n",
      "In epoch 400, loss: 0.5316367149353027\n",
      "In epoch 405, loss: 0.5318835377693176\n",
      "In epoch 410, loss: 0.5366840958595276\n",
      "In epoch 415, loss: 0.5333407521247864\n",
      "In epoch 420, loss: 0.5312656164169312\n",
      "In epoch 425, loss: 0.5297137498855591\n",
      "In epoch 430, loss: 0.5289589762687683\n",
      "In epoch 435, loss: 0.5285604596138\n",
      "In epoch 440, loss: 0.5281009674072266\n",
      "In epoch 445, loss: 0.5275828838348389\n",
      "In epoch 450, loss: 0.5271085500717163\n",
      "In epoch 455, loss: 0.5267144441604614\n",
      "In epoch 460, loss: 0.5261873006820679\n",
      "In epoch 465, loss: 0.5257506966590881\n",
      "In epoch 470, loss: 0.525246798992157\n",
      "In epoch 475, loss: 0.5247844457626343\n",
      "In epoch 480, loss: 0.5243388414382935\n",
      "In epoch 485, loss: 0.524031400680542\n",
      "In epoch 490, loss: 0.5321753621101379\n",
      "In epoch 495, loss: 0.5255205631256104\n",
      "In epoch 500, loss: 0.5292500853538513\n",
      "In epoch 505, loss: 0.5237832069396973\n",
      "In epoch 510, loss: 0.5227271318435669\n",
      "In epoch 515, loss: 0.5227468013763428\n",
      "In epoch 520, loss: 0.5215561985969543\n",
      "In epoch 525, loss: 0.5212511420249939\n",
      "In epoch 530, loss: 0.5210422873497009\n",
      "In epoch 535, loss: 0.5205432176589966\n",
      "In epoch 540, loss: 0.5201418399810791\n",
      "In epoch 545, loss: 0.5196983218193054\n",
      "In epoch 550, loss: 0.5192989706993103\n",
      "In epoch 555, loss: 0.518890380859375\n",
      "In epoch 560, loss: 0.5184674859046936\n",
      "In epoch 565, loss: 0.5180526375770569\n",
      "In epoch 570, loss: 0.5176393985748291\n",
      "In epoch 575, loss: 0.5172041654586792\n",
      "In epoch 580, loss: 0.5167686343193054\n",
      "In epoch 585, loss: 0.5163185000419617\n",
      "In epoch 590, loss: 0.5158642530441284\n",
      "In epoch 595, loss: 0.5154896974563599\n",
      "In epoch 600, loss: 0.5185542702674866\n",
      "In epoch 605, loss: 0.5178961157798767\n",
      "In epoch 610, loss: 0.5170718431472778\n",
      "In epoch 615, loss: 0.5138252377510071\n",
      "In epoch 620, loss: 0.5145175457000732\n",
      "In epoch 625, loss: 0.5131530165672302\n",
      "In epoch 630, loss: 0.5130088329315186\n",
      "In epoch 635, loss: 0.5121167302131653\n",
      "In epoch 640, loss: 0.5118748545646667\n",
      "In epoch 645, loss: 0.5112610459327698\n",
      "In epoch 650, loss: 0.5109012722969055\n",
      "In epoch 655, loss: 0.5105248093605042\n",
      "In epoch 660, loss: 0.5101615786552429\n",
      "In epoch 665, loss: 0.5099567770957947\n",
      "In epoch 670, loss: 0.5107517838478088\n",
      "In epoch 675, loss: 0.5107972025871277\n",
      "In epoch 680, loss: 0.5086446404457092\n",
      "In epoch 685, loss: 0.5089225172996521\n",
      "In epoch 690, loss: 0.507889449596405\n",
      "In epoch 695, loss: 0.5078741908073425\n",
      "In epoch 700, loss: 0.507432758808136\n",
      "In epoch 705, loss: 0.5072859525680542\n",
      "In epoch 710, loss: 0.5132068991661072\n",
      "In epoch 715, loss: 0.5095263719558716\n",
      "In epoch 720, loss: 0.5090271234512329\n",
      "In epoch 725, loss: 0.5061094760894775\n",
      "In epoch 730, loss: 0.5068248510360718\n",
      "In epoch 735, loss: 0.5056006908416748\n",
      "In epoch 740, loss: 0.5053975582122803\n",
      "In epoch 745, loss: 0.5044697523117065\n",
      "In epoch 750, loss: 0.5044464468955994\n",
      "In epoch 755, loss: 0.5042886734008789\n",
      "In epoch 760, loss: 0.5043340921401978\n",
      "In epoch 765, loss: 0.5058387517929077\n",
      "In epoch 770, loss: 0.5035145282745361\n",
      "In epoch 775, loss: 0.5032861232757568\n",
      "In epoch 780, loss: 0.5027669668197632\n",
      "In epoch 785, loss: 0.5021808743476868\n",
      "In epoch 790, loss: 0.5026605725288391\n",
      "In epoch 795, loss: 0.5059130191802979\n",
      "In epoch 800, loss: 0.5016307234764099\n",
      "In epoch 805, loss: 0.5024038553237915\n",
      "In epoch 810, loss: 0.5010278820991516\n",
      "In epoch 815, loss: 0.5007846355438232\n",
      "In epoch 820, loss: 0.50130295753479\n",
      "In epoch 825, loss: 0.5073562264442444\n",
      "In epoch 830, loss: 0.5029686093330383\n",
      "In epoch 835, loss: 0.5019498467445374\n",
      "In epoch 840, loss: 0.5001401901245117\n",
      "In epoch 845, loss: 0.49925991892814636\n",
      "In epoch 850, loss: 0.4994751214981079\n",
      "In epoch 855, loss: 0.5083062052726746\n",
      "In epoch 860, loss: 0.4993043839931488\n",
      "In epoch 865, loss: 0.4983639419078827\n",
      "In epoch 870, loss: 0.4980250298976898\n",
      "In epoch 875, loss: 0.49737146496772766\n",
      "In epoch 880, loss: 0.4983974099159241\n",
      "In epoch 885, loss: 0.5062028169631958\n",
      "In epoch 890, loss: 0.5009223222732544\n",
      "In epoch 895, loss: 0.49816545844078064\n",
      "In epoch 900, loss: 0.4964262545108795\n",
      "In epoch 905, loss: 0.4958096742630005\n",
      "In epoch 910, loss: 0.49538034200668335\n",
      "In epoch 915, loss: 0.49523288011550903\n",
      "In epoch 920, loss: 0.4961131513118744\n",
      "In epoch 925, loss: 0.5054900646209717\n",
      "In epoch 930, loss: 0.4998706877231598\n",
      "In epoch 935, loss: 0.49376872181892395\n",
      "In epoch 940, loss: 0.49479013681411743\n",
      "In epoch 945, loss: 0.49426019191741943\n",
      "In epoch 950, loss: 0.4930810332298279\n",
      "In epoch 955, loss: 0.49275070428848267\n",
      "In epoch 960, loss: 0.4925655722618103\n",
      "In epoch 965, loss: 0.49222442507743835\n",
      "In epoch 970, loss: 0.4921387732028961\n",
      "In epoch 975, loss: 0.4918983578681946\n",
      "In epoch 980, loss: 0.4917925000190735\n",
      "In epoch 985, loss: 0.4916876554489136\n",
      "In epoch 990, loss: 0.49296167492866516\n",
      "In epoch 995, loss: 0.49480128288269043\n",
      "AUC 0.9109233846055447\n"
     ]
    }
   ],
   "source": [
    "# ----------- 3. set up loss and optimizer -------------- #\n",
    "# in this case, loss will in training loop\n",
    "optimizer = torch.optim.Adam(itertools.chain(dgl_model.parameters(), pred.parameters()), lr=0.01)\n",
    "\n",
    "# ----------- 4. training -------------------------------- #\n",
    "all_logits = []\n",
    "loss_values = []\n",
    "for e in range(1000):\n",
    "    # forward\n",
    "    h = dgl_model(train_g, node_features)\n",
    "    pos_score = pred(train_pos_g, h)\n",
    "    neg_score = pred(train_neg_g, h)\n",
    "    loss = compute_loss(pos_score, neg_score)\n",
    "    loss_values.append(loss.item())\n",
    "\n",
    "    # backward\n",
    "    optimizer.zero_grad()\n",
    "    loss.backward()\n",
    "    optimizer.step()\n",
    "\n",
    "    if e % 5 == 0:\n",
    "        print('In epoch {}, loss: {}'.format(e, loss))\n",
    "\n",
    "# ----------- 5. check results ------------------------ #\n",
    "from sklearn.metrics import roc_auc_score\n",
    "with torch.no_grad():\n",
    "    pos_score = pred(test_pos_g, h)\n",
    "    neg_score = pred(test_neg_g, h)\n",
    "    print('AUC', compute_auc(pos_score, neg_score))\n",
    "\n",
    "\n",
    "# Thumbnail credits: Link Prediction with Neo4j, Mark Needham\n",
    "# sphinx_gallery_thumbnail_path = '_static/blitz_4_link_predict.png'"
   ]
  },
  {
   "cell_type": "code",
   "execution_count": 21,
   "metadata": {},
   "outputs": [],
   "source": [
    "day6_graph = nx.read_gexf(\"../graph_creation/2020-07-06__to__2020-07-06__15-overlap__hashmap.gexf\")"
   ]
  },
  {
   "cell_type": "code",
   "execution_count": 22,
   "metadata": {},
   "outputs": [],
   "source": [
    "original_graph_nodes = set(G.nodes())\n",
    "day6_subgraph = day6_graph.subgraph(original_graph_nodes)"
   ]
  },
  {
   "cell_type": "code",
   "execution_count": 26,
   "metadata": {},
   "outputs": [],
   "source": [
    "node_to_embedding = {}\n",
    "for i, node in enumerate(nodes_list):\n",
    "    node_to_embedding[node] = node_features[i]"
   ]
  },
  {
   "cell_type": "code",
   "execution_count": 29,
   "metadata": {},
   "outputs": [],
   "source": [
    "day6_subgraph_tensors = []\n",
    "for node in list(day6_subgraph.nodes()):\n",
    "    day6_subgraph_tensors.append(node_to_embedding[node])\n",
    "\n",
    "day6_subgraph_tensors = torch.stack(day6_subgraph_tensors)"
   ]
  },
  {
   "cell_type": "code",
   "execution_count": 30,
   "metadata": {},
   "outputs": [
    {
     "data": {
      "text/plain": [
       "torch.Size([5437, 134])"
      ]
     },
     "execution_count": 30,
     "metadata": {},
     "output_type": "execute_result"
    }
   ],
   "source": [
    "day6_subgraph_tensors.shape"
   ]
  },
  {
   "cell_type": "code",
   "execution_count": 40,
   "metadata": {},
   "outputs": [
    {
     "data": {
      "text/plain": [
       "767642"
      ]
     },
     "execution_count": 40,
     "metadata": {},
     "output_type": "execute_result"
    }
   ],
   "source": []
  },
  {
   "cell_type": "code",
   "execution_count": 72,
   "metadata": {},
   "outputs": [
    {
     "data": {
      "text/plain": [
       "array([0., 0., 0., ..., 0., 0., 0.])"
      ]
     },
     "execution_count": 72,
     "metadata": {},
     "output_type": "execute_result"
    }
   ],
   "source": [
    "dgl_day6 = dgl.from_networkx(day6_subgraph)\n",
    "dgl_day6.number_of_nodes()\n",
    "u, v = dgl_day6.edges()\n",
    "eids = np.arange(dgl_day6.number_of_edges())\n",
    "eids = np.random.permutation(eids)\n",
    "test_size = int(len(eids) * 1)\n",
    "train_size = dgl_day6.number_of_edges() - test_size\n",
    "test_pos_u, test_pos_v = u[eids[:test_size]], v[eids[:test_size]]\n",
    "adj = sp.coo_matrix((np.ones(len(u)), (u.numpy(), v.numpy())))\n",
    "adj_dense = adj.todense()\n",
    "\n",
    "# Add a row of zeros at the bottom and a column of zeros to the right\n",
    "adj_dense_padded = np.pad(adj_dense, ((0, 1), (0, 1)), 'constant', constant_values=(0))\n",
    "\n",
    "# Convert the padded dense matrix back to a sparse matrix\n",
    "adj = sp.coo_matrix(adj_dense_padded)\n",
    "adj.shape\n",
    "# adj.todense().shape\n",
    "# adj_neg = 1 - adj.todense() - np.eye(dgl_day6.number_of_nodes())\n",
    "# (np.ones(len(u)), (u.numpy(), v.numpy()))\n",
    "# np.eye(dgl_day6.number_of_nodes()).shape\n",
    "# len(u)\n",
    "# dgl_day6.nodes()\n",
    "# dgl_day6.out_degrees(5436)\n",
    "adj_dense_padded[-1]"
   ]
  },
  {
   "cell_type": "code",
   "execution_count": 73,
   "metadata": {},
   "outputs": [],
   "source": [
    "dgl_day6 = dgl.from_networkx(day6_subgraph)\n",
    "u, v = dgl_day6.edges()\n",
    "\n",
    "eids = np.arange(dgl_day6.number_of_edges())\n",
    "eids = np.random.permutation(eids)\n",
    "test_size = int(len(eids) * 1)\n",
    "train_size = dgl_day6.number_of_edges() - test_size\n",
    "test_pos_u, test_pos_v = u[eids[:test_size]], v[eids[:test_size]]\n",
    "train_pos_u, train_pos_v = u[eids[test_size:]], v[eids[test_size:]]\n",
    "\n",
    "# Find all negative edges and split them for training and testing\n",
    "adj = sp.coo_matrix((np.ones(len(u)), (u.numpy(), v.numpy())))\n",
    "adj_dense = adj.todense()\n",
    "# Add a row of zeros at the bottom and a column of zeros to the right\n",
    "adj_dense_padded = np.pad(adj_dense, ((0, 1), (0, 1)), 'constant', constant_values=(0))\n",
    "# Convert the padded dense matrix back to a sparse matrix\n",
    "adj = sp.coo_matrix(adj_dense_padded)\n",
    "adj_neg = 1 - adj_dense_padded - np.eye(dgl_day6.number_of_nodes())\n",
    "neg_u, neg_v = np.where(adj_neg != 0)\n",
    "\n",
    "neg_eids = np.random.choice(len(neg_u), dgl_day6.number_of_edges())\n",
    "test_neg_u, test_neg_v = neg_u[neg_eids[:test_size]], neg_v[neg_eids[:test_size]]\n",
    "train_neg_u, train_neg_v = neg_u[neg_eids[test_size:]], neg_v[neg_eids[test_size:]]"
   ]
  },
  {
   "cell_type": "code",
   "execution_count": 81,
   "metadata": {},
   "outputs": [],
   "source": [
    "test_pos_g_6 = dgl.graph((test_pos_u, test_pos_v), num_nodes=dgl_day6.number_of_nodes())\n",
    "test_neg_g_6 = dgl.graph((test_neg_u, test_neg_v), num_nodes=dgl_day6.number_of_nodes())"
   ]
  },
  {
   "cell_type": "code",
   "execution_count": 79,
   "metadata": {},
   "outputs": [],
   "source": [
    "test_pos_g = dgl.graph((test_pos_u, test_pos_v), num_nodes=dgl_G.number_of_nodes())\n",
    "test_neg_g = dgl.graph((test_neg_u, test_neg_v), num_nodes=dgl_G.number_of_nodes())"
   ]
  },
  {
   "cell_type": "code",
   "execution_count": 84,
   "metadata": {},
   "outputs": [
    {
     "data": {
      "text/plain": [
       "Graph(num_nodes=14964, num_edges=47130,\n",
       "      ndata_schemes={}\n",
       "      edata_schemes={})"
      ]
     },
     "execution_count": 84,
     "metadata": {},
     "output_type": "execute_result"
    }
   ],
   "source": [
    "test_pos_g"
   ]
  },
  {
   "cell_type": "code",
   "execution_count": 85,
   "metadata": {},
   "outputs": [
    {
     "ename": "DGLError",
     "evalue": "Expect number of features to match number of nodes (len(u)). Got 14964 and 5437 instead.",
     "output_type": "error",
     "traceback": [
      "\u001b[0;31m---------------------------------------------------------------------------\u001b[0m",
      "\u001b[0;31mDGLError\u001b[0m                                  Traceback (most recent call last)",
      "\u001b[1;32m/Users/afnanmir/Documents/Classes/ECE381K/project/Infection-Tracing/link_prediction/main.ipynb Cell 41\u001b[0m line \u001b[0;36m4\n\u001b[1;32m      <a href='vscode-notebook-cell:/Users/afnanmir/Documents/Classes/ECE381K/project/Infection-Tracing/link_prediction/main.ipynb#X55sZmlsZQ%3D%3D?line=1'>2</a>\u001b[0m \u001b[39mfrom\u001b[39;00m \u001b[39msklearn\u001b[39;00m\u001b[39m.\u001b[39;00m\u001b[39mmetrics\u001b[39;00m \u001b[39mimport\u001b[39;00m roc_auc_score\n\u001b[1;32m      <a href='vscode-notebook-cell:/Users/afnanmir/Documents/Classes/ECE381K/project/Infection-Tracing/link_prediction/main.ipynb#X55sZmlsZQ%3D%3D?line=2'>3</a>\u001b[0m \u001b[39mwith\u001b[39;00m torch\u001b[39m.\u001b[39mno_grad():\n\u001b[0;32m----> <a href='vscode-notebook-cell:/Users/afnanmir/Documents/Classes/ECE381K/project/Infection-Tracing/link_prediction/main.ipynb#X55sZmlsZQ%3D%3D?line=3'>4</a>\u001b[0m     pos_score \u001b[39m=\u001b[39m pred(test_pos_g_6, h)\n\u001b[1;32m      <a href='vscode-notebook-cell:/Users/afnanmir/Documents/Classes/ECE381K/project/Infection-Tracing/link_prediction/main.ipynb#X55sZmlsZQ%3D%3D?line=4'>5</a>\u001b[0m     neg_score \u001b[39m=\u001b[39m pred(test_neg_g_6, h)\n\u001b[1;32m      <a href='vscode-notebook-cell:/Users/afnanmir/Documents/Classes/ECE381K/project/Infection-Tracing/link_prediction/main.ipynb#X55sZmlsZQ%3D%3D?line=5'>6</a>\u001b[0m     \u001b[39mprint\u001b[39m(\u001b[39m'\u001b[39m\u001b[39mAUC\u001b[39m\u001b[39m'\u001b[39m, compute_auc(pos_score, neg_score))\n",
      "File \u001b[0;32m~/miniforge3/envs/mlrn/lib/python3.11/site-packages/torch/nn/modules/module.py:1518\u001b[0m, in \u001b[0;36mModule._wrapped_call_impl\u001b[0;34m(self, *args, **kwargs)\u001b[0m\n\u001b[1;32m   1516\u001b[0m     \u001b[39mreturn\u001b[39;00m \u001b[39mself\u001b[39m\u001b[39m.\u001b[39m_compiled_call_impl(\u001b[39m*\u001b[39margs, \u001b[39m*\u001b[39m\u001b[39m*\u001b[39mkwargs)  \u001b[39m# type: ignore[misc]\u001b[39;00m\n\u001b[1;32m   1517\u001b[0m \u001b[39melse\u001b[39;00m:\n\u001b[0;32m-> 1518\u001b[0m     \u001b[39mreturn\u001b[39;00m \u001b[39mself\u001b[39;49m\u001b[39m.\u001b[39;49m_call_impl(\u001b[39m*\u001b[39;49margs, \u001b[39m*\u001b[39;49m\u001b[39m*\u001b[39;49mkwargs)\n",
      "File \u001b[0;32m~/miniforge3/envs/mlrn/lib/python3.11/site-packages/torch/nn/modules/module.py:1527\u001b[0m, in \u001b[0;36mModule._call_impl\u001b[0;34m(self, *args, **kwargs)\u001b[0m\n\u001b[1;32m   1522\u001b[0m \u001b[39m# If we don't have any hooks, we want to skip the rest of the logic in\u001b[39;00m\n\u001b[1;32m   1523\u001b[0m \u001b[39m# this function, and just call forward.\u001b[39;00m\n\u001b[1;32m   1524\u001b[0m \u001b[39mif\u001b[39;00m \u001b[39mnot\u001b[39;00m (\u001b[39mself\u001b[39m\u001b[39m.\u001b[39m_backward_hooks \u001b[39mor\u001b[39;00m \u001b[39mself\u001b[39m\u001b[39m.\u001b[39m_backward_pre_hooks \u001b[39mor\u001b[39;00m \u001b[39mself\u001b[39m\u001b[39m.\u001b[39m_forward_hooks \u001b[39mor\u001b[39;00m \u001b[39mself\u001b[39m\u001b[39m.\u001b[39m_forward_pre_hooks\n\u001b[1;32m   1525\u001b[0m         \u001b[39mor\u001b[39;00m _global_backward_pre_hooks \u001b[39mor\u001b[39;00m _global_backward_hooks\n\u001b[1;32m   1526\u001b[0m         \u001b[39mor\u001b[39;00m _global_forward_hooks \u001b[39mor\u001b[39;00m _global_forward_pre_hooks):\n\u001b[0;32m-> 1527\u001b[0m     \u001b[39mreturn\u001b[39;00m forward_call(\u001b[39m*\u001b[39;49margs, \u001b[39m*\u001b[39;49m\u001b[39m*\u001b[39;49mkwargs)\n\u001b[1;32m   1529\u001b[0m \u001b[39mtry\u001b[39;00m:\n\u001b[1;32m   1530\u001b[0m     result \u001b[39m=\u001b[39m \u001b[39mNone\u001b[39;00m\n",
      "\u001b[1;32m/Users/afnanmir/Documents/Classes/ECE381K/project/Infection-Tracing/link_prediction/main.ipynb Cell 41\u001b[0m line \u001b[0;36m3\n\u001b[1;32m     <a href='vscode-notebook-cell:/Users/afnanmir/Documents/Classes/ECE381K/project/Infection-Tracing/link_prediction/main.ipynb#X55sZmlsZQ%3D%3D?line=31'>32</a>\u001b[0m \u001b[39mdef\u001b[39;00m \u001b[39mforward\u001b[39m(\u001b[39mself\u001b[39m, g, h):\n\u001b[1;32m     <a href='vscode-notebook-cell:/Users/afnanmir/Documents/Classes/ECE381K/project/Infection-Tracing/link_prediction/main.ipynb#X55sZmlsZQ%3D%3D?line=32'>33</a>\u001b[0m     \u001b[39mwith\u001b[39;00m g\u001b[39m.\u001b[39mlocal_scope():\n\u001b[0;32m---> <a href='vscode-notebook-cell:/Users/afnanmir/Documents/Classes/ECE381K/project/Infection-Tracing/link_prediction/main.ipynb#X55sZmlsZQ%3D%3D?line=33'>34</a>\u001b[0m         g\u001b[39m.\u001b[39;49mndata[\u001b[39m'\u001b[39;49m\u001b[39mh\u001b[39;49m\u001b[39m'\u001b[39;49m] \u001b[39m=\u001b[39m h\n\u001b[1;32m     <a href='vscode-notebook-cell:/Users/afnanmir/Documents/Classes/ECE381K/project/Infection-Tracing/link_prediction/main.ipynb#X55sZmlsZQ%3D%3D?line=34'>35</a>\u001b[0m         \u001b[39m# Compute a new edge feature named 'score' by a dot-product between the\u001b[39;00m\n\u001b[1;32m     <a href='vscode-notebook-cell:/Users/afnanmir/Documents/Classes/ECE381K/project/Infection-Tracing/link_prediction/main.ipynb#X55sZmlsZQ%3D%3D?line=35'>36</a>\u001b[0m         \u001b[39m# source node feature 'h' and destination node feature 'h'.\u001b[39;00m\n\u001b[1;32m     <a href='vscode-notebook-cell:/Users/afnanmir/Documents/Classes/ECE381K/project/Infection-Tracing/link_prediction/main.ipynb#X55sZmlsZQ%3D%3D?line=36'>37</a>\u001b[0m         g\u001b[39m.\u001b[39mapply_edges(fn\u001b[39m.\u001b[39mu_dot_v(\u001b[39m'\u001b[39m\u001b[39mh\u001b[39m\u001b[39m'\u001b[39m, \u001b[39m'\u001b[39m\u001b[39mh\u001b[39m\u001b[39m'\u001b[39m, \u001b[39m'\u001b[39m\u001b[39mscore\u001b[39m\u001b[39m'\u001b[39m))\n",
      "File \u001b[0;32m~/miniforge3/envs/mlrn/lib/python3.11/site-packages/dgl/view.py:99\u001b[0m, in \u001b[0;36mHeteroNodeDataView.__setitem__\u001b[0;34m(self, key, val)\u001b[0m\n\u001b[1;32m     94\u001b[0m \u001b[39melse\u001b[39;00m:\n\u001b[1;32m     95\u001b[0m     \u001b[39massert\u001b[39;00m \u001b[39misinstance\u001b[39m(val, \u001b[39mdict\u001b[39m) \u001b[39mis\u001b[39;00m \u001b[39mFalse\u001b[39;00m, (\n\u001b[1;32m     96\u001b[0m         \u001b[39m\"\u001b[39m\u001b[39mThe HeteroNodeDataView has only one node type. \u001b[39m\u001b[39m\"\u001b[39m\n\u001b[1;32m     97\u001b[0m         \u001b[39m\"\u001b[39m\u001b[39mplease pass a tensor directly\u001b[39m\u001b[39m\"\u001b[39m\n\u001b[1;32m     98\u001b[0m     )\n\u001b[0;32m---> 99\u001b[0m     \u001b[39mself\u001b[39;49m\u001b[39m.\u001b[39;49m_graph\u001b[39m.\u001b[39;49m_set_n_repr(\u001b[39mself\u001b[39;49m\u001b[39m.\u001b[39;49m_ntid, \u001b[39mself\u001b[39;49m\u001b[39m.\u001b[39;49m_nodes, {key: val})\n",
      "File \u001b[0;32m~/miniforge3/envs/mlrn/lib/python3.11/site-packages/dgl/heterograph.py:4342\u001b[0m, in \u001b[0;36mDGLGraph._set_n_repr\u001b[0;34m(self, ntid, u, data)\u001b[0m\n\u001b[1;32m   4340\u001b[0m nfeats \u001b[39m=\u001b[39m F\u001b[39m.\u001b[39mshape(val)[\u001b[39m0\u001b[39m]\n\u001b[1;32m   4341\u001b[0m \u001b[39mif\u001b[39;00m nfeats \u001b[39m!=\u001b[39m num_nodes:\n\u001b[0;32m-> 4342\u001b[0m     \u001b[39mraise\u001b[39;00m DGLError(\n\u001b[1;32m   4343\u001b[0m         \u001b[39m\"\u001b[39m\u001b[39mExpect number of features to match number of nodes (len(u)).\u001b[39m\u001b[39m\"\u001b[39m\n\u001b[1;32m   4344\u001b[0m         \u001b[39m\"\u001b[39m\u001b[39m Got \u001b[39m\u001b[39m%d\u001b[39;00m\u001b[39m and \u001b[39m\u001b[39m%d\u001b[39;00m\u001b[39m instead.\u001b[39m\u001b[39m\"\u001b[39m \u001b[39m%\u001b[39m (nfeats, num_nodes)\n\u001b[1;32m   4345\u001b[0m     )\n\u001b[1;32m   4346\u001b[0m \u001b[39mif\u001b[39;00m F\u001b[39m.\u001b[39mcontext(val) \u001b[39m!=\u001b[39m \u001b[39mself\u001b[39m\u001b[39m.\u001b[39mdevice:\n\u001b[1;32m   4347\u001b[0m     \u001b[39mraise\u001b[39;00m DGLError(\n\u001b[1;32m   4348\u001b[0m         \u001b[39m'\u001b[39m\u001b[39mCannot assign node feature \u001b[39m\u001b[39m\"\u001b[39m\u001b[39m{}\u001b[39;00m\u001b[39m\"\u001b[39m\u001b[39m on device \u001b[39m\u001b[39m{}\u001b[39;00m\u001b[39m to a graph on\u001b[39m\u001b[39m'\u001b[39m\n\u001b[1;32m   4349\u001b[0m         \u001b[39m\"\u001b[39m\u001b[39m device \u001b[39m\u001b[39m{}\u001b[39;00m\u001b[39m. Call DGLGraph.to() to copy the graph to the\u001b[39m\u001b[39m\"\u001b[39m\n\u001b[1;32m   4350\u001b[0m         \u001b[39m\"\u001b[39m\u001b[39m same device.\u001b[39m\u001b[39m\"\u001b[39m\u001b[39m.\u001b[39mformat(key, F\u001b[39m.\u001b[39mcontext(val), \u001b[39mself\u001b[39m\u001b[39m.\u001b[39mdevice)\n\u001b[1;32m   4351\u001b[0m     )\n",
      "\u001b[0;31mDGLError\u001b[0m: Expect number of features to match number of nodes (len(u)). Got 14964 and 5437 instead."
     ]
    }
   ],
   "source": [
    "# ----------- 5. check results ------------------------ #\n",
    "from sklearn.metrics import roc_auc_score\n",
    "with torch.no_grad():\n",
    "    pos_score = pred(test_pos_g_6, h)\n",
    "    neg_score = pred(test_neg_g_6, h)\n",
    "    print('AUC', compute_auc(pos_score, neg_score))"
   ]
  },
  {
   "cell_type": "code",
   "execution_count": null,
   "metadata": {},
   "outputs": [],
   "source": []
  }
 ],
 "metadata": {
  "kernelspec": {
   "display_name": "DataScience",
   "language": "python",
   "name": "python3"
  },
  "language_info": {
   "codemirror_mode": {
    "name": "ipython",
    "version": 3
   },
   "file_extension": ".py",
   "mimetype": "text/x-python",
   "name": "python",
   "nbconvert_exporter": "python",
   "pygments_lexer": "ipython3",
   "version": "3.11.3"
  }
 },
 "nbformat": 4,
 "nbformat_minor": 2
}
