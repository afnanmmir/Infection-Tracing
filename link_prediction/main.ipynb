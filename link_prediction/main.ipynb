{
 "cells": [
  {
   "cell_type": "markdown",
   "metadata": {},
   "source": [
    "# Import Modules"
   ]
  },
  {
   "cell_type": "code",
   "execution_count": 43,
   "metadata": {},
   "outputs": [],
   "source": [
    "import pandas as pd\n",
    "import numpy as np\n",
    "import matplotlib.pyplot as plt\n",
    "import networkx as nx\n",
    "import torch\n",
    "import scipy.sparse as sp\n",
    "import torch.nn as nn\n",
    "from node2vec import Node2Vec\n",
    "import torch.nn.functional as F\n",
    "from sklearn.metrics import roc_auc_score\n",
    "import itertools\n",
    "import dgl"
   ]
  },
  {
   "cell_type": "code",
   "execution_count": 56,
   "metadata": {},
   "outputs": [],
   "source": [
    "from dgl.nn import SAGEConv\n",
    "from dgl.nn import GraphConv\n",
    "import dgl.function as fn\n",
    "\n",
    "# ----------- 2. create model -------------- #\n",
    "# build a two-layer GraphSAGE model\n",
    "class GraphSAGE(nn.Module):\n",
    "    def __init__(self, in_feats, h_feats):\n",
    "        super(GraphSAGE, self).__init__()\n",
    "        self.conv1 = SAGEConv(in_feats, h_feats, 'mean')\n",
    "        self.conv2 = SAGEConv(h_feats, h_feats, 'mean')\n",
    "\n",
    "    def forward(self, g, in_feat):\n",
    "        h = self.conv1(g, in_feat)\n",
    "        h = F.relu(h)\n",
    "        h = self.conv2(g, h)\n",
    "        return h\n",
    "\n",
    "class GraphGCN(nn.Module):\n",
    "    def __init__(self, in_feats, h_feats):\n",
    "        super(GraphGCN, self).__init__()\n",
    "        self.conv1 = GraphConv(in_feats, h_feats, allow_zero_in_degree=True)\n",
    "        self.conv2 = GraphConv(h_feats, h_feats, allow_zero_in_degree=True)\n",
    "\n",
    "    def forward(self, g, in_feat):\n",
    "        h = self.conv1(g, in_feat)\n",
    "        h = F.relu(h)\n",
    "        h = self.conv2(g, h)\n",
    "        return h\n",
    "\n",
    "class DotPredictor(nn.Module):\n",
    "    def forward(self, g, h):\n",
    "        with g.local_scope():\n",
    "            g.ndata['h'] = h\n",
    "            # Compute a new edge feature named 'score' by a dot-product between the\n",
    "            # source node feature 'h' and destination node feature 'h'.\n",
    "            g.apply_edges(fn.u_dot_v('h', 'h', 'score'))\n",
    "            # u_dot_v returns a 1-element vector for each edge so you need to squeeze it.\n",
    "            return g.edata['score'][:, 0]"
   ]
  },
  {
   "cell_type": "code",
   "execution_count": 57,
   "metadata": {},
   "outputs": [],
   "source": [
    "G = nx.read_gexf(\"../graph_creation/2020-07-01__to__2020-07-05__15-overlap__hashmap.gexf\")"
   ]
  },
  {
   "cell_type": "code",
   "execution_count": 58,
   "metadata": {},
   "outputs": [],
   "source": [
    "# load the dictionary that is pickled in the feature computation directory in the main.ipynb\n",
    "import pickle\n",
    "with open('feature_combination/final_node_features.pkl', 'rb') as handle:\n",
    "    device_to_features = pickle.load(handle)"
   ]
  },
  {
   "cell_type": "code",
   "execution_count": 59,
   "metadata": {},
   "outputs": [],
   "source": [
    "nx.set_node_attributes(G, device_to_features, \"features\")"
   ]
  },
  {
   "cell_type": "code",
   "execution_count": 60,
   "metadata": {},
   "outputs": [],
   "source": [
    "node_features = {node: G.nodes[node]['features'] for node in G.nodes()}"
   ]
  },
  {
   "cell_type": "code",
   "execution_count": 30,
   "metadata": {},
   "outputs": [
    {
     "data": {
      "application/vnd.jupyter.widget-view+json": {
       "model_id": "8dd9d2c68c374a6f8e4a2915b7c7730b",
       "version_major": 2,
       "version_minor": 0
      },
      "text/plain": [
       "Computing transition probabilities:   0%|          | 0/14964 [00:00<?, ?it/s]"
      ]
     },
     "metadata": {},
     "output_type": "display_data"
    },
    {
     "name": "stderr",
     "output_type": "stream",
     "text": [
      "Generating walks (CPU: 1): 100%|██████████| 3/3 [01:58<00:00, 39.55s/it]\n",
      "Generating walks (CPU: 3): 100%|██████████| 2/2 [01:18<00:00, 39.39s/it]\n",
      "Generating walks (CPU: 2): 100%|██████████| 3/3 [02:02<00:00, 40.80s/it]\n",
      "Generating walks (CPU: 4): 100%|██████████| 2/2 [00:36<00:00, 18.04s/it]\n"
     ]
    }
   ],
   "source": [
    "# Precompute probabilities and generate walks - **ON WINDOWS ONLY WORKS WITH workers=1**\n",
    "node2vec = Node2Vec(G, workers=4)\n",
    "# Embed nodes\n",
    "model = node2vec.fit(window=10, min_count=1, batch_words=4)  # Any keywords acceptable by gensim.Word2Vec can be passed, `dimensions` and `workers` are automatically passed (from the Node2Vec constructor)\n",
    "\n",
    "node_embeddings = np.array([model.wv.get_vector(str(node)) for node in G.nodes()])\n",
    "node_embedding_tensor = torch.tensor(node_embeddings)\n",
    "node_features = node_embedding_tensor"
   ]
  },
  {
   "cell_type": "code",
   "execution_count": 31,
   "metadata": {},
   "outputs": [],
   "source": [
    "# node2vec embeddings\n",
    "node2vec_embeds = np.array([model.wv.get_vector(str(node)) for node in G.nodes()])\n",
    "node2vec_embeds_tensor = torch.tensor(node2vec_embeds)\n",
    "import pickle\n",
    "with open(\"node2vec_tensors.pkl\", \"wb\") as f:\n",
    "    pickle.dump(node2vec_embeds_tensor, f)"
   ]
  },
  {
   "cell_type": "code",
   "execution_count": 32,
   "metadata": {},
   "outputs": [],
   "source": [
    "nodes_list = [str(node) for node in G.nodes()]\n",
    "# pickle the list\n",
    "with open(\"nodes_list.pkl\", \"wb\") as f:\n",
    "    pickle.dump(nodes_list, f)"
   ]
  },
  {
   "cell_type": "code",
   "execution_count": 33,
   "metadata": {},
   "outputs": [],
   "source": [
    "# create dictionary of node2vec embeddings\n",
    "node2vec_embeds_dict = {}\n",
    "for i, node in enumerate(G.nodes()):\n",
    "    node2vec_embeds_dict[node] = node2vec_embeds_tensor[i]"
   ]
  },
  {
   "cell_type": "code",
   "execution_count": 61,
   "metadata": {},
   "outputs": [],
   "source": [
    "# unpickle the nodes_list to test\n",
    "with open(\"nodes_list.pkl\", \"rb\") as f:\n",
    "    nodes_list = pickle.load(f)\n",
    "# unpickle the node2vec embeddings to test\n",
    "with open(\"node2vec_tensors.pkl\", \"rb\") as f:\n",
    "    node2vec_embeds_tensor = pickle.load(f)"
   ]
  },
  {
   "cell_type": "code",
   "execution_count": 8,
   "metadata": {},
   "outputs": [
    {
     "data": {
      "text/plain": [
       "'4ea409ee4ba5a873e6539f4eae068b5ba2e4eef079bbb5f6172e1fab8a84a356'"
      ]
     },
     "execution_count": 8,
     "metadata": {},
     "output_type": "execute_result"
    }
   ],
   "source": [
    "nodes_list_test[100]"
   ]
  },
  {
   "cell_type": "code",
   "execution_count": 9,
   "metadata": {},
   "outputs": [
    {
     "data": {
      "text/plain": [
       "tensor([ 0.0678, -0.0978,  0.1176,  0.2491,  0.4019, -0.0688, -0.2275, -0.1570,\n",
       "         0.1999,  0.3366, -0.1170, -0.2604,  0.1415,  0.2174,  0.1607,  0.4422,\n",
       "        -0.2545,  0.4776, -0.0220,  0.3182,  0.2983,  0.1519,  0.0132, -0.3153,\n",
       "        -0.1475,  0.2473, -0.2500, -0.1532,  0.0027,  0.0490,  0.4991, -0.1282,\n",
       "         0.1540,  0.5315, -0.1423,  0.3636,  0.5508,  0.1003, -0.1884,  0.0398,\n",
       "         0.1673, -0.1138, -0.1999,  0.0361,  0.3141, -0.7169,  0.0681, -0.2923,\n",
       "         0.2735, -0.4227, -0.0826, -0.1850, -0.0240,  0.1338,  0.1711,  0.0237,\n",
       "        -0.2996,  0.3038,  0.1666,  0.3178,  0.2808,  0.0485, -0.4842, -0.0363,\n",
       "         0.1714,  0.3209, -0.1156, -0.3539, -0.1264,  0.0433, -0.0614, -0.3220,\n",
       "         0.0480,  0.2568, -0.0291, -0.2346,  0.1942, -0.0291, -0.0733, -0.3597,\n",
       "        -0.0826, -0.1162, -0.0592, -0.1016,  0.2694,  0.4005,  0.0024, -0.5245,\n",
       "        -0.0310,  0.4137,  0.0034, -0.1947, -0.1438,  0.4507, -0.1649,  0.5285,\n",
       "        -0.0175, -0.1653, -0.0440, -0.0178,  0.3155, -0.3237,  0.2173, -0.2292,\n",
       "        -0.0021,  0.3754,  0.2628, -0.3934,  0.6700, -0.1507,  0.4597, -0.1295,\n",
       "        -0.0796,  0.4874,  0.0259, -0.1338,  0.4912, -0.6410,  0.1323, -0.1556,\n",
       "        -0.4193,  0.1134, -0.0701, -0.1376, -0.0411,  0.0523,  0.0985, -0.1536])"
      ]
     },
     "execution_count": 9,
     "metadata": {},
     "output_type": "execute_result"
    }
   ],
   "source": [
    "node2vec_embeds_tensor_test[100]"
   ]
  },
  {
   "cell_type": "code",
   "execution_count": 34,
   "metadata": {},
   "outputs": [],
   "source": [
    "# concatenate node2vec embeddings with the features\n",
    "node_embeddings_np = np.array([np.concatenate((model.wv.get_vector(str(node)), np.array(list(device_to_features[node].values()), dtype=np.float32)), axis=0) for node in G.nodes()])\n",
    "node_embedding_tensor = torch.tensor(node_embeddings_np)\n",
    "node_features = node_embedding_tensor"
   ]
  },
  {
   "cell_type": "code",
   "execution_count": 62,
   "metadata": {},
   "outputs": [],
   "source": [
    "# concatnation with normalized features\n",
    "nodes = nodes_list\n",
    "node2vec_embeddings = node2vec_embeds_tensor.numpy()\n",
    "device_features = device_to_features\n",
    "\n",
    "node_embeddings_np_normalized = np.array([np.concatenate((node2vec_embeddings[i], np.array(list(device_features[nodes_list[i]].values()), dtype=np.float32)), axis=0) for i in range(len(nodes_list))])\n",
    "node_embedding_tensor_normalized = torch.tensor(node_embeddings_np_normalized)\n",
    "node_features = node_embedding_tensor_normalized"
   ]
  },
  {
   "cell_type": "code",
   "execution_count": 37,
   "metadata": {},
   "outputs": [
    {
     "data": {
      "text/plain": [
       "134"
      ]
     },
     "execution_count": 37,
     "metadata": {},
     "output_type": "execute_result"
    }
   ],
   "source": [
    "node_features.shape[1]"
   ]
  },
  {
   "cell_type": "code",
   "execution_count": 63,
   "metadata": {},
   "outputs": [],
   "source": [
    "dgl_G = dgl.from_networkx(G)\n",
    "u, v = dgl_G.edges()\n",
    "\n",
    "eids = np.arange(dgl_G.number_of_edges())\n",
    "eids = np.random.permutation(eids)\n",
    "test_size = int(len(eids) * 0.1)\n",
    "train_size = dgl_G.number_of_edges() - test_size\n",
    "test_pos_u, test_pos_v = u[eids[:test_size]], v[eids[:test_size]]\n",
    "train_pos_u, train_pos_v = u[eids[test_size:]], v[eids[test_size:]]\n",
    "\n",
    "# Find all negative edges and split them for training and testing\n",
    "adj = sp.coo_matrix((np.ones(len(u)), (u.numpy(), v.numpy())))\n",
    "adj_neg = 1 - adj.todense() - np.eye(dgl_G.number_of_nodes())\n",
    "neg_u, neg_v = np.where(adj_neg != 0)\n",
    "\n",
    "neg_eids = np.random.choice(len(neg_u), dgl_G.number_of_edges())\n",
    "test_neg_u, test_neg_v = neg_u[neg_eids[:test_size]], neg_v[neg_eids[:test_size]]\n",
    "train_neg_u, train_neg_v = neg_u[neg_eids[test_size:]], neg_v[neg_eids[test_size:]]\n"
   ]
  },
  {
   "cell_type": "code",
   "execution_count": 24,
   "metadata": {},
   "outputs": [
    {
     "data": {
      "text/plain": [
       "tensor([-0.0081,  0.0378,  0.0752,  0.0053,  0.1754,  0.0295, -0.0224,  0.2999,\n",
       "         0.0721, -0.0512, -0.2032, -0.0236,  0.0942, -0.2013, -0.4150, -0.0148,\n",
       "        -0.2460,  0.1249, -0.0174,  0.2050,  0.3013,  0.2295, -0.1425,  0.2067,\n",
       "        -0.0708, -0.1469, -0.1771,  0.5667,  0.1792, -0.1908,  0.4507, -0.1286,\n",
       "         0.4415,  0.1812,  0.3994, -0.0927,  0.0656, -0.1599, -0.1556,  0.2036,\n",
       "         0.0573,  0.0811,  0.0896, -0.0717,  0.1291,  0.0311,  0.0117,  0.1952,\n",
       "         0.3511, -0.0533,  0.2512, -0.0193,  0.2186,  0.0161, -0.2315,  0.0807,\n",
       "         0.1363, -0.1678,  0.0364, -0.1003, -0.2711, -0.1683,  0.1880,  0.1512,\n",
       "         0.0233, -0.1649,  0.2490, -0.1761, -0.1515, -0.0136, -0.1970, -0.1427,\n",
       "        -0.4788, -0.4810,  0.2824, -0.2517, -0.1407, -0.1000, -0.0960, -0.0625,\n",
       "        -0.0250, -0.0551, -0.0850,  0.0331, -0.1444,  0.5126,  0.0960, -0.0399,\n",
       "        -0.0298,  0.4612,  0.1812, -0.1223,  0.3441, -0.0591, -0.1406, -0.0399,\n",
       "        -0.4342,  0.2252,  0.1658,  0.0755,  0.0711, -0.0128,  0.2496, -0.3257,\n",
       "         0.1893,  0.0777,  0.1588,  0.0889,  0.3747,  0.0165,  0.1086, -0.0625,\n",
       "        -0.2325,  0.0840,  0.0674, -0.7026,  0.2950, -0.1224,  0.1757,  0.0200,\n",
       "         0.1046, -0.2628, -0.1995,  0.1725, -0.0314,  0.0737,  0.0489,  0.1834,\n",
       "        -0.7546, -0.4724,  2.0000, -0.8855,  1.0000,  0.0000])"
      ]
     },
     "execution_count": 24,
     "metadata": {},
     "output_type": "execute_result"
    }
   ],
   "source": [
    "node_features[0]"
   ]
  },
  {
   "cell_type": "code",
   "execution_count": 41,
   "metadata": {},
   "outputs": [
    {
     "data": {
      "text/plain": [
       "{'avg_locations_per_day': -0.754601226993865,\n",
       " 'avg_distance_per_day': -0.472425051270307,\n",
       " 'age': 2,\n",
       " 'score': -0.8855280414619378,\n",
       " 'female': 1,\n",
       " 'male': 0}"
      ]
     },
     "execution_count": 41,
     "metadata": {},
     "output_type": "execute_result"
    }
   ],
   "source": [
    "device_to_features['ad9adea8e7d63428e9372e0d670244e5033d4d2988e5546f8801692bf9d40646']"
   ]
  },
  {
   "cell_type": "code",
   "execution_count": 39,
   "metadata": {},
   "outputs": [
    {
     "data": {
      "text/plain": [
       "array([-0.00813514,  0.03777379,  0.07524519,  0.0052942 ,  0.1754264 ,\n",
       "        0.0294719 , -0.02243937,  0.29994112,  0.07209021, -0.05122218,\n",
       "       -0.2031843 , -0.02355146,  0.09417741, -0.20132823, -0.4149674 ,\n",
       "       -0.01476257, -0.24599603,  0.12489565, -0.01735623,  0.20502837,\n",
       "        0.3013142 ,  0.22954972, -0.14247212,  0.20670253, -0.07077803,\n",
       "       -0.14691035, -0.17707963,  0.56672496,  0.17919561, -0.19083361,\n",
       "        0.45068824, -0.12860635,  0.44148946,  0.1812185 ,  0.39938694,\n",
       "       -0.09265961,  0.06558739, -0.15990822, -0.1556166 ,  0.20360014,\n",
       "        0.05728378,  0.08111922,  0.08961319, -0.07174372,  0.1290746 ,\n",
       "        0.03112129,  0.01166186,  0.19517194,  0.3511475 , -0.05327895,\n",
       "        0.2511663 , -0.01925827,  0.21864109,  0.01611416, -0.23149537,\n",
       "        0.08066583,  0.13633803, -0.16776836,  0.036378  , -0.10026155,\n",
       "       -0.2711056 , -0.16832137,  0.18802607,  0.1512132 ,  0.02330018,\n",
       "       -0.16486892,  0.24897288, -0.17610708, -0.15153402, -0.01362916,\n",
       "       -0.19701569, -0.1427252 , -0.4788215 , -0.48095432,  0.2824081 ,\n",
       "       -0.25169086, -0.14073136, -0.1000246 , -0.09600109, -0.06245381,\n",
       "       -0.02501662, -0.0551038 , -0.0849691 ,  0.03307362, -0.14435753,\n",
       "        0.512593  ,  0.09598768, -0.03993788, -0.02979855,  0.46117523,\n",
       "        0.18117231, -0.12227305,  0.3440899 , -0.05905377, -0.14059626,\n",
       "       -0.03988237, -0.43424445,  0.22524275,  0.16580394,  0.07548704,\n",
       "        0.07113858, -0.01284268,  0.24956328, -0.3256505 ,  0.18933819,\n",
       "        0.07774118,  0.15882093,  0.08892132,  0.37473327,  0.01645401,\n",
       "        0.10858203, -0.06248016, -0.23251829,  0.08400401,  0.06743827,\n",
       "       -0.7026296 ,  0.29501766, -0.12237783,  0.1757027 ,  0.01996433,\n",
       "        0.10455409, -0.26280665, -0.19952048,  0.17254479, -0.03139774,\n",
       "        0.07366289,  0.04890331,  0.18343645], dtype=float32)"
      ]
     },
     "execution_count": 39,
     "metadata": {},
     "output_type": "execute_result"
    }
   ],
   "source": [
    "model.wv.get_vector(str('ad9adea8e7d63428e9372e0d670244e5033d4d2988e5546f8801692bf9d40646'))"
   ]
  },
  {
   "cell_type": "code",
   "execution_count": 37,
   "metadata": {},
   "outputs": [
    {
     "data": {
      "text/plain": [
       "tensor([-0.0081,  0.0378,  0.0752,  0.0053,  0.1754,  0.0295, -0.0224,  0.2999,\n",
       "         0.0721, -0.0512, -0.2032, -0.0236,  0.0942, -0.2013, -0.4150, -0.0148,\n",
       "        -0.2460,  0.1249, -0.0174,  0.2050,  0.3013,  0.2295, -0.1425,  0.2067,\n",
       "        -0.0708, -0.1469, -0.1771,  0.5667,  0.1792, -0.1908,  0.4507, -0.1286,\n",
       "         0.4415,  0.1812,  0.3994, -0.0927,  0.0656, -0.1599, -0.1556,  0.2036,\n",
       "         0.0573,  0.0811,  0.0896, -0.0717,  0.1291,  0.0311,  0.0117,  0.1952,\n",
       "         0.3511, -0.0533,  0.2512, -0.0193,  0.2186,  0.0161, -0.2315,  0.0807,\n",
       "         0.1363, -0.1678,  0.0364, -0.1003, -0.2711, -0.1683,  0.1880,  0.1512,\n",
       "         0.0233, -0.1649,  0.2490, -0.1761, -0.1515, -0.0136, -0.1970, -0.1427,\n",
       "        -0.4788, -0.4810,  0.2824, -0.2517, -0.1407, -0.1000, -0.0960, -0.0625,\n",
       "        -0.0250, -0.0551, -0.0850,  0.0331, -0.1444,  0.5126,  0.0960, -0.0399,\n",
       "        -0.0298,  0.4612,  0.1812, -0.1223,  0.3441, -0.0591, -0.1406, -0.0399,\n",
       "        -0.4342,  0.2252,  0.1658,  0.0755,  0.0711, -0.0128,  0.2496, -0.3257,\n",
       "         0.1893,  0.0777,  0.1588,  0.0889,  0.3747,  0.0165,  0.1086, -0.0625,\n",
       "        -0.2325,  0.0840,  0.0674, -0.7026,  0.2950, -0.1224,  0.1757,  0.0200,\n",
       "         0.1046, -0.2628, -0.1995,  0.1725, -0.0314,  0.0737,  0.0489,  0.1834,\n",
       "        -0.7546, -0.4724,  2.0000, -0.8855,  1.0000,  0.0000])"
      ]
     },
     "execution_count": 37,
     "metadata": {},
     "output_type": "execute_result"
    }
   ],
   "source": [
    "node_features[0]"
   ]
  },
  {
   "cell_type": "code",
   "execution_count": 64,
   "metadata": {},
   "outputs": [],
   "source": [
    "train_g = dgl.remove_edges(dgl_G, eids[:test_size])"
   ]
  },
  {
   "cell_type": "code",
   "execution_count": 43,
   "metadata": {},
   "outputs": [
    {
     "data": {
      "text/plain": [
       "{}"
      ]
     },
     "execution_count": 43,
     "metadata": {},
     "output_type": "execute_result"
    }
   ],
   "source": [
    "dgl_G.ndata"
   ]
  },
  {
   "cell_type": "code",
   "execution_count": 65,
   "metadata": {},
   "outputs": [],
   "source": [
    "train_pos_g = dgl.graph((train_pos_u, train_pos_v), num_nodes=dgl_G.number_of_nodes())\n",
    "train_neg_g = dgl.graph((train_neg_u, train_neg_v), num_nodes=dgl_G.number_of_nodes())\n",
    "\n",
    "test_pos_g = dgl.graph((test_pos_u, test_pos_v), num_nodes=dgl_G.number_of_nodes())\n",
    "test_neg_g = dgl.graph((test_neg_u, test_neg_v), num_nodes=dgl_G.number_of_nodes())"
   ]
  },
  {
   "cell_type": "code",
   "execution_count": 66,
   "metadata": {},
   "outputs": [],
   "source": [
    "# dgl_model = GraphSAGE(node_features.shape[1], 16)\n",
    "dgl_model = GraphGCN(node_features.shape[1], 16)\n",
    "# You can replace DotPredictor with MLPPredictor.\n",
    "#pred = MLPPredictor(16)\n",
    "pred = DotPredictor()\n",
    "\n",
    "def compute_loss(pos_score, neg_score):\n",
    "    scores = torch.cat([pos_score, neg_score])\n",
    "    labels = torch.cat([torch.ones(pos_score.shape[0]), torch.zeros(neg_score.shape[0])])\n",
    "    return F.binary_cross_entropy_with_logits(scores, labels)\n",
    "\n",
    "def compute_auc(pos_score, neg_score):\n",
    "    scores = torch.cat([pos_score, neg_score]).numpy()\n",
    "    labels = torch.cat(\n",
    "        [torch.ones(pos_score.shape[0]), torch.zeros(neg_score.shape[0])]).numpy()\n",
    "    return roc_auc_score(labels, scores)"
   ]
  },
  {
   "cell_type": "code",
   "execution_count": 67,
   "metadata": {},
   "outputs": [
    {
     "name": "stdout",
     "output_type": "stream",
     "text": [
      "In epoch 0, loss: 0.7945080399513245\n",
      "In epoch 5, loss: 0.6341795921325684\n",
      "In epoch 10, loss: 0.6351076364517212\n",
      "In epoch 15, loss: 0.6233730912208557\n",
      "In epoch 20, loss: 0.6124357581138611\n",
      "In epoch 25, loss: 0.6022491455078125\n",
      "In epoch 30, loss: 0.593620777130127\n",
      "In epoch 35, loss: 0.5854993462562561\n",
      "In epoch 40, loss: 0.5779070258140564\n",
      "In epoch 45, loss: 0.5874858498573303\n",
      "In epoch 50, loss: 0.5741157531738281\n",
      "In epoch 55, loss: 0.5693366527557373\n",
      "In epoch 60, loss: 0.5647937059402466\n",
      "In epoch 65, loss: 0.5628263354301453\n",
      "In epoch 70, loss: 0.5611305236816406\n",
      "In epoch 75, loss: 0.5601641535758972\n",
      "In epoch 80, loss: 0.5592981576919556\n",
      "In epoch 85, loss: 0.5586416125297546\n",
      "In epoch 90, loss: 0.5580713748931885\n",
      "In epoch 95, loss: 0.5576263666152954\n",
      "In epoch 100, loss: 0.5570919513702393\n",
      "In epoch 105, loss: 0.5565720796585083\n",
      "In epoch 110, loss: 0.5559881925582886\n",
      "In epoch 115, loss: 0.5553585290908813\n",
      "In epoch 120, loss: 0.5546765923500061\n",
      "In epoch 125, loss: 0.5542374849319458\n",
      "In epoch 130, loss: 0.5543690919876099\n",
      "In epoch 135, loss: 0.5536231398582458\n",
      "In epoch 140, loss: 0.5518670082092285\n",
      "In epoch 145, loss: 0.5522316098213196\n",
      "In epoch 150, loss: 0.5514357089996338\n",
      "In epoch 155, loss: 0.549466073513031\n",
      "In epoch 160, loss: 0.5493522882461548\n",
      "In epoch 165, loss: 0.5482240319252014\n",
      "In epoch 170, loss: 0.5474987626075745\n",
      "In epoch 175, loss: 0.5464673042297363\n",
      "In epoch 180, loss: 0.5458769202232361\n",
      "In epoch 185, loss: 0.5452637076377869\n",
      "In epoch 190, loss: 0.5447242856025696\n",
      "In epoch 195, loss: 0.54427570104599\n",
      "In epoch 200, loss: 0.5441708564758301\n",
      "In epoch 205, loss: 0.5445876121520996\n",
      "In epoch 210, loss: 0.5426082611083984\n",
      "In epoch 215, loss: 0.542092502117157\n",
      "In epoch 220, loss: 0.5417047142982483\n",
      "In epoch 225, loss: 0.540706217288971\n",
      "In epoch 230, loss: 0.540271520614624\n",
      "In epoch 235, loss: 0.5393544435501099\n",
      "In epoch 240, loss: 0.5387891530990601\n",
      "In epoch 245, loss: 0.5396117568016052\n",
      "In epoch 250, loss: 0.5374618768692017\n",
      "In epoch 255, loss: 0.5369799733161926\n",
      "In epoch 260, loss: 0.5360037088394165\n",
      "In epoch 265, loss: 0.5349335670471191\n",
      "In epoch 270, loss: 0.5338734984397888\n",
      "In epoch 275, loss: 0.5324971079826355\n",
      "In epoch 280, loss: 0.5308560729026794\n",
      "In epoch 285, loss: 0.5297024846076965\n",
      "In epoch 290, loss: 0.531399130821228\n",
      "In epoch 295, loss: 0.5273069739341736\n",
      "In epoch 300, loss: 0.5257993936538696\n",
      "In epoch 305, loss: 0.5239565968513489\n",
      "In epoch 310, loss: 0.5229010581970215\n",
      "In epoch 315, loss: 0.5218374729156494\n",
      "In epoch 320, loss: 0.5263861417770386\n",
      "In epoch 325, loss: 0.5264092683792114\n",
      "In epoch 330, loss: 0.5217495560646057\n",
      "In epoch 335, loss: 0.5198549628257751\n",
      "In epoch 340, loss: 0.5190672874450684\n",
      "In epoch 345, loss: 0.5177291631698608\n",
      "In epoch 350, loss: 0.5179365873336792\n",
      "In epoch 355, loss: 0.5169766545295715\n",
      "In epoch 360, loss: 0.5158721208572388\n",
      "In epoch 365, loss: 0.5154989957809448\n",
      "In epoch 370, loss: 0.5146745443344116\n",
      "In epoch 375, loss: 0.5141485929489136\n",
      "In epoch 380, loss: 0.5135451555252075\n",
      "In epoch 385, loss: 0.5146421790122986\n",
      "In epoch 390, loss: 0.512917697429657\n",
      "In epoch 395, loss: 0.5129673480987549\n",
      "In epoch 400, loss: 0.5124567747116089\n",
      "In epoch 405, loss: 0.5116285681724548\n",
      "In epoch 410, loss: 0.5115574598312378\n",
      "In epoch 415, loss: 0.5105711817741394\n",
      "In epoch 420, loss: 0.5101225972175598\n",
      "In epoch 425, loss: 0.5093874931335449\n",
      "In epoch 430, loss: 0.5089544653892517\n",
      "In epoch 435, loss: 0.5087404847145081\n",
      "In epoch 440, loss: 0.5144768357276917\n",
      "In epoch 445, loss: 0.5105187296867371\n",
      "In epoch 450, loss: 0.5082578063011169\n",
      "In epoch 455, loss: 0.5079002380371094\n",
      "In epoch 460, loss: 0.5067054629325867\n",
      "In epoch 465, loss: 0.5060197710990906\n",
      "In epoch 470, loss: 0.5060868859291077\n",
      "In epoch 475, loss: 0.5055642127990723\n",
      "In epoch 480, loss: 0.5063824653625488\n",
      "In epoch 485, loss: 0.5063689947128296\n",
      "In epoch 490, loss: 0.5053372979164124\n",
      "In epoch 495, loss: 0.5051019787788391\n",
      "In epoch 500, loss: 0.504119873046875\n",
      "In epoch 505, loss: 0.5032826662063599\n",
      "In epoch 510, loss: 0.5033332109451294\n",
      "In epoch 515, loss: 0.5026242136955261\n",
      "In epoch 520, loss: 0.5029489994049072\n",
      "In epoch 525, loss: 0.5163342356681824\n",
      "In epoch 530, loss: 0.5034796595573425\n",
      "In epoch 535, loss: 0.5083020925521851\n",
      "In epoch 540, loss: 0.5068009495735168\n",
      "In epoch 545, loss: 0.503851592540741\n",
      "In epoch 550, loss: 0.5031419396400452\n",
      "In epoch 555, loss: 0.5022764801979065\n",
      "In epoch 560, loss: 0.5012152194976807\n",
      "In epoch 565, loss: 0.5005273222923279\n",
      "In epoch 570, loss: 0.500369131565094\n",
      "In epoch 575, loss: 0.49997442960739136\n",
      "In epoch 580, loss: 0.4997738003730774\n",
      "In epoch 585, loss: 0.4994954466819763\n",
      "In epoch 590, loss: 0.4992237091064453\n",
      "In epoch 595, loss: 0.49897295236587524\n",
      "In epoch 600, loss: 0.4987286925315857\n",
      "In epoch 605, loss: 0.4984857141971588\n",
      "In epoch 610, loss: 0.4982420802116394\n",
      "In epoch 615, loss: 0.49823465943336487\n",
      "In epoch 620, loss: 0.5070421695709229\n",
      "In epoch 625, loss: 0.5037965774536133\n",
      "In epoch 630, loss: 0.4998239576816559\n",
      "In epoch 635, loss: 0.4988953471183777\n",
      "In epoch 640, loss: 0.4997340440750122\n",
      "In epoch 645, loss: 0.4987969994544983\n",
      "In epoch 650, loss: 0.49828213453292847\n",
      "In epoch 655, loss: 0.49766606092453003\n",
      "In epoch 660, loss: 0.49699756503105164\n",
      "In epoch 665, loss: 0.4964877665042877\n",
      "In epoch 670, loss: 0.4961928427219391\n",
      "In epoch 675, loss: 0.4959711730480194\n",
      "In epoch 680, loss: 0.4956866502761841\n",
      "In epoch 685, loss: 0.4954654574394226\n",
      "In epoch 690, loss: 0.4952375888824463\n",
      "In epoch 695, loss: 0.4950016438961029\n",
      "In epoch 700, loss: 0.49478480219841003\n",
      "In epoch 705, loss: 0.49456334114074707\n",
      "In epoch 710, loss: 0.49434152245521545\n",
      "In epoch 715, loss: 0.49412429332733154\n",
      "In epoch 720, loss: 0.4940164089202881\n",
      "In epoch 725, loss: 0.49948036670684814\n",
      "In epoch 730, loss: 0.49449676275253296\n",
      "In epoch 735, loss: 0.5001182556152344\n",
      "In epoch 740, loss: 0.49683669209480286\n",
      "In epoch 745, loss: 0.49343714118003845\n",
      "In epoch 750, loss: 0.49453186988830566\n",
      "In epoch 755, loss: 0.493903785943985\n",
      "In epoch 760, loss: 0.49281272292137146\n",
      "In epoch 765, loss: 0.49289360642433167\n",
      "In epoch 770, loss: 0.49247846007347107\n",
      "In epoch 775, loss: 0.49209100008010864\n",
      "In epoch 780, loss: 0.49187958240509033\n",
      "In epoch 785, loss: 0.49167364835739136\n",
      "In epoch 790, loss: 0.491535484790802\n",
      "In epoch 795, loss: 0.49253466725349426\n",
      "In epoch 800, loss: 0.49581095576286316\n",
      "In epoch 805, loss: 0.49295130372047424\n",
      "In epoch 810, loss: 0.49137741327285767\n",
      "In epoch 815, loss: 0.49068373441696167\n",
      "In epoch 820, loss: 0.4907810688018799\n",
      "In epoch 825, loss: 0.49065113067626953\n",
      "In epoch 830, loss: 0.4902893900871277\n",
      "In epoch 835, loss: 0.4906880259513855\n",
      "In epoch 840, loss: 0.49721047282218933\n",
      "In epoch 845, loss: 0.49246370792388916\n",
      "In epoch 850, loss: 0.49476486444473267\n",
      "In epoch 855, loss: 0.49147850275039673\n",
      "In epoch 860, loss: 0.49017825722694397\n",
      "In epoch 865, loss: 0.4903492033481598\n",
      "In epoch 870, loss: 0.489533394575119\n",
      "In epoch 875, loss: 0.4889672100543976\n",
      "In epoch 880, loss: 0.4888511002063751\n",
      "In epoch 885, loss: 0.4890296161174774\n",
      "In epoch 890, loss: 0.4957672655582428\n",
      "In epoch 895, loss: 0.48936691880226135\n",
      "In epoch 900, loss: 0.4893072545528412\n",
      "In epoch 905, loss: 0.4888017177581787\n",
      "In epoch 910, loss: 0.48821625113487244\n",
      "In epoch 915, loss: 0.48808491230010986\n",
      "In epoch 920, loss: 0.48817211389541626\n",
      "In epoch 925, loss: 0.4875502288341522\n",
      "In epoch 930, loss: 0.4877612292766571\n",
      "In epoch 935, loss: 0.488602876663208\n",
      "In epoch 940, loss: 0.489610493183136\n",
      "In epoch 945, loss: 0.4923102855682373\n",
      "In epoch 950, loss: 0.48993563652038574\n",
      "In epoch 955, loss: 0.4883742928504944\n",
      "In epoch 960, loss: 0.4877295196056366\n",
      "In epoch 965, loss: 0.48724108934402466\n",
      "In epoch 970, loss: 0.4874304533004761\n",
      "In epoch 975, loss: 0.4873652160167694\n",
      "In epoch 980, loss: 0.4863353669643402\n",
      "In epoch 985, loss: 0.4873405992984772\n",
      "In epoch 990, loss: 0.4958541989326477\n",
      "In epoch 995, loss: 0.4894776940345764\n",
      "AUC 0.9149164826415427\n"
     ]
    }
   ],
   "source": [
    "# ----------- 3. set up loss and optimizer -------------- #\n",
    "# in this case, loss will in training loop\n",
    "optimizer = torch.optim.Adam(itertools.chain(dgl_model.parameters(), pred.parameters()), lr=0.01)\n",
    "\n",
    "# ----------- 4. training -------------------------------- #\n",
    "all_logits = []\n",
    "loss_values = []\n",
    "for e in range(1000):\n",
    "    # forward\n",
    "    h = dgl_model(train_g, node_features)\n",
    "    pos_score = pred(train_pos_g, h)\n",
    "    neg_score = pred(train_neg_g, h)\n",
    "    loss = compute_loss(pos_score, neg_score)\n",
    "    loss_values.append(loss.item())\n",
    "\n",
    "    # backward\n",
    "    optimizer.zero_grad()\n",
    "    loss.backward()\n",
    "    optimizer.step()\n",
    "\n",
    "    if e % 5 == 0:\n",
    "        print('In epoch {}, loss: {}'.format(e, loss))\n",
    "\n",
    "# ----------- 5. check results ------------------------ #\n",
    "from sklearn.metrics import roc_auc_score\n",
    "with torch.no_grad():\n",
    "    pos_score = pred(test_pos_g, h)\n",
    "    neg_score = pred(test_neg_g, h)\n",
    "    print('AUC', compute_auc(pos_score, neg_score))\n",
    "\n",
    "\n",
    "# Thumbnail credits: Link Prediction with Neo4j, Mark Needham\n",
    "# sphinx_gallery_thumbnail_path = '_static/blitz_4_link_predict.png'"
   ]
  },
  {
   "cell_type": "code",
   "execution_count": null,
   "metadata": {},
   "outputs": [],
   "source": []
  }
 ],
 "metadata": {
  "kernelspec": {
   "display_name": "DataScience",
   "language": "python",
   "name": "python3"
  },
  "language_info": {
   "codemirror_mode": {
    "name": "ipython",
    "version": 3
   },
   "file_extension": ".py",
   "mimetype": "text/x-python",
   "name": "python",
   "nbconvert_exporter": "python",
   "pygments_lexer": "ipython3",
   "version": "3.11.5"
  }
 },
 "nbformat": 4,
 "nbformat_minor": 2
}
