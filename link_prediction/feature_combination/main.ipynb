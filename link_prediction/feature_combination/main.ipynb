{
 "cells": [
  {
   "cell_type": "markdown",
   "metadata": {},
   "source": [
    "# Import Modules"
   ]
  },
  {
   "cell_type": "code",
   "execution_count": 1,
   "metadata": {},
   "outputs": [],
   "source": [
    "import pandas as pd\n",
    "import numpy as np\n",
    "import matplotlib.pyplot as plt\n",
    "import networkx as nx\n",
    "import dgl\n",
    "import torch\n",
    "import scipy.sparse as sp\n",
    "import torch.nn as nn\n",
    "from node2vec import Node2Vec"
   ]
  },
  {
   "cell_type": "code",
   "execution_count": 2,
   "metadata": {},
   "outputs": [],
   "source": [
    "import pickle\n",
    "\n",
    "node_travel_data = None\n",
    "node_information_data = None\n",
    "\n",
    "# Read dictionary pkl file\n",
    "with open('../feature_selection_method1/node_travel_data.pkl', 'rb') as fp:\n",
    "    node_travel_data = pickle.load(fp)\n",
    "with open('../feature_selection_method2/node_information_data.pkl', 'rb') as fp:\n",
    "    node_information_data = pickle.load(fp)\n",
    "    "
   ]
  },
  {
   "cell_type": "code",
   "execution_count": 8,
   "metadata": {},
   "outputs": [
    {
     "name": "stdout",
     "output_type": "stream",
     "text": [
      "{'avg_locations_per_day': 1.4, 'avg_distance_per_day': 1.934171078288396}\n",
      "{'age': array([0, 0, 0, 0, 0, 0, 1, 0, 0, 0, 0, 0, 0, 0, 0], dtype=uint8), 'gender': array([0, 1, 0], dtype=uint8), 'score': 152.01923613897137}\n"
     ]
    }
   ],
   "source": [
    "print(node_travel_data['fc488e5949734a3198d955cf913324df695912a48a45c17d8d9da089e6c1a6f2'])\n",
    "print(node_information_data['fc488e5949734a3198d955cf913324df695912a48a45c17d8d9da089e6c1a6f2'])"
   ]
  },
  {
   "cell_type": "code",
   "execution_count": 6,
   "metadata": {},
   "outputs": [],
   "source": [
    "final_features = {}\n",
    "for key in node_travel_data.keys():\n",
    "    feature = {}\n",
    "    avg_locations_per_day = node_travel_data[key]['avg_locations_per_day']\n",
    "    avg_distance_per_day = node_travel_data[key]['avg_distance_per_day']\n",
    "    score = node_information_data[key]['score']\n",
    "    female = 1 if (node_information_data[key]['gender'][0] == True or node_information_data[key]['gender'][0] == 1) else 0\n",
    "    male = 1 if (node_information_data[key]['gender'][1] == True or node_information_data[key]['gender'][1] == 1) else 0\n",
    "    age = np.where(node_information_data[key]['age'] == True)[0][0]\n",
    "    \n",
    "    feature['avg_locations_per_day'] = avg_locations_per_day\n",
    "    feature['avg_distance_per_day'] = avg_distance_per_day\n",
    "    feature['age'] = age\n",
    "    feature['score'] = score\n",
    "    feature['female'] = female\n",
    "    feature['male'] = male\n",
    "\n",
    "    final_features[key] = feature\n"
   ]
  },
  {
   "cell_type": "code",
   "execution_count": 9,
   "metadata": {},
   "outputs": [
    {
     "data": {
      "text/plain": [
       "{'avg_locations_per_day': 1.4,\n",
       " 'avg_distance_per_day': 1.934171078288396,\n",
       " 'age': 6,\n",
       " 'score': 152.01923613897137,\n",
       " 'female': 0,\n",
       " 'male': 1}"
      ]
     },
     "execution_count": 9,
     "metadata": {},
     "output_type": "execute_result"
    }
   ],
   "source": [
    "final_features['fc488e5949734a3198d955cf913324df695912a48a45c17d8d9da089e6c1a6f2']"
   ]
  },
  {
   "cell_type": "code",
   "execution_count": 10,
   "metadata": {},
   "outputs": [
    {
     "name": "stdout",
     "output_type": "stream",
     "text": [
      "dictionary saved successfully to file\n"
     ]
    }
   ],
   "source": [
    "import pickle\n",
    "with open('final_node_features.pkl', 'wb') as fp:\n",
    "    pickle.dump(final_features, fp)\n",
    "    print('dictionary saved successfully to file')"
   ]
  },
  {
   "cell_type": "code",
   "execution_count": null,
   "metadata": {},
   "outputs": [],
   "source": []
  }
 ],
 "metadata": {
  "kernelspec": {
   "display_name": "DataScience",
   "language": "python",
   "name": "python3"
  },
  "language_info": {
   "codemirror_mode": {
    "name": "ipython",
    "version": 3
   },
   "file_extension": ".py",
   "mimetype": "text/x-python",
   "name": "python",
   "nbconvert_exporter": "python",
   "pygments_lexer": "ipython3",
   "version": "3.8.15"
  }
 },
 "nbformat": 4,
 "nbformat_minor": 2
}
