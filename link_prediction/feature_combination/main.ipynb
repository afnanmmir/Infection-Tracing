{
 "cells": [
  {
   "cell_type": "markdown",
   "metadata": {},
   "source": [
    "# Import Modules"
   ]
  },
  {
   "cell_type": "code",
   "execution_count": 25,
   "metadata": {},
   "outputs": [],
   "source": [
    "import pandas as pd\n",
    "import numpy as np\n",
    "import matplotlib.pyplot as plt\n",
    "import networkx as nx\n",
    "import dgl\n",
    "import torch\n",
    "import scipy.sparse as sp\n",
    "import torch.nn as nn\n",
    "from node2vec import Node2Vec"
   ]
  },
  {
   "cell_type": "code",
   "execution_count": 26,
   "metadata": {},
   "outputs": [],
   "source": [
    "import pickle\n",
    "\n",
    "node_travel_data = None\n",
    "node_information_data = None\n",
    "\n",
    "# Read dictionary pkl file\n",
    "with open('../feature_selection_method1/node_travel_data.pkl', 'rb') as fp:\n",
    "    node_travel_data = pickle.load(fp)\n",
    "with open('../feature_selection_method2/node_information_data.pkl', 'rb') as fp:\n",
    "    node_information_data = pickle.load(fp)\n",
    "    "
   ]
  },
  {
   "cell_type": "code",
   "execution_count": 27,
   "metadata": {},
   "outputs": [
    {
     "name": "stdout",
     "output_type": "stream",
     "text": [
      "{'avg_locations_per_day': 2.0, 'avg_distance_per_day': 2.417922402506546}\n",
      "{'age': array([False, False, False, False, False, False, False, False, False,\n",
      "       False, False, False, False, False,  True]), 'gender': array([False, False,  True]), 'score': 0.0}\n"
     ]
    }
   ],
   "source": [
    "print(node_travel_data['dc820381c037ba4d7d7553da59e20ac605294029beb66687022bac80825c0b0c'])\n",
    "print(node_information_data['dc820381c037ba4d7d7553da59e20ac605294029beb66687022bac80825c0b0c'])"
   ]
  },
  {
   "cell_type": "code",
   "execution_count": 28,
   "metadata": {},
   "outputs": [],
   "source": [
    "final_features = {}\n",
    "for key in node_travel_data.keys():\n",
    "    feature = {}\n",
    "    avg_locations_per_day = node_travel_data[key]['avg_locations_per_day']\n",
    "    avg_distance_per_day = node_travel_data[key]['avg_distance_per_day']\n",
    "    score = node_information_data[key]['score']\n",
    "    female = 1 if node_information_data[key]['gender'][0] == True else 0\n",
    "    male = 1 if node_information_data[key]['gender'][1] == True else 0\n",
    "    age = np.where(node_information_data[key]['age'] == True)[0][0]\n",
    "    \n",
    "    feature['avg_locations_per_day'] = avg_locations_per_day\n",
    "    feature['avg_distance_per_day'] = avg_distance_per_day\n",
    "    feature['age'] = age\n",
    "    feature['score'] = score\n",
    "    feature['female'] = female\n",
    "    feature['male'] = male\n",
    "\n",
    "    final_features[key] = feature\n"
   ]
  },
  {
   "cell_type": "code",
   "execution_count": 30,
   "metadata": {},
   "outputs": [
    {
     "name": "stdout",
     "output_type": "stream",
     "text": [
      "dictionary saved successfully to file\n"
     ]
    }
   ],
   "source": [
    "import pickle\n",
    "with open('final_node_features.pkl', 'wb') as fp:\n",
    "    pickle.dump(final_features, fp)\n",
    "    print('dictionary saved successfully to file')"
   ]
  }
 ],
 "metadata": {
  "kernelspec": {
   "display_name": "DataScience",
   "language": "python",
   "name": "python3"
  },
  "language_info": {
   "codemirror_mode": {
    "name": "ipython",
    "version": 3
   },
   "file_extension": ".py",
   "mimetype": "text/x-python",
   "name": "python",
   "nbconvert_exporter": "python",
   "pygments_lexer": "ipython3",
   "version": "3.11.3"
  }
 },
 "nbformat": 4,
 "nbformat_minor": 2
}
