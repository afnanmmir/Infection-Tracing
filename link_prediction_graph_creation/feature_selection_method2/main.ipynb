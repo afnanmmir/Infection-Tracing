{
 "cells": [
  {
   "cell_type": "code",
   "execution_count": 22,
   "metadata": {},
   "outputs": [],
   "source": [
    "import pandas as pd\n",
    "import numpy as np\n",
    "import matplotlib.pyplot as plt\n",
    "import networkx as nx\n",
    "import dgl\n",
    "import torch\n",
    "import scipy.sparse as sp\n",
    "import torch.nn as nn\n",
    "from node2vec import Node2Vec\n",
    "from tqdm import tqdm"
   ]
  },
  {
   "cell_type": "markdown",
   "metadata": {},
   "source": [
    "## Load in the data"
   ]
  },
  {
   "cell_type": "code",
   "execution_count": 23,
   "metadata": {},
   "outputs": [
    {
     "name": "stdout",
     "output_type": "stream",
     "text": [
      "                                        persistentid  \\\n",
      "0  5903d26cdcecbd13590c8fe594de785f19b16004e19156...   \n",
      "1  cc371dcb888f9ec0ab9a4ecabc4d49e51288313fb17a47...   \n",
      "2  21e09ed692d56697e3c26b777a53a411cd21bed5527c5b...   \n",
      "3  e170f93db0ea4930ea2c0d2167feddb1b4fe2b5412d826...   \n",
      "4  63164c43b459b4260a338979948ead113855ddaafb9d52...   \n",
      "\n",
      "                    venueid    utc_date  utc_hour  local_date  local_hour  \\\n",
      "0  40b52f80f964a52051001fe3  2020-07-18        22  2020-07-18          17   \n",
      "1  40b52f80f964a52051001fe3  2020-07-18        22  2020-07-18          17   \n",
      "2  40b52f80f964a52051001fe3  2020-07-25         0  2020-07-24          19   \n",
      "3  40b52f80f964a52051001fe3  2020-07-25        18  2020-07-25          13   \n",
      "4  40b52f80f964a52051001fe3  2020-07-29        18  2020-07-29          13   \n",
      "\n",
      "   gender           age  full_panel_reweighted_sag_score  dwell  home_zip  \n",
      "0  Female  Age_45_to_49                       159.851478     60   77060.0  \n",
      "1  Female  Age_25_to_29                       223.827293   1011   75024.0  \n",
      "2    Male  Age_35_to_39                       110.797268   1058       NaN  \n",
      "3     NaN           NaN                         0.000000     30       NaN  \n",
      "4    Male  Age_35_to_39                       137.821169    763   78660.0  \n",
      "(1513595, 11)\n"
     ]
    }
   ],
   "source": [
    "# # Import the data\n",
    "# df = pd.read_csv('../../RVF_ATX_PID_HZ-2020-07.tsv', sep='\\t')\n",
    "# # filter out certain columns\n",
    "\n",
    "# dwell_time_threshold = 60 # in minutes\n",
    "# start_date = pd.to_datetime('2020-07-01')\n",
    "# end_date = pd.to_datetime('2020-07-06')\n",
    "\n",
    "# filtered_df = df[(pd.to_datetime(df['utc_date']) >= start_date) & (pd.to_datetime(df['utc_date']) <= end_date) & (df['dwell'] >= dwell_time_threshold)]\n",
    "# df.head()\n",
    "\n",
    "# Import the data\n",
    "df1 = pd.read_csv('../../RVF_ATX_PID_HZ-2020-07.tsv', sep='\\t')\n",
    "df2 = pd.read_csv('../../RVF_ATX_PID_HZ-2020-08.tsv', sep='\\t')\n",
    "merged_df = pd.concat([df1, df2])\n",
    "\n",
    "# dwell_time_threshold = 60 # in minutes\n",
    "\n",
    "# filtered_df = merged_df[(merged_df['dwell'] >= dwell_time_threshold)]\n",
    "filtered_df = merged_df\n",
    "print(filtered_df.head())\n",
    "print(filtered_df.shape)"
   ]
  },
  {
   "cell_type": "code",
   "execution_count": 24,
   "metadata": {},
   "outputs": [],
   "source": [
    "potential_features = ['persistentid', 'gender', 'age', 'full_panel_reweighted_sag_score']"
   ]
  },
  {
   "cell_type": "code",
   "execution_count": 25,
   "metadata": {},
   "outputs": [
    {
     "data": {
      "text/html": [
       "<div>\n",
       "<style scoped>\n",
       "    .dataframe tbody tr th:only-of-type {\n",
       "        vertical-align: middle;\n",
       "    }\n",
       "\n",
       "    .dataframe tbody tr th {\n",
       "        vertical-align: top;\n",
       "    }\n",
       "\n",
       "    .dataframe thead th {\n",
       "        text-align: right;\n",
       "    }\n",
       "</style>\n",
       "<table border=\"1\" class=\"dataframe\">\n",
       "  <thead>\n",
       "    <tr style=\"text-align: right;\">\n",
       "      <th></th>\n",
       "      <th>persistentid</th>\n",
       "      <th>gender</th>\n",
       "      <th>age</th>\n",
       "      <th>full_panel_reweighted_sag_score</th>\n",
       "    </tr>\n",
       "  </thead>\n",
       "  <tbody>\n",
       "    <tr>\n",
       "      <th>0</th>\n",
       "      <td>5903d26cdcecbd13590c8fe594de785f19b16004e19156...</td>\n",
       "      <td>Female</td>\n",
       "      <td>Age_45_to_49</td>\n",
       "      <td>159.851478</td>\n",
       "    </tr>\n",
       "    <tr>\n",
       "      <th>1</th>\n",
       "      <td>cc371dcb888f9ec0ab9a4ecabc4d49e51288313fb17a47...</td>\n",
       "      <td>Female</td>\n",
       "      <td>Age_25_to_29</td>\n",
       "      <td>223.827293</td>\n",
       "    </tr>\n",
       "    <tr>\n",
       "      <th>2</th>\n",
       "      <td>21e09ed692d56697e3c26b777a53a411cd21bed5527c5b...</td>\n",
       "      <td>Male</td>\n",
       "      <td>Age_35_to_39</td>\n",
       "      <td>110.797268</td>\n",
       "    </tr>\n",
       "    <tr>\n",
       "      <th>3</th>\n",
       "      <td>e170f93db0ea4930ea2c0d2167feddb1b4fe2b5412d826...</td>\n",
       "      <td>NaN</td>\n",
       "      <td>NaN</td>\n",
       "      <td>0.000000</td>\n",
       "    </tr>\n",
       "    <tr>\n",
       "      <th>4</th>\n",
       "      <td>63164c43b459b4260a338979948ead113855ddaafb9d52...</td>\n",
       "      <td>Male</td>\n",
       "      <td>Age_35_to_39</td>\n",
       "      <td>137.821169</td>\n",
       "    </tr>\n",
       "    <tr>\n",
       "      <th>...</th>\n",
       "      <td>...</td>\n",
       "      <td>...</td>\n",
       "      <td>...</td>\n",
       "      <td>...</td>\n",
       "    </tr>\n",
       "    <tr>\n",
       "      <th>905420</th>\n",
       "      <td>6fedb72f9e8e492b27771206e8e491a196a63b98947c34...</td>\n",
       "      <td>Male</td>\n",
       "      <td>Age_20_to_24</td>\n",
       "      <td>212.188912</td>\n",
       "    </tr>\n",
       "    <tr>\n",
       "      <th>905421</th>\n",
       "      <td>cba1cbf3144811a523adee9dd865838fd6ce8c833d9816...</td>\n",
       "      <td>Female</td>\n",
       "      <td>Age_30_to_34</td>\n",
       "      <td>111.479760</td>\n",
       "    </tr>\n",
       "    <tr>\n",
       "      <th>905422</th>\n",
       "      <td>3d6d8566bdfe2a3b2f4a6d17cb6508049e7fddc1376db6...</td>\n",
       "      <td>Female</td>\n",
       "      <td>Age_30_to_34</td>\n",
       "      <td>103.120154</td>\n",
       "    </tr>\n",
       "    <tr>\n",
       "      <th>905423</th>\n",
       "      <td>da25791e5c2de9b67100c7ade48709d7f0e274d0f3df36...</td>\n",
       "      <td>Male</td>\n",
       "      <td>Age_35_to_39</td>\n",
       "      <td>63.827754</td>\n",
       "    </tr>\n",
       "    <tr>\n",
       "      <th>905424</th>\n",
       "      <td>a3ff2ca3c7ef71981292928ec15129d02a5c4e76909168...</td>\n",
       "      <td>Female</td>\n",
       "      <td>Age_45_to_49</td>\n",
       "      <td>82.462015</td>\n",
       "    </tr>\n",
       "  </tbody>\n",
       "</table>\n",
       "<p>1513595 rows × 4 columns</p>\n",
       "</div>"
      ],
      "text/plain": [
       "                                             persistentid  gender  \\\n",
       "0       5903d26cdcecbd13590c8fe594de785f19b16004e19156...  Female   \n",
       "1       cc371dcb888f9ec0ab9a4ecabc4d49e51288313fb17a47...  Female   \n",
       "2       21e09ed692d56697e3c26b777a53a411cd21bed5527c5b...    Male   \n",
       "3       e170f93db0ea4930ea2c0d2167feddb1b4fe2b5412d826...     NaN   \n",
       "4       63164c43b459b4260a338979948ead113855ddaafb9d52...    Male   \n",
       "...                                                   ...     ...   \n",
       "905420  6fedb72f9e8e492b27771206e8e491a196a63b98947c34...    Male   \n",
       "905421  cba1cbf3144811a523adee9dd865838fd6ce8c833d9816...  Female   \n",
       "905422  3d6d8566bdfe2a3b2f4a6d17cb6508049e7fddc1376db6...  Female   \n",
       "905423  da25791e5c2de9b67100c7ade48709d7f0e274d0f3df36...    Male   \n",
       "905424  a3ff2ca3c7ef71981292928ec15129d02a5c4e76909168...  Female   \n",
       "\n",
       "                 age  full_panel_reweighted_sag_score  \n",
       "0       Age_45_to_49                       159.851478  \n",
       "1       Age_25_to_29                       223.827293  \n",
       "2       Age_35_to_39                       110.797268  \n",
       "3                NaN                         0.000000  \n",
       "4       Age_35_to_39                       137.821169  \n",
       "...              ...                              ...  \n",
       "905420  Age_20_to_24                       212.188912  \n",
       "905421  Age_30_to_34                       111.479760  \n",
       "905422  Age_30_to_34                       103.120154  \n",
       "905423  Age_35_to_39                        63.827754  \n",
       "905424  Age_45_to_49                        82.462015  \n",
       "\n",
       "[1513595 rows x 4 columns]"
      ]
     },
     "execution_count": 25,
     "metadata": {},
     "output_type": "execute_result"
    }
   ],
   "source": [
    "# drop all columns except those in potential_features\n",
    "filtered_df = filtered_df.drop(columns=[col for col in filtered_df.columns if col not in potential_features])\n",
    "filtered_df"
   ]
  },
  {
   "cell_type": "code",
   "execution_count": 26,
   "metadata": {},
   "outputs": [],
   "source": [
    "filtered_df['gender'] = filtered_df['gender'].fillna('Missing')\n",
    "filtered_df['age'] = filtered_df['age'].fillna('Missing')\n",
    "filtered_df['full_panel_reweighted_sag_score'] = filtered_df['full_panel_reweighted_sag_score'].fillna(0)"
   ]
  },
  {
   "cell_type": "code",
   "execution_count": 27,
   "metadata": {},
   "outputs": [],
   "source": [
    "id_to_gender = {}\n",
    "id_to_age = {}\n",
    "id_to_scores = {}\n",
    "devices_set = set(filtered_df['persistentid'])"
   ]
  },
  {
   "cell_type": "code",
   "execution_count": 28,
   "metadata": {},
   "outputs": [
    {
     "data": {
      "text/plain": [
       "True"
      ]
     },
     "execution_count": 28,
     "metadata": {},
     "output_type": "execute_result"
    }
   ],
   "source": [
    "'004f1ba8a43c7b1196efcaa6267be599cc2713a784e2335cb10a78ac4ab7b1c4' in devices_set"
   ]
  },
  {
   "cell_type": "code",
   "execution_count": 29,
   "metadata": {},
   "outputs": [
    {
     "name": "stderr",
     "output_type": "stream",
     "text": [
      "100%|██████████| 62369/62369 [1:48:12<00:00,  9.61it/s]  \n"
     ]
    }
   ],
   "source": [
    "for device in tqdm(devices_set):\n",
    "    device_df = filtered_df[filtered_df['persistentid'] == device]\n",
    "    age = device_df['age'].iloc[0]\n",
    "    gender = device_df['gender'].iloc[0]\n",
    "    scores = device_df['full_panel_reweighted_sag_score'].mean()\n",
    "    id_to_gender[device] = gender\n",
    "    id_to_age[device] = age\n",
    "    id_to_scores[device] = scores\n",
    "    "
   ]
  },
  {
   "cell_type": "code",
   "execution_count": 30,
   "metadata": {},
   "outputs": [
    {
     "data": {
      "text/plain": [
       "'Male'"
      ]
     },
     "execution_count": 30,
     "metadata": {},
     "output_type": "execute_result"
    }
   ],
   "source": [
    "id_to_gender['004f1ba8a43c7b1196efcaa6267be599cc2713a784e2335cb10a78ac4ab7b1c4']"
   ]
  },
  {
   "cell_type": "code",
   "execution_count": 31,
   "metadata": {},
   "outputs": [],
   "source": [
    "def create_one_hot_encoding_df(id_to_feature: dict, feature: str):\n",
    "    feature_df = pd.DataFrame.from_dict(id_to_feature, orient='index', columns=[feature])\n",
    "    feature_df = pd.get_dummies(feature_df, prefix=feature)\n",
    "    return feature_df"
   ]
  },
  {
   "cell_type": "code",
   "execution_count": 32,
   "metadata": {},
   "outputs": [],
   "source": [
    "gender_df = create_one_hot_encoding_df(id_to_gender, 'gender')\n",
    "age_df = create_one_hot_encoding_df(id_to_age, 'age')"
   ]
  },
  {
   "cell_type": "code",
   "execution_count": 33,
   "metadata": {},
   "outputs": [
    {
     "name": "stderr",
     "output_type": "stream",
     "text": [
      "100%|██████████| 62369/62369 [18:49<00:00, 55.22it/s]\n"
     ]
    }
   ],
   "source": [
    "feature_map = {}\n",
    "for device in tqdm(devices_set):\n",
    "    gender = gender_df[gender_df.index == device].iloc[0].values\n",
    "    age = age_df[gender_df.index == device].iloc[0].values\n",
    "    # print(gender)\n",
    "    feature_map[device] = {}\n",
    "    feature_map[device]['age'] = age\n",
    "    feature_map[device]['gender'] = gender\n",
    "    feature_map[device]['score'] = id_to_scores[device]\n",
    "\n"
   ]
  },
  {
   "cell_type": "code",
   "execution_count": 34,
   "metadata": {},
   "outputs": [
    {
     "data": {
      "text/plain": [
       "{'age': array([0, 0, 0, 1, 0, 0, 0, 0, 0, 0, 0, 0, 0, 0, 0], dtype=uint8),\n",
       " 'gender': array([1, 0, 0], dtype=uint8),\n",
       " 'score': 103.13220621427679}"
      ]
     },
     "execution_count": 34,
     "metadata": {},
     "output_type": "execute_result"
    }
   ],
   "source": [
    "feature_map['9f7432ad73deb4ab9f30b04222922e25e928429576e33763eb2c4027ee14c0fa']"
   ]
  },
  {
   "cell_type": "code",
   "execution_count": 35,
   "metadata": {},
   "outputs": [
    {
     "name": "stdout",
     "output_type": "stream",
     "text": [
      "dictionary saved successfully to file\n"
     ]
    }
   ],
   "source": [
    "import pickle\n",
    "with open('node_information_data.pkl', 'wb') as fp:\n",
    "    pickle.dump(feature_map, fp)\n",
    "    print('dictionary saved successfully to file')"
   ]
  },
  {
   "cell_type": "code",
   "execution_count": null,
   "metadata": {},
   "outputs": [],
   "source": []
  }
 ],
 "metadata": {
  "kernelspec": {
   "display_name": "lin373n",
   "language": "python",
   "name": "python3"
  },
  "language_info": {
   "codemirror_mode": {
    "name": "ipython",
    "version": 3
   },
   "file_extension": ".py",
   "mimetype": "text/x-python",
   "name": "python",
   "nbconvert_exporter": "python",
   "pygments_lexer": "ipython3",
   "version": "3.11.3"
  },
  "orig_nbformat": 4
 },
 "nbformat": 4,
 "nbformat_minor": 2
}
