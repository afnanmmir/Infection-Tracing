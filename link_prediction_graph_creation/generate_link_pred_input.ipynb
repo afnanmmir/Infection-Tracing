{
 "cells": [
  {
   "cell_type": "markdown",
   "metadata": {},
   "source": [
    "# Import Modules"
   ]
  },
  {
   "cell_type": "code",
   "execution_count": 1,
   "metadata": {},
   "outputs": [],
   "source": [
    "import pandas as pd\n",
    "import numpy as np\n",
    "import networkx as nx\n",
    "from tqdm import tqdm\n",
    "import pickle as pkl"
   ]
  },
  {
   "cell_type": "code",
   "execution_count": 2,
   "metadata": {},
   "outputs": [
    {
     "name": "stderr",
     "output_type": "stream",
     "text": [
      "  0%|          | 0/62 [00:00<?, ?it/s]"
     ]
    },
    {
     "name": "stderr",
     "output_type": "stream",
     "text": [
      "100%|██████████| 62/62 [00:08<00:00,  7.63it/s]\n"
     ]
    }
   ],
   "source": [
    "all_nodes = set()\n",
    "for i in tqdm(range(0, 62)):\n",
    "    day = i % 31 + 1\n",
    "    month = i // 31 + 7\n",
    "    file_name = '2020-' + str(month).zfill(2) + '-' + str(day).zfill(2) + '.gexf'\n",
    "    file_path = f'contact_graphs/{file_name}'\n",
    "\n",
    "    G = nx.read_gexf(file_path)\n",
    "    all_nodes = all_nodes.union(set(G.nodes()))\n",
    "\n",
    "node_mapping = {node:i for i, node in enumerate(all_nodes)}\n",
    "# pickle the node mapping\n",
    "with open('node_mapping.pkl', 'wb') as f:\n",
    "    pkl.dump(node_mapping, f)"
   ]
  },
  {
   "cell_type": "code",
   "execution_count": 4,
   "metadata": {},
   "outputs": [
    {
     "name": "stderr",
     "output_type": "stream",
     "text": [
      "100%|██████████| 62/62 [00:07<00:00,  8.04it/s]\n"
     ]
    }
   ],
   "source": [
    "# create a csv file with the following columns: source,destination,timestamp,state_label,w\n",
    "\n",
    "# df = pd.DataFrame(columns=['source', 'destination', 'timestamp', 'state_label', 'w'])\n",
    "dfs = []\n",
    "for i in tqdm(range(0, 62)):\n",
    "    day = i % 31 + 1\n",
    "    month = i // 31 + 7\n",
    "    file_name = '2020-' + str(month).zfill(2) + '-' + str(day).zfill(2) + '.gexf'\n",
    "    file_path = f'contact_graphs/{file_name}'\n",
    "\n",
    "    G = nx.read_gexf(file_path)\n",
    "    dfs.append(pd.DataFrame([{'source': node_mapping[edge[0]], 'destination': node_mapping[edge[1]], 'timestamp': i, 'state_label': 0, 'w': 0} for edge in G.edges()]))\n",
    "\n",
    "df = pd.concat(dfs)\n",
    "\n",
    "csv_file_path = 'tgn_data/data.csv'\n",
    "df.to_csv(csv_file_path, index=False)\n",
    "\n"
   ]
  },
  {
   "cell_type": "code",
   "execution_count": 12,
   "metadata": {},
   "outputs": [
    {
     "name": "stderr",
     "output_type": "stream",
     "text": [
      "100%|██████████| 62/62 [00:07<00:00,  8.06it/s]\n"
     ]
    }
   ],
   "source": [
    "# import the mappings as well as the node features\n",
    "with open('node_mapping.pkl', 'rb') as f:\n",
    "    node_mapping = pkl.load(f)\n",
    "with open('feature_selection_method1/node_travel_data.pkl', 'rb') as f:\n",
    "    node_features = pkl.load(f)\n",
    "\n",
    "# df = pd.DataFrame(columns=['source', 'destination', 'timestamp', 'state_label', 'w'])\n",
    "contact_graph_nodes = set()\n",
    "for i in tqdm(range(0, 62)):\n",
    "    day = i % 31 + 1\n",
    "    month = i // 31 + 7\n",
    "    file_name = '2020-' + str(month).zfill(2) + '-' + str(day).zfill(2) + '.gexf'\n",
    "    file_path = f'contact_graphs/{file_name}'\n",
    "\n",
    "    G = nx.read_gexf(file_path)\n",
    "    contact_graph_nodes = contact_graph_nodes.union(set(G.nodes()))\n",
    "\n",
    "mapped_nodes = []\n",
    "for node_id in contact_graph_nodes:\n",
    "    if node_id not in node_mapping:\n",
    "        assert (\"ERROR: should not happen\")\n",
    "    mapped_nodes.append((node_mapping[node_id], node_id))\n",
    "mapped_nodes = sorted(mapped_nodes, key=lambda x: x[0])\n",
    "feature1 = []\n",
    "feature2 = []\n",
    "for i, node_id in mapped_nodes:\n",
    "    feature1.append(node_features[node_id][\"avg_locations_per_day\"])\n",
    "    feature2.append(node_features[node_id][\"avg_distance_per_day\"])\n",
    "feature1 = np.array(feature1)\n",
    "feature2 = np.array(feature2)\n",
    "# normalize feature1 and feature2\n",
    "feature1_norm = (2 * (feature1 - min(feature1)) / ( max(feature1) - min(feature1) )) - 1\n",
    "feature2_norm = (2 * (feature2 - min(feature2)) / ( max(feature2) - min(feature2) )) - 1\n",
    "final_features = [[0, 0]]\n",
    "for i in range(len(feature1_norm)):\n",
    "    final_features.append([feature1_norm[i], feature2_norm[i]])\n",
    "final_features = np.array(final_features)\n",
    "# save the final features to an npy file\n",
    "np.save('tgn_data/ml_data_node_official.npy', final_features)\n"
   ]
  },
  {
   "cell_type": "code",
   "execution_count": 10,
   "metadata": {},
   "outputs": [
    {
     "name": "stdout",
     "output_type": "stream",
     "text": [
      "45391\n"
     ]
    }
   ],
   "source": [
    "print(len(contact_graph_nodes))"
   ]
  },
  {
   "cell_type": "code",
   "execution_count": 11,
   "metadata": {},
   "outputs": [
    {
     "name": "stdout",
     "output_type": "stream",
     "text": [
      "(45392, 2)\n",
      "[0. 0.]\n",
      "[-0.9933222  -0.98407579]\n"
     ]
    }
   ],
   "source": [
    "npy_data = np.load('tgn_data/ml_data_node.npy')\n",
    "print(npy_data.shape)\n",
    "print(npy_data[0])\n",
    "print(npy_data[1])"
   ]
  }
 ],
 "metadata": {
  "kernelspec": {
   "display_name": "DataScience",
   "language": "python",
   "name": "python3"
  },
  "language_info": {
   "codemirror_mode": {
    "name": "ipython",
    "version": 3
   },
   "file_extension": ".py",
   "mimetype": "text/x-python",
   "name": "python",
   "nbconvert_exporter": "python",
   "pygments_lexer": "ipython3",
   "version": "3.11.5"
  }
 },
 "nbformat": 4,
 "nbformat_minor": 2
}
