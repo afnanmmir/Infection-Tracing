{
 "cells": [
  {
   "cell_type": "markdown",
   "metadata": {},
   "source": [
    "# Import Modules"
   ]
  },
  {
   "cell_type": "code",
   "execution_count": 19,
   "metadata": {},
   "outputs": [],
   "source": [
    "import pandas as pd\n",
    "import numpy as np\n",
    "import networkx as nx\n",
    "from tqdm import tqdm\n",
    "import pickle as pkl"
   ]
  },
  {
   "cell_type": "code",
   "execution_count": 20,
   "metadata": {},
   "outputs": [
    {
     "name": "stderr",
     "output_type": "stream",
     "text": [
      "100%|██████████| 31/31 [00:02<00:00, 11.51it/s]\n"
     ]
    }
   ],
   "source": [
    "all_nodes = set()\n",
    "for i in tqdm(range(0, 31)):\n",
    "    day = i % 31 + 1\n",
    "    month = i // 31 + 7\n",
    "    file_name = '2020-' + str(month).zfill(2) + '-' + str(day).zfill(2) + '.gexf'\n",
    "    file_path = f'contact_graphs/{file_name}'\n",
    "\n",
    "    G = nx.read_gexf(file_path)\n",
    "    all_nodes = all_nodes.union(set(G.nodes()))\n",
    "\n",
    "node_mapping = {node:i for i, node in enumerate(all_nodes)}\n",
    "# pickle the node mapping\n",
    "with open('node_mapping.pkl', 'wb') as f:\n",
    "    pkl.dump(node_mapping, f)"
   ]
  },
  {
   "cell_type": "code",
   "execution_count": 21,
   "metadata": {},
   "outputs": [
    {
     "name": "stderr",
     "output_type": "stream",
     "text": [
      "100%|██████████| 31/31 [00:02<00:00, 10.93it/s]\n"
     ]
    }
   ],
   "source": [
    "# create a csv file with the following columns: source,destination,timestamp,state_label,w\n",
    "\n",
    "# df = pd.DataFrame(columns=['source', 'destination', 'timestamp', 'state_label', 'w'])\n",
    "\n",
    "dfs = []\n",
    "# for i in tqdm(range(0, 62)):\n",
    "for i in tqdm(range(0, 31)):\n",
    "    day = i % 31 + 1\n",
    "    month = i // 31 + 7\n",
    "    file_name = '2020-' + str(month).zfill(2) + '-' + str(day).zfill(2) + '.gexf'\n",
    "    file_path = f'contact_graphs/{file_name}'\n",
    "\n",
    "    G = nx.read_gexf(file_path)\n",
    "    # iterate through all edges\n",
    "    # for edge in G.edges():\n",
    "    #     # add edge to dataframe\n",
    "    #     source = edge[0]\n",
    "    #     destination = edge[1]\n",
    "    #     timestamp = i\n",
    "    #     state_label = 0\n",
    "    #     w = 0\n",
    "    dfs.append(pd.DataFrame([{'source': node_mapping[edge[0]], 'destination': node_mapping[edge[1]], 'timestamp': i, 'state_label': 0, 'w': 0} for edge in G.edges()]))\n",
    "\n",
    "df = pd.concat(dfs)\n",
    "# sources = set(df['source']).union(set(df['destination']))\n",
    "# convert = {node:i for i, node in enumerate(sources)}\n",
    "# df = df.replace(convert)\n",
    "\n",
    "csv_file_path = 'data.csv'\n",
    "df.to_csv(csv_file_path, index=False)\n",
    "\n"
   ]
  },
  {
   "cell_type": "code",
   "execution_count": null,
   "metadata": {},
   "outputs": [],
   "source": []
  }
 ],
 "metadata": {
  "kernelspec": {
   "display_name": "DataScience",
   "language": "python",
   "name": "python3"
  },
  "language_info": {
   "codemirror_mode": {
    "name": "ipython",
    "version": 3
   },
   "file_extension": ".py",
   "mimetype": "text/x-python",
   "name": "python",
   "nbconvert_exporter": "python",
   "pygments_lexer": "ipython3",
   "version": "3.11.3"
  }
 },
 "nbformat": 4,
 "nbformat_minor": 2
}
