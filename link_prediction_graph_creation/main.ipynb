{
 "cells": [
  {
   "cell_type": "markdown",
   "metadata": {},
   "source": [
    "# Import Modules"
   ]
  },
  {
   "cell_type": "code",
   "execution_count": 1,
   "metadata": {},
   "outputs": [
    {
     "name": "stderr",
     "output_type": "stream",
     "text": [
      "/home/pintos/miniconda3/envs/DataScience/lib/python3.11/site-packages/tqdm/auto.py:22: TqdmWarning: IProgress not found. Please update jupyter and ipywidgets. See https://ipywidgets.readthedocs.io/en/stable/user_install.html\n",
      "  from .autonotebook import tqdm as notebook_tqdm\n"
     ]
    }
   ],
   "source": [
    "import pandas as pd\n",
    "import numpy as np\n",
    "import matplotlib.pyplot as plt\n",
    "import networkx as nx\n",
    "import torch\n",
    "import scipy.sparse as sp\n",
    "import torch.nn as nn\n",
    "from node2vec import Node2Vec\n",
    "import torch.nn.functional as F\n",
    "from sklearn.metrics import roc_auc_score\n",
    "import itertools\n",
    "import dgl"
   ]
  },
  {
   "cell_type": "markdown",
   "metadata": {},
   "source": [
    "# Import Data"
   ]
  },
  {
   "cell_type": "code",
   "execution_count": 6,
   "metadata": {},
   "outputs": [
    {
     "data": {
      "text/html": [
       "<div>\n",
       "<style scoped>\n",
       "    .dataframe tbody tr th:only-of-type {\n",
       "        vertical-align: middle;\n",
       "    }\n",
       "\n",
       "    .dataframe tbody tr th {\n",
       "        vertical-align: top;\n",
       "    }\n",
       "\n",
       "    .dataframe thead th {\n",
       "        text-align: right;\n",
       "    }\n",
       "</style>\n",
       "<table border=\"1\" class=\"dataframe\">\n",
       "  <thead>\n",
       "    <tr style=\"text-align: right;\">\n",
       "      <th></th>\n",
       "      <th>persistentid</th>\n",
       "      <th>venueid</th>\n",
       "      <th>utc_date</th>\n",
       "      <th>utc_hour</th>\n",
       "      <th>dwell</th>\n",
       "    </tr>\n",
       "  </thead>\n",
       "  <tbody>\n",
       "    <tr>\n",
       "      <th>0</th>\n",
       "      <td>2691ab5b6c9ba0ffe1fd7d09a623db93430c26f0b018f8...</td>\n",
       "      <td>40b52f80f964a52051001fe3</td>\n",
       "      <td>2020-08-15</td>\n",
       "      <td>18</td>\n",
       "      <td>8939</td>\n",
       "    </tr>\n",
       "    <tr>\n",
       "      <th>1</th>\n",
       "      <td>41d579df6be987aeaee224fc657e7f4e9fe9cff6e12403...</td>\n",
       "      <td>40b52f80f964a52051001fe3</td>\n",
       "      <td>2020-08-15</td>\n",
       "      <td>21</td>\n",
       "      <td>185</td>\n",
       "    </tr>\n",
       "    <tr>\n",
       "      <th>2</th>\n",
       "      <td>5cd56741546376e88b3e6d826d58eeaf5bafd33dcfc7f4...</td>\n",
       "      <td>40b52f80f964a52051001fe3</td>\n",
       "      <td>2020-08-23</td>\n",
       "      <td>19</td>\n",
       "      <td>2526</td>\n",
       "    </tr>\n",
       "    <tr>\n",
       "      <th>3</th>\n",
       "      <td>7918df0b005f4fb5b1ec9707f89da2477788aabf4a268d...</td>\n",
       "      <td>40b52f80f964a52051001fe3</td>\n",
       "      <td>2020-08-25</td>\n",
       "      <td>20</td>\n",
       "      <td>331</td>\n",
       "    </tr>\n",
       "    <tr>\n",
       "      <th>4</th>\n",
       "      <td>11ab84bc51dd4b8591715a5bd8818289b51eb5c56e65f7...</td>\n",
       "      <td>40b52f80f964a52051001fe3</td>\n",
       "      <td>2020-08-30</td>\n",
       "      <td>21</td>\n",
       "      <td>805</td>\n",
       "    </tr>\n",
       "  </tbody>\n",
       "</table>\n",
       "</div>"
      ],
      "text/plain": [
       "                                        persistentid  \\\n",
       "0  2691ab5b6c9ba0ffe1fd7d09a623db93430c26f0b018f8...   \n",
       "1  41d579df6be987aeaee224fc657e7f4e9fe9cff6e12403...   \n",
       "2  5cd56741546376e88b3e6d826d58eeaf5bafd33dcfc7f4...   \n",
       "3  7918df0b005f4fb5b1ec9707f89da2477788aabf4a268d...   \n",
       "4  11ab84bc51dd4b8591715a5bd8818289b51eb5c56e65f7...   \n",
       "\n",
       "                    venueid    utc_date  utc_hour  dwell  \n",
       "0  40b52f80f964a52051001fe3  2020-08-15        18   8939  \n",
       "1  40b52f80f964a52051001fe3  2020-08-15        21    185  \n",
       "2  40b52f80f964a52051001fe3  2020-08-23        19   2526  \n",
       "3  40b52f80f964a52051001fe3  2020-08-25        20    331  \n",
       "4  40b52f80f964a52051001fe3  2020-08-30        21    805  "
      ]
     },
     "execution_count": 6,
     "metadata": {},
     "output_type": "execute_result"
    }
   ],
   "source": [
    "# Import the data\n",
    "# df = pd.read_csv('../RVF_ATX_PID_HZ-2020-07.tsv', sep='\\t')\n",
    "df = pd.read_csv('../RVF_ATX_PID_HZ-2020-08.tsv', sep='\\t')\n",
    "# filter out certain columns\n",
    "df = df.drop(columns=['local_date', 'local_hour', 'gender', 'age', 'full_panel_reweighted_sag_score', 'home_zip'])\n",
    "# dwell_time_threshold = 60\n",
    "dwell_time_threshold = 0\n",
    "df = df[df['dwell'] >= dwell_time_threshold]\n",
    "df.head()"
   ]
  },
  {
   "cell_type": "markdown",
   "metadata": {},
   "source": [
    "# Generate 31 Contact networks, one for each day"
   ]
  },
  {
   "cell_type": "code",
   "execution_count": 7,
   "metadata": {},
   "outputs": [],
   "source": [
    "def add_edges_within_group(group, network):\n",
    "    # group is a dataframe\n",
    "    # G is a graph\n",
    "    # add edges between all pairs of nodes in the group\n",
    "    num_rows = group.shape[0]\n",
    "    if num_rows == 1:\n",
    "        return\n",
    "    for i in range(num_rows):\n",
    "        for j in range(i+1, num_rows):\n",
    "            # node1 = group.iloc[i]['persistentid']\n",
    "            # node2 = group.iloc[j]['persistentid']\n",
    "\n",
    "            node1 = group['persistentid'].iloc[i]\n",
    "            node2 = group['persistentid'].iloc[j]\n",
    "\n",
    "            # if G.has_edge(node1, node2):\n",
    "            #     G[node1][node2]['weight'] += 1\n",
    "            # else:\n",
    "            #     G.add_edge(node1, node2, weight=1)\n",
    "            if node1 != node2:\n",
    "                # G.add_edge(node1, node2)\n",
    "                network.loc[len(network)] = [node1, node2]\n",
    "            \n",
    "\n",
    "for i in range(31):\n",
    "    # date = '2020-07-' + str(i+1).zfill(2)\n",
    "    date = '2020-08-' + str(i+1).zfill(2)\n",
    "    # print(date)\n",
    "\n",
    "    # filter the data for date\n",
    "    df_date_filtered = df[df['utc_date'] == date]\n",
    "    # print(len(df_date_filtered))\n",
    "\n",
    "    # group the data by venue_id\n",
    "    df_date_filtered_grouped_by_venue = df_date_filtered.groupby(['venueid', 'utc_hour'])\n",
    "\n",
    "    network = pd.DataFrame(columns=['node1', 'node2'])\n",
    "    df_date_filtered_grouped_by_venue.apply(add_edges_within_group, network)\n",
    "\n",
    "    G = nx.from_pandas_edgelist(network, 'node1', 'node2')\n",
    "\n",
    "    # save the graph G as a .gexf file\n",
    "    target_file_location = f\"contact_graphs_no_dwell_threshold/{date}.gexf\"\n",
    "    nx.write_gexf(G, target_file_location)\n",
    "\n",
    "\n",
    "# def add_edges_within_group(group, G):\n",
    "#     # group is a dataframe\n",
    "#     # G is a graph\n",
    "#     # add edges between all pairs of nodes in the group\n",
    "#     num_rows = group.shape[0]\n",
    "#     if num_rows == 1:\n",
    "#         return\n",
    "#     for i in range(num_rows):\n",
    "#         for j in range(i+1, num_rows):\n",
    "#             node1 = group.iloc[i]['persistentid']\n",
    "#             node2 = group.iloc[j]['persistentid']\n",
    "#             # if G.has_edge(node1, node2):\n",
    "#             #     G[node1][node2]['weight'] += 1\n",
    "#             # else:\n",
    "#             #     G.add_edge(node1, node2, weight=1)\n",
    "#             if node1 != node2:\n",
    "#                 G.add_edge(node1, node2)\n",
    "            \n",
    "\n",
    "# for i in range(31):\n",
    "#     date = '2020-07-' + str(i+1).zfill(2)\n",
    "#     # print(date)\n",
    "\n",
    "#     # filter the data for date\n",
    "#     df_date_filtered = df[df['utc_date'] == date]\n",
    "#     # print(len(df_date_filtered))\n",
    "\n",
    "#     # group the data by venue_id\n",
    "#     df_date_filtered_grouped_by_venue = df_date_filtered.groupby(['venueid', 'utc_hour'])\n",
    "\n",
    "#     G = nx.Graph()\n",
    "#     df_date_filtered_grouped_by_venue.apply(add_edges_within_group, G=G)\n",
    "\n",
    "#     # save the graph G as a .gexf file\n",
    "#     target_file_location = f\"contact_graphs/{date}.gexf\"\n",
    "#     nx.write_gexf(G, target_file_location)\n",
    "\n"
   ]
  },
  {
   "cell_type": "code",
   "execution_count": 4,
   "metadata": {},
   "outputs": [
    {
     "name": "stdout",
     "output_type": "stream",
     "text": [
      "4838\n",
      "4102\n"
     ]
    }
   ],
   "source": [
    "print(G.number_of_edges())\n",
    "print(G.number_of_nodes())"
   ]
  }
 ],
 "metadata": {
  "kernelspec": {
   "display_name": "DataScience",
   "language": "python",
   "name": "python3"
  },
  "language_info": {
   "codemirror_mode": {
    "name": "ipython",
    "version": 3
   },
   "file_extension": ".py",
   "mimetype": "text/x-python",
   "name": "python",
   "nbconvert_exporter": "python",
   "pygments_lexer": "ipython3",
   "version": "3.11.3"
  }
 },
 "nbformat": 4,
 "nbformat_minor": 2
}
